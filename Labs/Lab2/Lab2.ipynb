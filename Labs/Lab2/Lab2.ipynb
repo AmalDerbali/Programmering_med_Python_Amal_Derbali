{
 "cells": [
  {
   "cell_type": "markdown",
   "source": [
    "# Laboration 2\r\n",
    "\r\n",
    "  - read the data and store the appropriate data structure\r\n",
    "  - plotting all the points with different colors together\r\n",
    "  - read test points\r\n",
    "  - calculate distance between test point and other points\r\n",
    "  - classification of test points"
   ],
   "metadata": {}
  },
  {
   "cell_type": "markdown",
   "source": [
    "## 1) Reading and cleaning the data"
   ],
   "metadata": {}
  },
  {
   "cell_type": "code",
   "execution_count": 2,
   "source": [
    "pika = \"Labs/Lab2/pikachu.txt\"\r\n",
    "pich = \"Labs/Lab2/pichu.txt\"\r\n",
    "\r\n",
    "import matplotlib.pyplot as plt\r\n",
    "import random as rnd\r\n",
    "\r\n",
    "with open (pika, \"r\") as f1:\r\n",
    "    pikachu_list = [pikachu.strip(\"\\n\") for pikachu in f1.readlines()] #Remove spaces\r\n",
    "    pikachu_list = [pikachu.split(\",\") for pikachu in pikachu_list] #the string should be splitted into lists\r\n",
    "    pikachu_list = [float(pikachu[0], pikachu[1]. replace (\"(\",\"\").replace(\")\",\"\")) for pikachu in pikachu_list] #change elements to floats and replace parenthisis with \"\".\r\n",
    "    pikachu_list.remove (\"(width (cm), height (cm))\") #remove the title\r\n",
    "\r\n",
    "with open (pich, \"r\") as f2:\r\n",
    "    pichu_list = [pichu.strip(\"\\n\") for pichu in f2.readlines()] \r\n",
    "    pichu_list = [pichu.split(\",\") for pichu in pichu_list] \r\n",
    "    pichu_list = [float(pichu[0], pichu[1]. replace (\"(\",\"\").replace(\")\",\"\")) for pichu in pichu_list]\r\n",
    "    pichu_list.remove (\"(width (cm), height (cm))\")\r\n",
    "\r\n",
    "\r\n",
    "#giving the width and the height by mentioning th first and the second elements\r\n",
    "pikachu_width = [pikachu[0] for pikachu in pikachu_list]\r\n",
    "pikachu_height = [pikachu[1] for pikachu in pikachu_list]\r\n",
    "pichu_width = [pichu[0] for pichu in pichu_list]\r\n",
    "pichu_height = [pichu[1] for pichu in pichu_list]\r\n",
    "\r\n",
    "# the type of plot is based on the link: https://dzone.com/articles/types-of-matplotlib-in-python\r\n",
    "plt.scatter(pikachu_width,pikachu_height, label=\"pikachu\",color=\"red\")\r\n",
    "plt.scatter(pichu_width,pichu_height,label=\"pichu\",color=\"blue\")\r\n",
    "plt.title(\"Sizes of Pikachu and Pichu\")\r\n",
    "plt.xlabel(\"Height in (cm)\")\r\n",
    "plt.ylabel(\"width in (cm)\")\r\n",
    "plt.show()\r\n",
    "\r\n",
    "\r\n",
    "\r\n",
    "\r\n",
    "\r\n",
    "\r\n",
    "    \r\n",
    "\r\n"
   ],
   "outputs": [
    {
     "output_type": "error",
     "ename": "FileNotFoundError",
     "evalue": "[Errno 2] No such file or directory: 'Labs/Lab2/pikachu.txt'",
     "traceback": [
      "\u001b[1;31m---------------------------------------------------------------------------\u001b[0m",
      "\u001b[1;31mFileNotFoundError\u001b[0m                         Traceback (most recent call last)",
      "\u001b[1;32mC:\\Users\\AMALDE~1\\AppData\\Local\\Temp/ipykernel_4576/1295789976.py\u001b[0m in \u001b[0;36m<module>\u001b[1;34m\u001b[0m\n\u001b[0;32m      5\u001b[0m \u001b[1;32mimport\u001b[0m \u001b[0mrandom\u001b[0m \u001b[1;32mas\u001b[0m \u001b[0mrnd\u001b[0m\u001b[1;33m\u001b[0m\u001b[1;33m\u001b[0m\u001b[0m\n\u001b[0;32m      6\u001b[0m \u001b[1;33m\u001b[0m\u001b[0m\n\u001b[1;32m----> 7\u001b[1;33m \u001b[1;32mwith\u001b[0m \u001b[0mopen\u001b[0m \u001b[1;33m(\u001b[0m\u001b[0mpika\u001b[0m\u001b[1;33m,\u001b[0m \u001b[1;34m\"r\"\u001b[0m\u001b[1;33m)\u001b[0m \u001b[1;32mas\u001b[0m \u001b[0mf1\u001b[0m\u001b[1;33m:\u001b[0m\u001b[1;33m\u001b[0m\u001b[1;33m\u001b[0m\u001b[0m\n\u001b[0m\u001b[0;32m      8\u001b[0m     \u001b[0mpikachu_list\u001b[0m \u001b[1;33m=\u001b[0m \u001b[1;33m[\u001b[0m\u001b[0mpikachu\u001b[0m\u001b[1;33m.\u001b[0m\u001b[0mstrip\u001b[0m\u001b[1;33m(\u001b[0m\u001b[1;34m\"\\n\"\u001b[0m\u001b[1;33m)\u001b[0m \u001b[1;32mfor\u001b[0m \u001b[0mpikachu\u001b[0m \u001b[1;32min\u001b[0m \u001b[0mf1\u001b[0m\u001b[1;33m.\u001b[0m\u001b[0mreadlines\u001b[0m\u001b[1;33m(\u001b[0m\u001b[1;33m)\u001b[0m\u001b[1;33m]\u001b[0m \u001b[1;31m#Remove spaces\u001b[0m\u001b[1;33m\u001b[0m\u001b[1;33m\u001b[0m\u001b[0m\n\u001b[0;32m      9\u001b[0m     \u001b[0mpikachu_list\u001b[0m \u001b[1;33m=\u001b[0m \u001b[1;33m[\u001b[0m\u001b[0mpikachu\u001b[0m\u001b[1;33m.\u001b[0m\u001b[0msplit\u001b[0m\u001b[1;33m(\u001b[0m\u001b[1;34m\",\"\u001b[0m\u001b[1;33m)\u001b[0m \u001b[1;32mfor\u001b[0m \u001b[0mpikachu\u001b[0m \u001b[1;32min\u001b[0m \u001b[0mpikachu_list\u001b[0m\u001b[1;33m]\u001b[0m \u001b[1;31m#the string should be splitted into lists\u001b[0m\u001b[1;33m\u001b[0m\u001b[1;33m\u001b[0m\u001b[0m\n",
      "\u001b[1;31mFileNotFoundError\u001b[0m: [Errno 2] No such file or directory: 'Labs/Lab2/pikachu.txt'"
     ]
    }
   ],
   "metadata": {}
  }
 ],
 "metadata": {
  "orig_nbformat": 4,
  "language_info": {
   "name": "python",
   "version": "3.9.6",
   "mimetype": "text/x-python",
   "codemirror_mode": {
    "name": "ipython",
    "version": 3
   },
   "pygments_lexer": "ipython3",
   "nbconvert_exporter": "python",
   "file_extension": ".py"
  },
  "kernelspec": {
   "name": "python3",
   "display_name": "Python 3.9.6 64-bit ('python_programering_Amal_Derbali-3tAF7EDp': pipenv)"
  },
  "interpreter": {
   "hash": "7d6c493d9be3ce9414559ad9bbf78b458bfd2ecad0291fac6402a6d619a9155a"
  }
 },
 "nbformat": 4,
 "nbformat_minor": 2
}