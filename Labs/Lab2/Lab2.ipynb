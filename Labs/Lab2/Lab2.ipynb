{
 "cells": [
  {
   "cell_type": "markdown",
   "source": [
    "# Laboration 2 : Pichu or Pikachu\r\n",
    "\r\n",
    "  - Read the data and store the appropriate data structure\r\n",
    "  - Plotting all the points with different colors together\r\n",
    "  - Read test points\r\n",
    "  - Calculate distance between test point and other points\r\n",
    "  - Classification of test points\r\n",
    "  - Checking accuracy"
   ],
   "metadata": {}
  },
  {
   "cell_type": "markdown",
   "source": [
    "#    Reading, cleaning and plotting the data"
   ],
   "metadata": {}
  },
  {
   "cell_type": "code",
   "execution_count": 4,
   "source": [
    "import matplotlib.pyplot as plt\r\n",
    "\r\n",
    "def clean_data(file, pokemon_type): #creating a function to clean de data\r\n",
    "    pokemon_list = [pokemon.strip(\"\\n\") for pokemon in file.readlines()] #Remove spaces  \r\n",
    "    pokemon_list.remove(\"(width (cm), height (cm))\") #remove the title\r\n",
    "    pokemon_list = [pokemon.replace(\"(\",\"\").replace(\")\", \"\") for pokemon in pokemon_list] #replace parenthesis with \"\"\r\n",
    "    pokemon_list = [pokemon.split(\",\") for pokemon in pokemon_list] #the string should be splitted into lists\r\n",
    "    pokemon_list = [[float(pokemon[0]), float(pokemon[1]), pokemon_type] for pokemon in pokemon_list] #change elements to floats\r\n",
    "    return pokemon_list\r\n",
    "\r\n",
    "with open(\"files/pichu.txt\", \"r\") as pichu, open(\"files/pikachu.txt\", \"r\") as pikachu:\r\n",
    "    pichu_list = clean_data(pichu, \"pichu\") #Reading, cleaning and joining the data\r\n",
    "    pikachu_list = clean_data(pikachu, \"pikachu\") \r\n",
    "    Pokemons = pichu_list + pikachu_list\r\n",
    "    print(len(Pokemons))\r\n",
    "\r\n",
    "     \r\n",
    "    pichu_width = [pichu[0] for pichu in pichu_list] #calling the first and second elements in order to create variables\r\n",
    "    pichu_height = [pichu[1] for pichu in pichu_list] \r\n",
    "    pikachu_width = [pikachu[0] for pikachu in pikachu_list] \r\n",
    "    pikachu_height = [pikachu[1] for pikachu in pikachu_list]\r\n",
    "    \r\n",
    "\r\n",
    "\r\n",
    "\r\n",
    "\r\n",
    "# the type of plot is based on the link: https://dzone.com/articles/types-of-matplotlib-in-python\r\n",
    "plt.scatter(pikachu_width,pikachu_height, label=\"pikachu\",color=\"red\")\r\n",
    "plt.scatter(pichu_width,pichu_height,label=\"pichu\",color=\"blue\")\r\n",
    "plt.title(\"Sizes of Pikachu and Pichu\")\r\n",
    "plt.xlabel(\"Height in (cm)\")\r\n",
    "plt.ylabel(\"width in (cm)\")\r\n",
    "plt.show()\r\n"
   ],
   "outputs": [
    {
     "output_type": "stream",
     "name": "stdout",
     "text": [
      "100\n"
     ]
    },
    {
     "output_type": "display_data",
     "data": {
      "image/png": "[encoded data removed]",
      "text/plain": [
       "<Figure size 432x288 with 1 Axes>"
      ]
     },
     "metadata": {
      "needs_background": "light"
     }
    }
   ],
   "metadata": {}
  },
  {
   "cell_type": "markdown",
   "source": [
    "#  Working on test points"
   ],
   "metadata": {}
  },
  {
   "cell_type": "markdown",
   "source": [
    "- Reading and cleaning test points data"
   ],
   "metadata": {}
  },
  {
   "cell_type": "code",
   "execution_count": 5,
   "source": [
    "with open(\"files/test_points.txt\", \"r\") as test:\r\n",
    "    test_points = test.readlines() \r\n",
    "    test_points = test_points[0].split(\")\") \r\n",
    "    test_points = [point.replace(\", (\", \"\").replace(\"(\", \"\") for point in test_points] \r\n",
    "    test_points = [point.split(\",\") for point in test_points] \r\n",
    "    del test_points[4] #remove element 4 (this is the last and empty element) from the list by specifying the position.\r\n",
    "    test_points = [[float(point[0]), float(point[1])] for point in test_points]   \r\n",
    "    print(test_points)"
   ],
   "outputs": [
    {
     "output_type": "stream",
     "name": "stdout",
     "text": [
      "[[25.0, 35.0], [15.0, 14.0], [26.0, 30.0], [22.0, 45.0]]\n"
     ]
    }
   ],
   "metadata": {}
  },
  {
   "cell_type": "markdown",
   "source": [
    "- Plotting all points"
   ],
   "metadata": {}
  },
  {
   "cell_type": "code",
   "execution_count": 6,
   "source": [
    "import matplotlib.pyplot as plt\r\n",
    "\r\n",
    "points_list_width = [point[0] for point in test_points]\r\n",
    "points_list_height = [point[1] for point in test_points]\r\n",
    "plt.scatter(points_list_width, points_list_height, label=\"test points\", color=\"green\")\r\n",
    "plt.scatter(pikachu_width,pikachu_height, label=\"pikachu\",color=\"red\")\r\n",
    "plt.scatter(pichu_width,pichu_height,label=\"pichu\",color=\"blue\")\r\n",
    "plt.title(\"Sizes of Pokemons and test points\")\r\n",
    "plt.xlabel(\"Height in (cm)\")\r\n",
    "plt.ylabel(\"width in (cm)\")\r\n",
    "plt.show()"
   ],
   "outputs": [
    {
     "output_type": "display_data",
     "data": {
      "image/png": "[encoded data removed]",
      "text/plain": [
       "<Figure size 432x288 with 1 Axes>"
      ]
     },
     "metadata": {
      "needs_background": "light"
     }
    }
   ],
   "metadata": {}
  },
  {
   "cell_type": "markdown",
   "source": [
    "- Calculating Euclidean distance and classification of test points based on the closest point"
   ],
   "metadata": {}
  },
  {
   "cell_type": "code",
   "execution_count": 7,
   "source": [
    "def euclidean(x1, y1, x2, y2): # creating function that calculates the euclidean distance between points.\r\n",
    "    return ((x2 - x1)**2 + (y2-y1)**2)**0.5\r\n",
    "\r\n",
    "def pichu_or_pikachu(test_point, data):#Based on the closest point, this function classifies the tested point as a Pichu or a Pikachu.\r\n",
    "    #Create a list that contains the euclidean distance between the test point and a point in the data.\r\n",
    "    distances = [[euclidean(test_point[0], test_point[1], point[0], point[1]), point[2]] for point in data] \r\n",
    "    distances.sort() #Sorts the list of distances by order\r\n",
    "    if distances[0][1] == \"pichu\": #If the element 1 in the list is Pikachu. \r\n",
    "        print(f\"Sample with (width, height): ({test_point[0]:.1f}, {test_point[1]:.1f}) is classified as Pichu.\")\r\n",
    "        return \"pichu\"\r\n",
    "    else:\r\n",
    "        print(f\"Sample with (width, height): ({test_point[0]:.1f}, {test_point[1]:.1f}) is classified as Pikachu.\")\r\n",
    "        return \"pikachu\"\r\n",
    "        \r\n",
    "for point in test_points:\r\n",
    "    pichu_or_pikachu(point, Pokemons)"
   ],
   "outputs": [
    {
     "output_type": "stream",
     "name": "stdout",
     "text": [
      "Sample with (width, height): (25.0, 35.0) is classified as Pikachu.\n",
      "Sample with (width, height): (15.0, 14.0) is classified as Pichu.\n",
      "Sample with (width, height): (26.0, 30.0) is classified as Pichu.\n",
      "Sample with (width, height): (22.0, 45.0) is classified as Pikachu.\n"
     ]
    }
   ],
   "metadata": {}
  },
  {
   "cell_type": "markdown",
   "source": [
    "#  Program making the user input a test point\r\n",
    " First, make sure the the user enter the right form "
   ],
   "metadata": {}
  },
  {
   "cell_type": "code",
   "execution_count": 27,
   "source": [
    "while True:\r\n",
    "    width = input(\"Enter the width of the pokemon please\")\r\n",
    "    height = input(\"Enter the height of the pokemon please\")\r\n",
    "    try: #vaules entered must be numeric and positive\r\n",
    "        if width.isalpha() or height.isalpha(): # make sure to put a number. https://careerkarma.com/blog/python-isalpha-isnumeric-isalnum/\r\n",
    "            raise ValueError (\"You can only put numbers\")\r\n",
    "        width = float(width) \r\n",
    "        height = float(height)\r\n",
    "\r\n",
    "        if width <= 0:\r\n",
    "            raise ValueError (\"width must be a positive number\")\r\n",
    "        elif height <= 0:\r\n",
    "            raise ValueError (\"height must be a positive number\")\r\n",
    "            \r\n",
    "        list_of_sizes= [width, height]\r\n",
    "        pichu_or_pikachu(list_of_sizes, Pokemons)\r\n",
    "        break\r\n",
    "    except ValueError as err:\r\n",
    "        print(err)"
   ],
   "outputs": [
    {
     "output_type": "stream",
     "name": "stdout",
     "text": [
      "You can only put numbers\n",
      "width must be a positive number\n",
      "Sample with (width, height): (30.0, 40.0) is classified as Pikachu.\n"
     ]
    }
   ],
   "metadata": {}
  },
  {
   "cell_type": "markdown",
   "source": [
    "# Classification based on five closest points"
   ],
   "metadata": {}
  },
  {
   "cell_type": "code",
   "execution_count": 9,
   "source": [
    "def pichu_or_pikachu_five(test_point, data): \r\n",
    "    # function that classifie the point tested if its pichu or pikachu based on the closest 5 points: \r\n",
    "    # if the 5 points are pichu so the tested point is pichu anf if the 5 points are pichu so the tested point is pichu.\r\n",
    "    distances = [[euclidean(test_point[0], test_point[1], point[0], point[1]), point[2]] for point in data] \r\n",
    "    distances.sort()\r\n",
    "    pokemons = [pokemon[1] for pokemon in distances[0:5]] #Adds the type of pokémon, for the five lowest values, to a list. https://stackoverflow.com/questions/509211/understanding-slice-notation\r\n",
    "    pichu_count = pokemons.count(\"pichu\") #Counts the number of the closest 5 pichus.\r\n",
    "    pikachu_count = pokemons.count(\"pikachu\") #Counts the number of the 5 closest pikachus.\r\n",
    "\r\n",
    "    if pichu_count > pikachu_count: #If the five closest points contain more Pichus than Pikachus.\r\n",
    "        print(f\"Sample with (width, height): ({test_point[0]:.0f}, {test_point[1]:.0f}) is classified as Pichu.\")\r\n",
    "        return \"pichu\"\r\n",
    "    else:\r\n",
    "        print(f\"Sample with (width, height): ({test_point[0]:.0f}, {test_point[1]:.0f}) is classified as Pikachu.\")\r\n",
    "        return \"pikachu\"\r\n",
    "\r\n",
    "for point in test_points:\r\n",
    "    pichu_or_pikachu_five(point, Pokemons)"
   ],
   "outputs": [
    {
     "output_type": "stream",
     "name": "stdout",
     "text": [
      "Sample with (width, height): (25, 35) is classified as Pikachu.\n",
      "Sample with (width, height): (15, 14) is classified as Pichu.\n",
      "Sample with (width, height): (26, 30) is classified as Pichu.\n",
      "Sample with (width, height): (22, 45) is classified as Pikachu.\n"
     ]
    }
   ],
   "metadata": {}
  },
  {
   "cell_type": "markdown",
   "source": [
    "# Calculating accuracy"
   ],
   "metadata": {}
  },
  {
   "cell_type": "code",
   "execution_count": 33,
   "source": [
    "import random as rnd\r\n",
    "def random_data(data, size_test): # The function takes a data and the size of the test data as parameters.\r\n",
    "    \r\n",
    "    training_index = rnd.sample(range(len(data)), size_test) #Creates a sample \r\n",
    "    training = [(data[index]) for index in training_index] # choose elements in the data based on the random numbers. \r\n",
    "\r\n",
    "    testing_index = [number for number in range(len(data)) if number not in training_index]  \r\n",
    "    #try it for numbers in the range and exclude the number that is not in the training_index. \r\n",
    "    testing = [(data[index]) for index in testing_index] \r\n",
    "    #the data points that are not part of the training data will be putted in a new data.\r\n",
    "\r\n",
    "    return training, testing"
   ],
   "outputs": [],
   "metadata": {}
  },
  {
   "cell_type": "code",
   "execution_count": 36,
   "source": [
    "def accuracy(training_data, test_data, function): \r\n",
    "    #The function picks a pokémon training data, a pokémon test data and a function.\r\n",
    "\r\n",
    "    right_pichu, right_pikachu = [], []\r\n",
    "    for actual_pokemon in test_data: \r\n",
    "        predicted_pokemon = function([actual_pokemon[0], actual_pokemon[1]], training_data) #activate the function\r\n",
    "        if predicted_pokemon == \"pikachu\": #the function predicted pikachu\r\n",
    "            if actual_pokemon[2] == predicted_pokemon: # if the actual pokémon is pikachu\r\n",
    "                right_pikachu.append(True) #True positive\r\n",
    "            else:\r\n",
    "                right_pikachu.append(False) #False positive\r\n",
    "        else: \r\n",
    "            if actual_pokemon[2] == predicted_pokemon: # if the actual pokémon is pichu\r\n",
    "                right_pichu.append(True) #True negative\r\n",
    "            else: \r\n",
    "                right_pichu.append(False) #False negative\r\n",
    "                \r\n",
    "    tp = right_pikachu.count(True)\r\n",
    "    tn = right_pichu.count(True)\r\n",
    "    fp = right_pikachu.count(False)\r\n",
    "    fn = right_pichu.count(False) \r\n",
    "    \r\n",
    "    accuracy = (tp + tn)/(tp + tn + fp + fn) \r\n",
    "    return accuracy"
   ],
   "outputs": [],
   "metadata": {}
  },
  {
   "cell_type": "code",
   "execution_count": 35,
   "source": [
    "# try the test\r\n",
    "pichu_training, pichu_testing = random_data(pichu_list, 45)\r\n",
    "pikachu_training, pikachu_testing = random_data(pikachu_list, 45)\r\n",
    "\r\n",
    "pokemon_training = pichu_training + pikachu_training #Create a list with the training data and a list with the testing data\r\n",
    "pokemon_testing = pichu_testing + pikachu_testing\r\n",
    "\r\n",
    "accuracy_point = accuracy(pokemon_training, pokemon_testing, pichu_or_pikachu)\r\n",
    "print(f\"The accuracy for the 'pichu_or_pikachu' function is {accuracy_point*100}%.\")\r\n",
    "accuracy_five_points = accuracy(pokemon_training, pokemon_testing, pichu_or_pikachu_five)\r\n",
    "print(f\"The accuracy for the 'pichu_or_pikachu_five' function is {accuracy_five_points*100}%.\")"
   ],
   "outputs": [
    {
     "output_type": "stream",
     "name": "stdout",
     "text": [
      "Sample with (width, height): (15.2, 27.1) is classified as Pichu.\n",
      "Sample with (width, height): (17.2, 27.7) is classified as Pichu.\n",
      "Sample with (width, height): (16.7, 34.9) is classified as Pichu.\n",
      "Sample with (width, height): (21.6, 35.0) is classified as Pichu.\n",
      "Sample with (width, height): (15.6, 25.6) is classified as Pichu.\n",
      "Sample with (width, height): (27.2, 44.4) is classified as Pikachu.\n",
      "Sample with (width, height): (24.5, 40.7) is classified as Pikachu.\n",
      "Sample with (width, height): (28.5, 39.2) is classified as Pikachu.\n",
      "Sample with (width, height): (18.7, 41.7) is classified as Pikachu.\n",
      "Sample with (width, height): (20.5, 43.6) is classified as Pikachu.\n",
      "The accuracy for the 'pichu_or_pikachu' function is 100.0%.\n",
      "Sample with (width, height): (15, 27) is classified as Pichu.\n",
      "Sample with (width, height): (17, 28) is classified as Pichu.\n",
      "Sample with (width, height): (17, 35) is classified as Pichu.\n",
      "Sample with (width, height): (22, 35) is classified as Pichu.\n",
      "Sample with (width, height): (16, 26) is classified as Pichu.\n",
      "Sample with (width, height): (27, 44) is classified as Pikachu.\n",
      "Sample with (width, height): (24, 41) is classified as Pikachu.\n",
      "Sample with (width, height): (29, 39) is classified as Pikachu.\n",
      "Sample with (width, height): (19, 42) is classified as Pikachu.\n",
      "Sample with (width, height): (21, 44) is classified as Pikachu.\n",
      "The accuracy for the 'pichu_or_pikachu_five' function is 100.0%.\n"
     ]
    }
   ],
   "metadata": {}
  }
 ],
 "metadata": {
  "orig_nbformat": 4,
  "language_info": {
   "name": "python",
   "version": "3.9.6",
   "mimetype": "text/x-python",
   "codemirror_mode": {
    "name": "ipython",
    "version": 3
   },
   "pygments_lexer": "ipython3",
   "nbconvert_exporter": "python",
   "file_extension": ".py"
  },
  "kernelspec": {
   "name": "python3",
   "display_name": "Python 3.9.6 64-bit ('python_programering_Amal_Derbali-3tAF7EDp': pipenv)"
  },
  "interpreter": {
   "hash": "7d6c493d9be3ce9414559ad9bbf78b458bfd2ecad0291fac6402a6d619a9155a"
  }
 },
 "nbformat": 4,
 "nbformat_minor": 2
}