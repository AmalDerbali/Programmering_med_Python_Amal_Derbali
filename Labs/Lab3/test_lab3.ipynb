{
 "cells": [
  {
   "cell_type": "code",
   "execution_count": 2,
   "source": [
    "from lab3 import GeometricClass\r\n",
    "from lab3 import Circle\r\n",
    "from lab3 import Rectangle\r\n",
    "cirkel1 = Circle(1.0, 0.0, 0.0) # enhetscirkel\r\n",
    "cirkel2 = Circle(1.0, 1.0, 1.0)\r\n",
    "rektangel = Rectangle(1.0, 1.0, 2.0, 2.0)\r\n",
    "print(cirkel1==cirkel2) \r\n",
    "print(cirkel2==rektangel) \r\n",
    "print(cirkel1.point_inside_circle(0.5, 0.5)) # True\r\n",
    "cirkel1.translate(5.0, 5.0)\r\n",
    "print(cirkel1.point_inside_circle(0.5, 0.5)) # False\r\n",
    "cirkel1.translate(\"TRE\",5) "
   ],
   "outputs": [
    {
     "output_type": "stream",
     "name": "stdout",
     "text": [
      "True\n",
      "False\n",
      "True\n"
     ]
    }
   ],
   "metadata": {}
  }
 ],
 "metadata": {
  "orig_nbformat": 4,
  "language_info": {
   "name": "python",
   "version": "3.9.6",
   "mimetype": "text/x-python",
   "codemirror_mode": {
    "name": "ipython",
    "version": 3
   },
   "pygments_lexer": "ipython3",
   "nbconvert_exporter": "python",
   "file_extension": ".py"
  },
  "kernelspec": {
   "name": "python3",
   "display_name": "Python 3.9.6 64-bit ('python_programering_Amal_Derbali-3tAF7EDp': pipenv)"
  },
  "interpreter": {
   "hash": "7d6c493d9be3ce9414559ad9bbf78b458bfd2ecad0291fac6402a6d619a9155a"
  }
 },
 "nbformat": 4,
 "nbformat_minor": 2
}