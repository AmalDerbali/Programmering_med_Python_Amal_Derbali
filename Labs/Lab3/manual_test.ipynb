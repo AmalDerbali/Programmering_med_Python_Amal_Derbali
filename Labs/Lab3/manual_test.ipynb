{
 "cells": [
  {
   "cell_type": "code",
   "execution_count": 4,
   "source": [
    "from geometry_shapes import GeometricClass \r\n",
    "from geometry_shapes import Circle\r\n",
    "from geometry_shapes import Rectangle\r\n",
    "from sphere import Sphere\r\n",
    "from cube import Cube\r\n"
   ],
   "outputs": [],
   "metadata": {}
  },
  {
   "cell_type": "code",
   "execution_count": 5,
   "source": [
    "\r\n",
    "cirkel1 = Circle(1.0, 0.0, 0.0) # enhetscirkel\r\n",
    "cirkel2 = Circle(1.0, 1.0, 1.0)\r\n",
    "rektangel = Rectangle(1.0, 1.0, 0.0, 0.0)\r\n",
    "print(cirkel1==cirkel2) \r\n",
    "print(cirkel2==rektangel) \r\n",
    "print(cirkel1.point_inside_circle(0.5, 0.5)) # True\r\n",
    "cirkel1.translate(5.0, 5.0)\r\n",
    "print(cirkel1.point_inside_circle(0.5, 0.5)) # False\r\n",
    "cirkel1.translate(\"TRE\",5.0) "
   ],
   "outputs": [
    {
     "output_type": "stream",
     "name": "stdout",
     "text": [
      "True\n",
      "False\n",
      "True\n",
      "False\n"
     ]
    },
    {
     "output_type": "error",
     "ename": "ValueError",
     "evalue": "The value new_x must be int or float",
     "traceback": [
      "\u001b[1;31m---------------------------------------------------------------------------\u001b[0m",
      "\u001b[1;31mValueError\u001b[0m                                Traceback (most recent call last)",
      "\u001b[1;32mC:\\Users\\AMALDE~1\\AppData\\Local\\Temp/ipykernel_13364/2016147448.py\u001b[0m in \u001b[0;36m<module>\u001b[1;34m\u001b[0m\n\u001b[0;32m      7\u001b[0m \u001b[0mcirkel1\u001b[0m\u001b[1;33m.\u001b[0m\u001b[0mtranslate\u001b[0m\u001b[1;33m(\u001b[0m\u001b[1;36m5.0\u001b[0m\u001b[1;33m,\u001b[0m \u001b[1;36m5.0\u001b[0m\u001b[1;33m)\u001b[0m\u001b[1;33m\u001b[0m\u001b[1;33m\u001b[0m\u001b[0m\n\u001b[0;32m      8\u001b[0m \u001b[0mprint\u001b[0m\u001b[1;33m(\u001b[0m\u001b[0mcirkel1\u001b[0m\u001b[1;33m.\u001b[0m\u001b[0mpoint_inside_circle\u001b[0m\u001b[1;33m(\u001b[0m\u001b[1;36m0.5\u001b[0m\u001b[1;33m,\u001b[0m \u001b[1;36m0.5\u001b[0m\u001b[1;33m)\u001b[0m\u001b[1;33m)\u001b[0m \u001b[1;31m# False\u001b[0m\u001b[1;33m\u001b[0m\u001b[1;33m\u001b[0m\u001b[0m\n\u001b[1;32m----> 9\u001b[1;33m \u001b[0mcirkel1\u001b[0m\u001b[1;33m.\u001b[0m\u001b[0mtranslate\u001b[0m\u001b[1;33m(\u001b[0m\u001b[1;34m\"TRE\"\u001b[0m\u001b[1;33m,\u001b[0m\u001b[1;36m5.0\u001b[0m\u001b[1;33m)\u001b[0m\u001b[1;33m\u001b[0m\u001b[1;33m\u001b[0m\u001b[0m\n\u001b[0m",
      "\u001b[1;32mc:\\Users\\Amal Derbali\\Documents\\GitHub\\Programmering-med-Python-21\\code_alongs\\python_programering_Amal_Derbali\\Labs\\Lab3\\geometry_shapes.py\u001b[0m in \u001b[0;36mtranslate\u001b[1;34m(self, new_x, new_y)\u001b[0m\n\u001b[0;32m     35\u001b[0m     \u001b[1;31m# function to be able to change x and y values to new ones.\u001b[0m\u001b[1;33m\u001b[0m\u001b[1;33m\u001b[0m\u001b[1;33m\u001b[0m\u001b[0m\n\u001b[0;32m     36\u001b[0m         \u001b[1;32mif\u001b[0m \u001b[1;32mnot\u001b[0m \u001b[0misinstance\u001b[0m \u001b[1;33m(\u001b[0m\u001b[0mnew_x\u001b[0m\u001b[1;33m,\u001b[0m \u001b[1;33m(\u001b[0m\u001b[0mint\u001b[0m\u001b[1;33m,\u001b[0m \u001b[0mfloat\u001b[0m\u001b[1;33m)\u001b[0m\u001b[1;33m)\u001b[0m\u001b[1;33m:\u001b[0m\u001b[1;33m\u001b[0m\u001b[1;33m\u001b[0m\u001b[0m\n\u001b[1;32m---> 37\u001b[1;33m             \u001b[1;32mraise\u001b[0m \u001b[0mValueError\u001b[0m \u001b[1;33m(\u001b[0m\u001b[1;34m\"The value new_x must be int or float\"\u001b[0m\u001b[1;33m)\u001b[0m\u001b[1;33m\u001b[0m\u001b[1;33m\u001b[0m\u001b[0m\n\u001b[0m\u001b[0;32m     38\u001b[0m         \u001b[1;32mif\u001b[0m \u001b[1;32mnot\u001b[0m \u001b[0misinstance\u001b[0m \u001b[1;33m(\u001b[0m\u001b[0mnew_y\u001b[0m\u001b[1;33m,\u001b[0m \u001b[1;33m(\u001b[0m\u001b[0mint\u001b[0m\u001b[1;33m,\u001b[0m \u001b[0mfloat\u001b[0m\u001b[1;33m)\u001b[0m\u001b[1;33m)\u001b[0m\u001b[1;33m:\u001b[0m\u001b[1;33m\u001b[0m\u001b[1;33m\u001b[0m\u001b[0m\n\u001b[0;32m     39\u001b[0m             \u001b[1;32mraise\u001b[0m \u001b[0mValueError\u001b[0m \u001b[1;33m(\u001b[0m\u001b[1;34m\"The value new_y must be int or float\"\u001b[0m\u001b[1;33m)\u001b[0m\u001b[1;33m\u001b[0m\u001b[1;33m\u001b[0m\u001b[0m\n",
      "\u001b[1;31mValueError\u001b[0m: The value new_x must be int or float"
     ]
    }
   ],
   "metadata": {}
  },
  {
   "cell_type": "code",
   "execution_count": null,
   "source": [
    "rektangel1 = Rectangle(1.0, 1.0, 0.0, 0.0) \r\n",
    "print(rektangel1.point_inside_rectangle(0.5, 0.5))\r\n",
    "rektangel1.translate(5.0, 5.0)\r\n",
    "print(rektangel1.point_inside_rectangle( 0.5, 0.5))"
   ],
   "outputs": [
    {
     "output_type": "stream",
     "name": "stdout",
     "text": [
      "True\n",
      "False\n"
     ]
    }
   ],
   "metadata": {}
  },
  {
   "cell_type": "code",
   "execution_count": 10,
   "source": [
    "from sphere import Sphere\r\n",
    "from geometry_shapes import Rectangle\r\n",
    "\r\n",
    "sphere1 = Sphere(1, 0, 0, 0) \r\n",
    "sphere2 = Sphere(2, 2, 1, 2)\r\n",
    "rektangel1 = Rectangle(1.0, 1.0, 0.0, 0.0)\r\n",
    "\r\n",
    "\r\n",
    "print(sphere1.surface_area_sphere())\r\n",
    "print(sphere2.surface_area_sphere())\r\n",
    "\r\n",
    "print(sphere1.volume_sphere())\r\n",
    "print(sphere2.volume_sphere())\r\n",
    "\r\n",
    " \r\n",
    "print(sphere1.point_inside_sphere(0.5, 0.6, 0.6)) \r\n",
    "print(sphere2.point_inside_sphere(0.1, 0.1, 0.1))\r\n",
    "print(sphere1==sphere2)"
   ],
   "outputs": [
    {
     "output_type": "stream",
     "name": "stdout",
     "text": [
      "12.566370614359172\n",
      "50.26548245743669\n",
      "4.1887902047863905\n",
      "33.510321638291124\n",
      "True\n",
      "False\n",
      "False\n"
     ]
    }
   ],
   "metadata": {}
  },
  {
   "cell_type": "code",
   "execution_count": 20,
   "source": [
    "cube1 = Cube(1, 0, 0, 0)\r\n",
    "\r\n",
    "print(cube1.point_inside_cube(0.5, 0.5, 0.5))\r\n",
    "print(cube1.point_inside_cube(0.6, 0.5, 0.5))\r\n",
    "\r\n",
    "cube2 = Cube(2, 1, 2, 1)\r\n",
    "print(cube1.surface_area_cube())\r\n",
    "print(cube2.surface_area_cube())\r\n",
    "\r\n",
    "print(cube1.volume_cube())\r\n",
    "print(cube2.volume_cube())\r\n",
    "\r\n",
    "print(cube1==cube2)\r\n",
    "print(cube1==sphere1)"
   ],
   "outputs": [
    {
     "output_type": "stream",
     "name": "stdout",
     "text": [
      "True\n",
      "False\n",
      "6\n",
      "24\n",
      "1\n",
      "8\n",
      "False\n",
      "False\n"
     ]
    }
   ],
   "metadata": {}
  }
 ],
 "metadata": {
  "orig_nbformat": 4,
  "language_info": {
   "name": "python",
   "version": "3.9.6",
   "mimetype": "text/x-python",
   "codemirror_mode": {
    "name": "ipython",
    "version": 3
   },
   "pygments_lexer": "ipython3",
   "nbconvert_exporter": "python",
   "file_extension": ".py"
  },
  "kernelspec": {
   "name": "python3",
   "display_name": "Python 3.9.6 64-bit ('python_programering_Amal_Derbali-3tAF7EDp': pipenv)"
  },
  "interpreter": {
   "hash": "7d6c493d9be3ce9414559ad9bbf78b458bfd2ecad0291fac6402a6d619a9155a"
  }
 },
 "nbformat": 4,
 "nbformat_minor": 2
}