{
 "cells": [
  {
   "cell_type": "markdown",
   "source": [
    "# For loop"
   ],
   "metadata": {}
  },
  {
   "cell_type": "markdown",
   "source": [
    " -\"Foreach\" loop\r\n",
    " in other languages: for(int i=0; i<10; i++>)\r\n",
    " in python: for i in range{10}"
   ],
   "metadata": {}
  },
  {
   "cell_type": "code",
   "execution_count": 3,
   "source": [
    "for i in range(10) :\r\n",
    "    print( i, end = \" \")\r\n",
    "\r\n",
    "print()\r\n",
    "\r\n",
    "for i in range (1,20,3):\r\n",
    "    print (i, end= \" \")\r\n",
    "\r\n",
    "\r\n",
    "print (f\"/n (range(10)\")\r\n",
    "print(f\"En lista från range(10): {list(range(10))}\")\r\n",
    "\r\n"
   ],
   "outputs": [
    {
     "output_type": "stream",
     "name": "stdout",
     "text": [
      "0 1 2 3 4 5 6 7 8 9 \n",
      "1 4 7 10 13 16 19 /n (range(10)\n",
      "En lista från range(10): [0, 1, 2, 3, 4, 5, 6, 7, 8, 9]\n"
     ]
    }
   ],
   "metadata": {}
  },
  {
   "cell_type": "markdown",
   "source": [
    "Dice simulations\r\n",
    "- calculate probability of dice roll 6\r\n",
    "$$\r\n",
    "p(roll 6 = /frac{\\})\r\n",
    "$$"
   ],
   "metadata": {}
  },
  {
   "cell_type": "code",
   "execution_count": 7,
   "source": [
    "import random as rnd\r\n",
    "num_six, dice_rolls = 0, 10000\r\n",
    "\r\n",
    "# count number of six\r\n",
    "for i in range (dice_rolls):\r\n",
    "    dice = rnd.randint(1,6)\r\n",
    "    if dice == 6:\r\n",
    "        num_six += 1\r\n",
    "\r\n",
    "print(f\"number of six {num_six} in {dice_rolls} dice rolls\")\r\n",
    "print(f\"probability of six {num_six/dice_rolls}\")\r\n",
    "\r\n",
    "print(f\"Theoretical probability {1/6}\")\r\n"
   ],
   "outputs": [
    {
     "output_type": "stream",
     "name": "stdout",
     "text": [
      "number of six 1576 in 10000 dice rolls\n",
      "probability of six 0.1576\n",
      "Theoretical probability 0.16666666666666666\n"
     ]
    }
   ],
   "metadata": {}
  },
  {
   "cell_type": "markdown",
   "source": [
    "Loop through list"
   ],
   "metadata": {}
  },
  {
   "cell_type": "code",
   "execution_count": null,
   "source": [
    "fruits = [\"apple\", \"orange\", \"grape\", \"strawberry\"]\r\n",
    "\r\n",
    "print(\"I love to eat\")\r\n",
    "for fruit in fruits: # variable fruit will contain a value at a time from fruits\r\n",
    "    print(fruit)"
   ],
   "outputs": [],
   "metadata": {}
  }
 ],
 "metadata": {
  "orig_nbformat": 4,
  "language_info": {
   "name": "python",
   "version": "3.9.6",
   "mimetype": "text/x-python",
   "codemirror_mode": {
    "name": "ipython",
    "version": 3
   },
   "pygments_lexer": "ipython3",
   "nbconvert_exporter": "python",
   "file_extension": ".py"
  },
  "kernelspec": {
   "name": "python3",
   "display_name": "Python 3.9.6 64-bit"
  },
  "interpreter": {
   "hash": "eacaffae8a739d4b7c9a2bb010540ab3fb2fd534d4d9d1bb6421b24cb8b2e27c"
  }
 },
 "nbformat": 4,
 "nbformat_minor": 2
}