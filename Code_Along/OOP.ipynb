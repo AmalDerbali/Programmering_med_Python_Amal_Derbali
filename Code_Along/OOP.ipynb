{
 "cells": [
  {
   "cell_type": "markdown",
   "source": [
    "## OOP bsics"
   ],
   "metadata": {}
  },
  {
   "cell_type": "code",
   "execution_count": 25,
   "source": [
    "class Antagning: # creates a class\r\n",
    "    def __int__(self):\r\n",
    "        pass\r\n",
    "\r\n",
    "a1= Antagning() # instaniated an oject from the lass Antagning\r\n",
    "print(a1)"
   ],
   "outputs": [
    {
     "output_type": "stream",
     "name": "stdout",
     "text": [
      "<__main__.Antagning object at 0x000001F4D5CB9A00>\n"
     ]
    }
   ],
   "metadata": {}
  },
  {
   "cell_type": "code",
   "execution_count": 26,
   "source": [
    "\r\n",
    "class Antagning:\r\n",
    "    # self refers to the object that is created\r\n",
    "    # for functions or methods - positional parameter first, then default parameter\r\n",
    "    def __init__(self, school, program, name, accept=False) -> None: # dunder init\r\n",
    "        # assigns arguments to the objects attributes (egenskaper/variabler)\r\n",
    "        self.school = school\r\n",
    "        self.program = program\r\n",
    "        self.name = name \r\n",
    "        self.accept = accept\r\n",
    "    \r\n",
    "    def __repr__ (self): #dunder __repr__ read: \"repper\"\r\n",
    "        return f\"Antagning(school={self.school}, program={self.program}, name={self.name}, accept={self.accept})\"\r\n",
    "\r\n",
    "\r\n",
    "person1 = Antagning(\"Cool school\", \"AI\", \"Gore Bord\", False) # constructor\r\n",
    "person2 = Antagning(\"IT-skola\", \" UX\", name =\"Gorat Borat\")\r\n",
    "print(person1.name)\r\n",
    "print(person1.school)\r\n",
    "print(person1.__dict__) # dunder dict\r\n",
    "print(person2.accept)\r\n",
    "\r\n",
    "print(person2)"
   ],
   "outputs": [
    {
     "output_type": "stream",
     "name": "stdout",
     "text": [
      "Gore Bord\n",
      "Cool school\n",
      "{'school': 'Cool school', 'program': 'AI', 'name': 'Gore Bord', 'accept': False}\n",
      "False\n",
      "Antagning(school=IT-skola, program= UX, name=Gorat Borat, accept=False)\n"
     ]
    }
   ],
   "metadata": {}
  },
  {
   "cell_type": "markdown",
   "source": [
    "# exempel old coins in Sweden"
   ],
   "metadata": {}
  },
  {
   "cell_type": "code",
   "execution_count": 27,
   "source": [
    "class OldCoinsStash:\r\n",
    "    def __init__(self, owner) -> None:\r\n",
    "        #these attributes are public\r\n",
    "        self.owner = owner\r\n",
    "        self.riksdaler = 0\r\n",
    "        self.skilling = 0\r\n",
    "\r\n",
    "stash1 = OldCoinsStash (\"Gore Bord\")\r\n",
    "print(stash1.riksdaler)\r\n",
    "stash1.riksdaler = 1000\r\n",
    "print(stash1.riksdaler)\r\n"
   ],
   "outputs": [
    {
     "output_type": "stream",
     "name": "stdout",
     "text": [
      "0\n",
      "1000\n"
     ]
    }
   ],
   "metadata": {}
  },
  {
   "cell_type": "markdown",
   "source": [
    "## encapsulation\r\n",
    "- in OOP, you want to encapsulate some informationsand only show relavant informations outwards"
   ],
   "metadata": {}
  },
  {
   "cell_type": "code",
   "execution_count": 28,
   "source": [
    "class OldCoinsStash:\r\n",
    "    def __init__(self, owner : str) -> None:\r\n",
    "        #these attributes are public\r\n",
    "        self.owner = owner\r\n",
    "        #private : by conventions use underscore prefix(_)\r\n",
    "        self._riksdaler = 0         \r\n",
    "        self._skilling = 0\r\n",
    "    def deposit(self, riksdaler = float, skilling = float) -> None:\r\n",
    "        if riksdaler <= 0 or skilling <= 0:\r\n",
    "            raise ValueError(f\"Stop depositing negative value.{riksdaler} or {skilling} not okay\")\r\n",
    "        \r\n",
    "        self._riksdaler += riksdaler\r\n",
    "        self._skilling += skilling\r\n",
    "    def withdraw(self, riksdaler = float, skilling = float) -> None:\r\n",
    "        if riksdaler > self._riksdaler or skilling > self._skilling:\r\n",
    "            raise ValueError(\"You can't withdraw more coins than you have\")\r\n",
    "        self._riksdaler -= riksdaler\r\n",
    "        self._skilling -= skilling\r\n",
    "    def check_balance(self) ->str: #(retunerar string)\r\n",
    "        return f\"Coins in stash: {self._riksdaler} riskdaler and {self._skilling} skillingar\"\r\n",
    "    def __repr__(self) ->str:\r\n",
    "        return f\"OldCoinsStash (owner='{self.owner}')\"\r\n",
    "\r\n",
    "stash1= OldCoinsStash (\"Gore Bod\") \r\n",
    "print(stash1) #testing __repr__\r\n",
    "print(stash1.check_balance()) #testing check_balance()\r\n",
    "stash1.deposit(riksdaler = 500, skilling = 3000) #testing deposit()\r\n",
    "print(stash1.check_balance())\r\n",
    "\r\n",
    "try:\r\n",
    "    stash1.deposit (-20,35)\r\n",
    "except ValueError as err:\r\n",
    "    print(err)\r\n",
    "\r\n",
    "print (stash1.withdraw(100,100))\r\n",
    "print(stash1.check_balance())\r\n",
    "\r\n",
    "try:\r\n",
    "    stash1.withdraw (200000000,350000000) #try to rob the stash\r\n",
    "except ValueError as err:\r\n",
    "    print(err)\r\n",
    "\r\n",
    "print(stash1.check_balance())\r\n"
   ],
   "outputs": [
    {
     "output_type": "stream",
     "name": "stdout",
     "text": [
      "OldCoinsStash (owner='Gore Bod')\n",
      "Coins in stash: 0 riskdaler and 0 skillingar\n",
      "Coins in stash: 500 riskdaler and 3000 skillingar\n",
      "Stop depositing negative value.-20 or 35 not okay\n",
      "None\n",
      "Coins in stash: 400 riskdaler and 2900 skillingar\n",
      "You can't withdraw more coins than you have\n",
      "Coins in stash: 400 riskdaler and 2900 skillingar\n"
     ]
    }
   ],
   "metadata": {}
  }
 ],
 "metadata": {
  "orig_nbformat": 4,
  "language_info": {
   "name": "python",
   "version": "3.9.6",
   "mimetype": "text/x-python",
   "codemirror_mode": {
    "name": "ipython",
    "version": 3
   },
   "pygments_lexer": "ipython3",
   "nbconvert_exporter": "python",
   "file_extension": ".py"
  },
  "kernelspec": {
   "name": "python3",
   "display_name": "Python 3.9.6 64-bit ('python_programering_Amal_Derbali-3tAF7EDp': pipenv)"
  },
  "interpreter": {
   "hash": "7d6c493d9be3ce9414559ad9bbf78b458bfd2ecad0291fac6402a6d619a9155a"
  }
 },
 "nbformat": 4,
 "nbformat_minor": 2
}