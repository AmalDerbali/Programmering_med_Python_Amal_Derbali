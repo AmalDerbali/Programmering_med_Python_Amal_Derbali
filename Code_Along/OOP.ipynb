{
 "cells": [
  {
   "cell_type": "markdown",
   "source": [
    "## OOP bsics"
   ],
   "metadata": {}
  },
  {
   "cell_type": "code",
   "execution_count": 32,
   "source": [
    "class Antagning: # creates a class\r\n",
    "    def __int__(self):\r\n",
    "        pass\r\n",
    "\r\n",
    "a1= Antagning() # instaniated an oject from the lass Antagning\r\n",
    "print(a1)"
   ],
   "outputs": [
    {
     "output_type": "stream",
     "name": "stdout",
     "text": [
      "<__main__.Antagning object at 0x0000024713AE8EE0>\n"
     ]
    }
   ],
   "metadata": {}
  },
  {
   "cell_type": "code",
   "execution_count": 44,
   "source": [
    "\r\n",
    "class Antagning:\r\n",
    "    # self refers to the object that is created\r\n",
    "    # for functions or methods - positional parameter first, then default parameter\r\n",
    "    def __init__(self, school, program, name, accept=False) -> None: # dunder init\r\n",
    "        # assigns arguments to the objects attributes (egenskaper/variabler)\r\n",
    "        self.school = school\r\n",
    "        self.program = program\r\n",
    "        self.name = name \r\n",
    "        self.accept = accept\r\n",
    "\r\n",
    "\r\n",
    "person1 = Antagning(\"Cool school\", \"AI\", \"Gore Bord\", False) # constructor\r\n",
    "person2 = Antagning(\"IT-skola\", \" UX\", name =\"Gorat Borat\")\r\n",
    "print(person1.name)\r\n",
    "print(person1.school)\r\n",
    "print(person1.__dict__) # dunder dict\r\n",
    "print(person2.accept)\r\n"
   ],
   "outputs": [
    {
     "output_type": "stream",
     "name": "stdout",
     "text": [
      "Gore Bord\n",
      "Cool school\n",
      "{'school': 'Cool school', 'program': 'AI', 'name': 'Gore Bord', 'accept': False}\n",
      "False\n"
     ]
    }
   ],
   "metadata": {}
  }
 ],
 "metadata": {
  "orig_nbformat": 4,
  "language_info": {
   "name": "python",
   "version": "3.9.6",
   "mimetype": "text/x-python",
   "codemirror_mode": {
    "name": "ipython",
    "version": 3
   },
   "pygments_lexer": "ipython3",
   "nbconvert_exporter": "python",
   "file_extension": ".py"
  },
  "kernelspec": {
   "name": "python3",
   "display_name": "Python 3.9.6 64-bit ('python_programering_Amal_Derbali-3tAF7EDp': pipenv)"
  },
  "interpreter": {
   "hash": "7d6c493d9be3ce9414559ad9bbf78b458bfd2ecad0291fac6402a6d619a9155a"
  }
 },
 "nbformat": 4,
 "nbformat_minor": 2
}