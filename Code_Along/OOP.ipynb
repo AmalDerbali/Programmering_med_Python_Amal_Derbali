{
 "cells": [
  {
   "cell_type": "markdown",
   "source": [
    "## OOP bsics"
   ],
   "metadata": {}
  },
  {
   "cell_type": "code",
   "execution_count": 16,
   "source": [
    "class Antagning: # creates a class\r\n",
    "    def __int__(self):\r\n",
    "        pass\r\n",
    "\r\n",
    "a1= Antagning() # instaniated an oject from the lass Antagning\r\n",
    "print(a1)"
   ],
   "outputs": [
    {
     "output_type": "stream",
     "name": "stdout",
     "text": [
      "<__main__.Antagning object at 0x0000025C182EE160>\n"
     ]
    }
   ],
   "metadata": {}
  },
  {
   "cell_type": "code",
   "execution_count": 17,
   "source": [
    "\r\n",
    "class Antagning:\r\n",
    "    # self refers to the object that is created\r\n",
    "    # for functions or methods - positional parameter first, then default parameter\r\n",
    "    def __init__(self, school, program, name, accept=False) -> None: # dunder init\r\n",
    "        # assigns arguments to the objects attributes (egenskaper/variabler)\r\n",
    "        self.school = school\r\n",
    "        self.program = program\r\n",
    "        self.name = name \r\n",
    "        self.accept = accept\r\n",
    "    \r\n",
    "    def __repr__ (self): #dunder __repr__ read: \"repper\"\r\n",
    "        return f\"Antagning(school={self.school}, program={self.program}, name={self.name}, accept={self.accept})\"\r\n",
    "\r\n",
    "\r\n",
    "person1 = Antagning(\"Cool school\", \"AI\", \"Gore Bord\", False) # constructor\r\n",
    "person2 = Antagning(\"IT-skola\", \" UX\", name =\"Gorat Borat\")\r\n",
    "print(person1.name)\r\n",
    "print(person1.school)\r\n",
    "print(person1.__dict__) # dunder dict\r\n",
    "print(person2.accept)\r\n",
    "\r\n",
    "print(person2)"
   ],
   "outputs": [
    {
     "output_type": "stream",
     "name": "stdout",
     "text": [
      "Gore Bord\n",
      "Cool school\n",
      "{'school': 'Cool school', 'program': 'AI', 'name': 'Gore Bord', 'accept': False}\n",
      "False\n",
      "Antagning(school=IT-skola, program= UX, name=Gorat Borat, accept=False)\n"
     ]
    }
   ],
   "metadata": {}
  },
  {
   "cell_type": "markdown",
   "source": [
    "# exempel old coins in Sweden"
   ],
   "metadata": {}
  },
  {
   "cell_type": "code",
   "execution_count": 18,
   "source": [
    "class OldCoinsStash:\r\n",
    "    def __init__(self, owner) -> None:\r\n",
    "        #these attributes are public\r\n",
    "        self.owner = owner\r\n",
    "        self.riksdaler = 0\r\n",
    "        self.skilling = 0\r\n",
    "\r\n",
    "stash1 = OldCoinsStash (\"Gore Bord\")\r\n",
    "print(stash1.riksdaler)\r\n",
    "stash1.riksdaler = 1000\r\n",
    "print(stash1.riksdaler)\r\n"
   ],
   "outputs": [
    {
     "output_type": "stream",
     "name": "stdout",
     "text": [
      "0\n",
      "1000\n"
     ]
    }
   ],
   "metadata": {}
  },
  {
   "cell_type": "markdown",
   "source": [
    "## encapsulation\r\n",
    "- in OOP, you want to encapsulate some informationsand only show relavant informations outwards"
   ],
   "metadata": {}
  },
  {
   "cell_type": "code",
   "execution_count": 19,
   "source": [
    "class OldCoinsStash:\r\n",
    "    def __init__(self, owner : str) -> None:\r\n",
    "        #these attributes are public\r\n",
    "        self.owner = owner\r\n",
    "        #private : by conventions use underscore prefix(_)\r\n",
    "        self._riksdaler = 0         \r\n",
    "        self._skilling = 0\r\n",
    "    def deposit(self, riksdaler = float, skilling = float) -> None:\r\n",
    "        if riksdaler <= 0 or skilling <= 0:\r\n",
    "            raise ValueError(f\"Stop depositing negative value.{riksdaler} or {skilling} not okay\")\r\n",
    "        \r\n",
    "        self._riksdaler += riksdaler\r\n",
    "        self._skilling += skilling\r\n",
    "    def withdraw(self, riksdaler = float, skilling = float) -> None:\r\n",
    "        if riksdaler > self._riksdaler or skilling > self._skilling:\r\n",
    "            raise ValueError(\"You can't withdraw more coins than you have\")\r\n",
    "        self._riksdaler -= riksdaler\r\n",
    "        self._skilling -= skilling\r\n",
    "    def check_balance(self) ->str: #(retunerar string)\r\n",
    "        return f\"Coins in stash: {self._riksdaler} riskdaler and {self._skilling} skillingar\"\r\n",
    "    def __repr__(self) ->str:\r\n",
    "        return f\"OldCoinsStash (owner='{self.owner}')\"\r\n",
    "\r\n",
    "stash1= OldCoinsStash (\"Gore Bod\") \r\n",
    "print(stash1) #testing __repr__\r\n",
    "print(stash1.check_balance()) #testing check_balance()\r\n",
    "stash1.deposit(riksdaler = 500, skilling = 3000) #testing deposit()\r\n",
    "print(stash1.check_balance())\r\n",
    "\r\n",
    "try:\r\n",
    "    stash1.deposit (-20,35)\r\n",
    "except ValueError as err:\r\n",
    "    print(err)\r\n",
    "\r\n",
    "print (stash1.withdraw(100,100))\r\n",
    "print(stash1.check_balance())\r\n",
    "\r\n",
    "try:\r\n",
    "    stash1.withdraw (200000000,350000000) #try to rob the stash\r\n",
    "except ValueError as err:\r\n",
    "    print(err)\r\n",
    "\r\n",
    "print(stash1.check_balance())\r\n",
    "\r\n",
    "\r\n"
   ],
   "outputs": [
    {
     "output_type": "stream",
     "name": "stdout",
     "text": [
      "OldCoinsStash (owner='Gore Bod')\n",
      "Coins in stash: 0 riskdaler and 0 skillingar\n",
      "Coins in stash: 500 riskdaler and 3000 skillingar\n",
      "Stop depositing negative value.-20 or 35 not okay\n",
      "None\n",
      "Coins in stash: 400 riskdaler and 2900 skillingar\n",
      "You can't withdraw more coins than you have\n",
      "Coins in stash: 400 riskdaler and 2900 skillingar\n"
     ]
    }
   ],
   "metadata": {}
  },
  {
   "cell_type": "markdown",
   "source": [
    "## Properties"
   ],
   "metadata": {}
  },
  {
   "cell_type": "code",
   "execution_count": 20,
   "source": [
    "class Student :\r\n",
    "    def __init__ (self, name: str, age: str) -> None:\r\n",
    "        self.name = name \r\n",
    "        self.age = age #note no underscore\r\n",
    "    \r\n",
    "    \r\n",
    "    @property\r\n",
    "    def age(self) -> float:\r\n",
    "        print(\"age-getter is running...\")\r\n",
    "        return self._age\r\n",
    "    \r\n",
    "    @age.setter\r\n",
    "    def age (self,value:float) -> None:\r\n",
    "        print(\"age-setter is running...\")\r\n",
    "        if not isinstance(value, (int, float)):\r\n",
    "            raise TypeError(f\"Age must be an int or a float not {type(value)}\")\r\n",
    "        if not (0<=value<125):\r\n",
    "            raise ValueError(\"Your age must be between 0 and 124\")\r\n",
    "        self._age = value\r\n",
    "student1 = Student(\"gore Bord\", 25)\r\n",
    "print(student1.age)\r\n",
    "print(student1.name)\r\n",
    "print(student1._age)\r\n",
    "try:\r\n",
    "    student1.age = \"25\"\r\n",
    "except TypeError as err:\r\n",
    "    print(err)\r\n"
   ],
   "outputs": [
    {
     "output_type": "stream",
     "name": "stdout",
     "text": [
      "age-setter is running...\n",
      "age-getter is running...\n",
      "25\n",
      "gore Bord\n",
      "25\n",
      "age-setter is running...\n",
      "Age must be an int or a float not <class 'str'>\n"
     ]
    }
   ],
   "metadata": {}
  }
 ],
 "metadata": {
  "orig_nbformat": 4,
  "language_info": {
   "name": "python",
   "version": "3.9.6",
   "mimetype": "text/x-python",
   "codemirror_mode": {
    "name": "ipython",
    "version": 3
   },
   "pygments_lexer": "ipython3",
   "nbconvert_exporter": "python",
   "file_extension": ".py"
  },
  "kernelspec": {
   "name": "python3",
   "display_name": "Python 3.9.6 64-bit ('python_programering_Amal_Derbali-3tAF7EDp': pipenv)"
  },
  "interpreter": {
   "hash": "7d6c493d9be3ce9414559ad9bbf78b458bfd2ecad0291fac6402a6d619a9155a"
  }
 },
 "nbformat": 4,
 "nbformat_minor": 2
}