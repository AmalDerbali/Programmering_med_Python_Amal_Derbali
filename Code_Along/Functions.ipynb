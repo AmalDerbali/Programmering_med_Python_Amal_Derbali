{
 "cells": [
  {
   "cell_type": "markdown",
   "source": [
    "# functions"
   ],
   "metadata": {}
  },
  {
   "cell_type": "code",
   "execution_count": 4,
   "source": [
    "def cube (number):\r\n",
    "    return number**3\r\n",
    "print (f\"cube(3): {cube(3)}\")\r\n",
    "\r\n",
    "cube5 = cube(5)\r\n",
    "print (cube5)\r\n",
    "\r\n",
    "cubes = [cube(x) for x in range(10)]\r\n",
    "print (cubes)\r\n"
   ],
   "outputs": [
    {
     "output_type": "stream",
     "name": "stdout",
     "text": [
      "cube(3): 27\n",
      "125\n",
      "[0, 1, 8, 27, 64, 125, 216, 343, 512, 729]\n"
     ]
    }
   ],
   "metadata": {}
  },
  {
   "cell_type": "code",
   "execution_count": 7,
   "source": [
    "def mean1(num1,num2, num3):\r\n",
    "    mean = (num1 + num2 + num3)/3\r\n",
    "    return mean\r\n",
    "print (f\"mean(1,3,5) : {mean1(1,3,5)}\")\r\n"
   ],
   "outputs": [
    {
     "output_type": "stream",
     "name": "stdout",
     "text": [
      "mean(1,3,5) : 3.0\n"
     ]
    }
   ],
   "metadata": {}
  },
  {
   "cell_type": "code",
   "execution_count": 9,
   "source": [
    "# function without a return value\r\n",
    "def say_hi(name = \"friend\", age = 0):\r\n",
    "    print(f\"Hi {name}, you are {age} years old\")\r\n",
    "say_hi (\"Amal\", 34)\r\n",
    "say_hi() # default value are used\r\n",
    "say_hi(age=34) # keyword argument"
   ],
   "outputs": [
    {
     "output_type": "stream",
     "name": "stdout",
     "text": [
      "Hi Amal, you are 34 years old\n",
      "Hi friend, you are 34 years old\n"
     ]
    }
   ],
   "metadata": {}
  },
  {
   "cell_type": "code",
   "execution_count": 10,
   "source": [
    "def count_words(text = \"\"):\r\n",
    "    words = text.split()\r\n",
    "    return len(words)\r\n",
    "print(count_words(\"I stand on the shoulders od giants - Newton\"))\r\n"
   ],
   "outputs": [
    {
     "output_type": "stream",
     "name": "stdout",
     "text": [
      "9\n"
     ]
    }
   ],
   "metadata": {}
  }
 ],
 "metadata": {
  "orig_nbformat": 4,
  "language_info": {
   "name": "python",
   "version": "3.9.6",
   "mimetype": "text/x-python",
   "codemirror_mode": {
    "name": "ipython",
    "version": 3
   },
   "pygments_lexer": "ipython3",
   "nbconvert_exporter": "python",
   "file_extension": ".py"
  },
  "kernelspec": {
   "name": "python3",
   "display_name": "Python 3.9.6 64-bit ('python_programering_Amal_Derbali-3tAF7EDp': pipenv)"
  },
  "interpreter": {
   "hash": "7d6c493d9be3ce9414559ad9bbf78b458bfd2ecad0291fac6402a6d619a9155a"
  }
 },
 "nbformat": 4,
 "nbformat_minor": 2
}