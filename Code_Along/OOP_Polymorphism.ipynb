{
 "cells": [
  {
   "cell_type": "markdown",
   "source": [
    "# OOP Polymorphism\r\n",
    "same method names and operators can be used in different ways for different types"
   ],
   "metadata": {}
  },
  {
   "cell_type": "code",
   "execution_count": 2,
   "source": [
    "\r\n",
    "s1 = \"abc\"\r\n",
    "l1 = [1,2,3,4]\r\n",
    "print(len(s1))\r\n",
    "print(len(l1))\r\n",
    "\r\n",
    "s2 = s1 + \"5\" # + operator makes string concatenation\r\n",
    "print(s2)\r\n",
    "\r\n",
    "num1 = 5 + 6  # + operator makes arithmetic addition of two integers\r\n",
    "print(num1)"
   ],
   "outputs": [
    {
     "output_type": "stream",
     "name": "stdout",
     "text": [
      "3\n",
      "4\n",
      "abc5\n",
      "11\n"
     ]
    }
   ],
   "metadata": {}
  },
  {
   "cell_type": "code",
   "execution_count": 3,
   "source": [
    "class Fish:\r\n",
    "    def __init__(self, name) -> None:\r\n",
    "        self.name = name \r\n",
    "\r\n",
    "    def __str__(self):\r\n",
    "        return f\"I am a fish, my name is {self.name}\"\r\n",
    "\r\n",
    "    def speak(self):\r\n",
    "        print(\"Blupp blupp\")\r\n",
    "\r\n",
    "class Fox:\r\n",
    "    def __init__(self, name) -> None:\r\n",
    "        self.name = name \r\n",
    "\r\n",
    "    def __str__(self) -> str:\r\n",
    "        return f\"I am a fox, my name is {self.name}, my sound is weird\"\r\n",
    "\r\n",
    "    def speak(self):\r\n",
    "        print(\"Fox says ...\")\r\n",
    "        #return NotImplemented # what does the fox say?\r\n",
    "\r\n",
    "animals = (Fish(\"Wanda\"), Fox(\"Ylvis\"))\r\n",
    "\r\n",
    "for animal in animals:\r\n",
    "    print(animal)\r\n",
    "    animal.speak()"
   ],
   "outputs": [
    {
     "output_type": "stream",
     "name": "stdout",
     "text": [
      "I am a fish, my name is Wanda\n",
      "Blupp blupp\n",
      "I am a fox, my name is Ylvis, my sound is weird\n",
      "Fox says ...\n"
     ]
    }
   ],
   "metadata": {}
  },
  {
   "cell_type": "code",
   "execution_count": 4,
   "source": [
    "class Animal:\r\n",
    "    # will run a default init\r\n",
    "\r\n",
    "    def speak(self):\r\n",
    "        print(\"Hello I am animal\")\r\n",
    "\r\n",
    "class Fish(Animal):\r\n",
    "    def __init__(self, name) -> None:\r\n",
    "        self.name = name \r\n",
    "\r\n",
    "    def __str__(self):\r\n",
    "        return f\"I am a fish, my name is {self.name}\"\r\n",
    "\r\n",
    "    def speak(self):\r\n",
    "        print(\"Blupp blupp\")\r\n",
    "\r\n",
    "class Fox(Animal): # Fox extends or inherits from Animal\r\n",
    "    def __init__(self, name) -> None:\r\n",
    "        self.name = name \r\n",
    "\r\n",
    "    def __str__(self) -> str:\r\n",
    "        return f\"I am a fox, my name is {self.name}, my sound is weird\"\r\n",
    "\r\n",
    "    #def speak(self):\r\n",
    "    #    print(\"Fox says ...\")\r\n",
    "        #return NotImplemented # what does the fox say?\r\n",
    "\r\n",
    "animals = (Fish(\"Wanda\"), Fox(\"Ylvis\"))\r\n",
    "\r\n",
    "for animal in animals:\r\n",
    "    print(animal)\r\n",
    "    animal.speak()"
   ],
   "outputs": [
    {
     "output_type": "stream",
     "name": "stdout",
     "text": [
      "I am a fish, my name is Wanda\n",
      "Blupp blupp\n",
      "I am a fox, my name is Ylvis, my sound is weird\n",
      "Hello I am animal\n"
     ]
    }
   ],
   "metadata": {}
  },
  {
   "cell_type": "markdown",
   "source": [
    "# Operator overloading\r\n",
    "+, -, /, //, %, **, <, <=, ...\r\n",
    "see vector example"
   ],
   "metadata": {}
  }
 ],
 "metadata": {
  "orig_nbformat": 4,
  "language_info": {
   "name": "python",
   "version": "3.9.6",
   "mimetype": "text/x-python",
   "codemirror_mode": {
    "name": "ipython",
    "version": 3
   },
   "pygments_lexer": "ipython3",
   "nbconvert_exporter": "python",
   "file_extension": ".py"
  },
  "kernelspec": {
   "name": "python3",
   "display_name": "Python 3.9.6 64-bit ('python_programering_Amal_Derbali-3tAF7EDp': pipenv)"
  },
  "interpreter": {
   "hash": "7d6c493d9be3ce9414559ad9bbf78b458bfd2ecad0291fac6402a6d619a9155a"
  }
 },
 "nbformat": 4,
 "nbformat_minor": 2
}