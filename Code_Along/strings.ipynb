{
 "cells": [
  {
   "cell_type": "code",
   "execution_count": 1,
   "source": [
    "print (\"hej\")"
   ],
   "outputs": [
    {
     "output_type": "stream",
     "name": "stdout",
     "text": [
      "hej\n"
     ]
    }
   ],
   "metadata": {}
  },
  {
   "cell_type": "markdown",
   "source": [
    "Concatenating strings"
   ],
   "metadata": {}
  },
  {
   "cell_type": "code",
   "execution_count": 5,
   "source": [
    "fistname = \"Amal\"\r\n",
    "lastname = \"Derbali\"\r\n",
    "\r\n",
    "fullname = fistname + \" \" + lastname\r\n",
    "\r\n",
    "school = \"IT-hs\"\r\n",
    "phone = \"112\"\r\n",
    "\r\n",
    "print (fullname)\r\n",
    "\r\n",
    "# multiline f-string\r\n",
    "contact_details = f\"\"\"\r\n",
    "Name: {fullname}\r\n",
    "School: {school}\r\n",
    "Phone: {phone}\r\n",
    "\"\"\"\r\n",
    "print(contact_details)"
   ],
   "outputs": [
    {
     "output_type": "stream",
     "name": "stdout",
     "text": [
      "Amal Derbali\n",
      "\n",
      "Name: Amal Derbali\n",
      "School: IT-hs\n",
      "Phone: 112\n",
      "\n"
     ]
    }
   ],
   "metadata": {}
  },
  {
   "cell_type": "markdown",
   "source": [
    "Concatenate with loop"
   ],
   "metadata": {}
  },
  {
   "cell_type": "code",
   "execution_count": 8,
   "source": [
    "bamba = \"Chilli sin Carne, kötbullar, Fisk, Pannkakor, Taco\".split(\", \")\r\n",
    "days = \"Må Ti On To Fr\".split() #slpit() per default on empty space \" \"\r\n",
    "\r\n",
    "menu = \"veckomeny \\n\"\r\n",
    "\r\n",
    "for day, food in zip (days, bamba):\r\n",
    "    menu += f\"{day}: {food} \\n\"\r\n",
    "print (menu)"
   ],
   "outputs": [
    {
     "output_type": "stream",
     "name": "stdout",
     "text": [
      "veckomeny \n",
      "Må: Chilli sin Carne \n",
      "Ti: kötbullar \n",
      "On: Fisk \n",
      "To: Pannkakor \n",
      "Fr: Taco \n",
      "\n"
     ]
    }
   ],
   "metadata": {}
  },
  {
   "cell_type": "markdown",
   "source": [
    "## Indexing\r\n",
    "indexing with [] operator to acces elements"
   ],
   "metadata": {}
  },
  {
   "cell_type": "code",
   "execution_count": 16,
   "source": [
    "quote = \"!False - it's funny because it's True\" # works\r\n",
    "# quote = '!False - it's funny because it's True' # doesnt work\r\n",
    "\r\n",
    "print (f\"quote[0]: {quote[0]}\")\r\n",
    "print (f\"quote[-1]: {quote[-1]}\")\r\n",
    "print (f\"quote[-4]: {quote[-4:]}\")\r\n",
    "print (f\"quote[1:6]: {quote[1:6]}\")\r\n",
    "print (f\"backwards quote[::-1]: {quote[::-1]}\")\r\n"
   ],
   "outputs": [
    {
     "output_type": "stream",
     "name": "stdout",
     "text": [
      "quote[0]: !\n",
      "quote[-1]: e\n",
      "quote[-4]: True\n",
      "quote[1:6]: False\n",
      "backwards quote[::-1]: eurT s'ti esuaceb ynnuf s'ti - eslaF!\n"
     ]
    }
   ],
   "metadata": {}
  },
  {
   "cell_type": "markdown",
   "source": [
    "## Split strings"
   ],
   "metadata": {}
  },
  {
   "cell_type": "code",
   "execution_count": 26,
   "source": [
    "numbers = input (\"Ange några tal separerade med mellanslg: \").split()\r\n",
    "#print (numbers[0] + numbers[1]) #string concatenation \"5\"+\"4\"=\"54\"\r\n",
    "\r\n",
    "numbers = [float(number) for number in numbers if number.isdigit()] \r\n",
    "#look for another method\r\n",
    "print (numbers)\r\n",
    "mean = sum(numbers)/len(numbers)\r\n",
    "print (f\"Medevärdet är {mean}\")\r\n",
    "\r\n"
   ],
   "outputs": [
    {
     "output_type": "stream",
     "name": "stdout",
     "text": [
      "[5.0, 4.0, 3.0]\n",
      "Medevärdet är4.0\n"
     ]
    }
   ],
   "metadata": {}
  },
  {
   "cell_type": "markdown",
   "source": [
    " ## Regular expression\r\n",
    " find particular patterns in a string"
   ],
   "metadata": {}
  },
  {
   "cell_type": "code",
   "execution_count": 30,
   "source": [
    "import re\r\n",
    "\r\n",
    "text = \"Mitt telefonnummer är 021-432567, Adas telefonnummer är 041-4567893\"\r\n",
    "\r\n",
    "match1 = re.findall (r\"\\d\\d\\d-\\d\\d\\d\\d\\d\\d\", text)\r\n",
    "print (match1)\r\n",
    "match2 = re.findall (r\"\\d{3}-\\d{6}\", text)\r\n",
    "print (match2)"
   ],
   "outputs": [
    {
     "output_type": "stream",
     "name": "stdout",
     "text": [
      "['021-432567', '041-456789']\n",
      "['021-432567', '041-456789']\n"
     ]
    }
   ],
   "metadata": {}
  },
  {
   "cell_type": "code",
   "execution_count": 31,
   "source": [
    "import re\r\n",
    "# find all words ending with att\r\n",
    "text = \"Det var en gång en katt, som tog på sig en hatt, jag blev matt, så jag spelade och vann med skolmatt\"\r\n",
    "match = re.findall(r\".att\", text)\r\n",
    "print (match)\r\n"
   ],
   "outputs": [
    {
     "output_type": "stream",
     "name": "stdout",
     "text": [
      "['katt', 'hatt', 'matt', 'matt']\n"
     ]
    }
   ],
   "metadata": {}
  }
 ],
 "metadata": {
  "orig_nbformat": 4,
  "language_info": {
   "name": "python",
   "version": "3.9.6",
   "mimetype": "text/x-python",
   "codemirror_mode": {
    "name": "ipython",
    "version": 3
   },
   "pygments_lexer": "ipython3",
   "nbconvert_exporter": "python",
   "file_extension": ".py"
  },
  "kernelspec": {
   "name": "python3",
   "display_name": "Python 3.9.6 64-bit"
  },
  "interpreter": {
   "hash": "eacaffae8a739d4b7c9a2bb010540ab3fb2fd534d4d9d1bb6421b24cb8b2e27c"
  }
 },
 "nbformat": 4,
 "nbformat_minor": 2
}