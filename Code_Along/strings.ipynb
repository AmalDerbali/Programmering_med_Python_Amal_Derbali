{
 "cells": [
  {
   "cell_type": "code",
   "execution_count": 1,
   "source": [
    "print (\"hej\")"
   ],
   "outputs": [
    {
     "output_type": "stream",
     "name": "stdout",
     "text": [
      "hej\n"
     ]
    }
   ],
   "metadata": {}
  },
  {
   "cell_type": "markdown",
   "source": [
    "Concatenating strings"
   ],
   "metadata": {}
  },
  {
   "cell_type": "code",
   "execution_count": 5,
   "source": [
    "fistname = \"Amal\"\r\n",
    "lastname = \"Derbali\"\r\n",
    "\r\n",
    "fullname = fistname + \" \" + lastname\r\n",
    "\r\n",
    "school = \"IT-hs\"\r\n",
    "phone = \"112\"\r\n",
    "\r\n",
    "print (fullname)\r\n",
    "\r\n",
    "# multiline f-string\r\n",
    "contact_details = f\"\"\"\r\n",
    "Name: {fullname}\r\n",
    "School: {school}\r\n",
    "Phone: {phone}\r\n",
    "\"\"\"\r\n",
    "print(contact_details)"
   ],
   "outputs": [
    {
     "output_type": "stream",
     "name": "stdout",
     "text": [
      "Amal Derbali\n",
      "\n",
      "Name: Amal Derbali\n",
      "School: IT-hs\n",
      "Phone: 112\n",
      "\n"
     ]
    }
   ],
   "metadata": {}
  },
  {
   "cell_type": "markdown",
   "source": [
    "Concatenate with loop"
   ],
   "metadata": {}
  },
  {
   "cell_type": "code",
   "execution_count": 8,
   "source": [
    "bamba = \"Chilli sin Carne, kötbullar, Fisk, Pannkakor, Taco\".split(\", \")\r\n",
    "days = \"Må Ti On To Fr\".split() #slpit() per default on empty space \" \"\r\n",
    "\r\n",
    "menu = \"veckomeny \\n\"\r\n",
    "\r\n",
    "for day, food in zip (days, bamba):\r\n",
    "    menu += f\"{day}: {food} \\n\"\r\n",
    "print (menu)"
   ],
   "outputs": [
    {
     "output_type": "stream",
     "name": "stdout",
     "text": [
      "veckomeny \n",
      "Må: Chilli sin Carne \n",
      "Ti: kötbullar \n",
      "On: Fisk \n",
      "To: Pannkakor \n",
      "Fr: Taco \n",
      "\n"
     ]
    }
   ],
   "metadata": {}
  },
  {
   "cell_type": "markdown",
   "source": [
    "## Indexing\r\n",
    "indexing with [] operator to acces elements"
   ],
   "metadata": {}
  },
  {
   "cell_type": "code",
   "execution_count": 14,
   "source": [
    "quote = \"!False - it's funny because it's True\" # works\r\n",
    "# quote = '!False - it's funny because it's True' # doesnt work\r\n",
    "\r\n",
    "print (f\"quote[0]: {quote[0]}\")\r\n",
    "print (f\"quote[-1]: {quote[-1]}\")\r\n",
    "print (f\"quote[-4]: {quote[-4:]}\")\r\n",
    "print (f\"quote[1:6]: {quote[1:6]}\")\r\n",
    "print (f\"backward quote[0]: {quote[0]}\")\r\n"
   ],
   "outputs": [
    {
     "output_type": "stream",
     "name": "stdout",
     "text": [
      "quote[0]: !\n",
      "quote[-1]: e\n",
      "quote[-4]: True\n",
      "quote[1:6]: False\n",
      "backward quote[0]: !\n"
     ]
    }
   ],
   "metadata": {}
  }
 ],
 "metadata": {
  "orig_nbformat": 4,
  "language_info": {
   "name": "python",
   "version": "3.9.6",
   "mimetype": "text/x-python",
   "codemirror_mode": {
    "name": "ipython",
    "version": 3
   },
   "pygments_lexer": "ipython3",
   "nbconvert_exporter": "python",
   "file_extension": ".py"
  },
  "kernelspec": {
   "name": "python3",
   "display_name": "Python 3.9.6 64-bit"
  },
  "interpreter": {
   "hash": "eacaffae8a739d4b7c9a2bb010540ab3fb2fd534d4d9d1bb6421b24cb8b2e27c"
  }
 },
 "nbformat": 4,
 "nbformat_minor": 2
}