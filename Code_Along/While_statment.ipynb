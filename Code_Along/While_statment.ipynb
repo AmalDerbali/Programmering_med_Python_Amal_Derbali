{
 "cells": [
  {
   "cell_type": "code",
   "execution_count": null,
   "source": [
    "n = -10\r\n",
    "while n <= 10:\r\n",
    "    print(n, end = \", \")\r\n",
    "    n += 1 # i andra språket n+1 eller n++"
   ],
   "outputs": [],
   "metadata": {}
  },
  {
   "cell_type": "code",
   "execution_count": null,
   "source": [
    "# summera alla udda tal mellan 0 och 10\r\n",
    "n = 1\r\n",
    "summa = 0\r\n",
    "while n <= 10:\r\n",
    "    print(f\"(n)+\")"
   ],
   "outputs": [],
   "metadata": {}
  }
 ],
 "metadata": {
  "orig_nbformat": 4,
  "language_info": {
   "name": "python",
   "version": "3.9.6"
  },
  "kernelspec": {
   "name": "python3",
   "display_name": "Python 3.9.6 64-bit"
  },
  "interpreter": {
   "hash": "eacaffae8a739d4b7c9a2bb010540ab3fb2fd534d4d9d1bb6421b24cb8b2e27c"
  }
 },
 "nbformat": 4,
 "nbformat_minor": 2
}