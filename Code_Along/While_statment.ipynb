{
 "cells": [
  {
   "cell_type": "code",
   "execution_count": null,
   "source": [
    "n = -10\r\n",
    "while n <= 10:\r\n",
    "    print(n, end = \", \")\r\n",
    "    n += 1 # i andra språket n+1 eller n++"
   ],
   "outputs": [],
   "metadata": {}
  },
  {
   "cell_type": "code",
   "execution_count": 11,
   "source": [
    "# summera alla udda tal mellan 0 och 10\r\n",
    "n = 1\r\n",
    "summa = 0\r\n",
    "while n <= 10:\r\n",
    "    if n == 9:\r\n",
    "    print(f\"{9}=, end=\")\r\n",
    "    else\r\n",
    "    print(f\"{n}+, end=\")"
   ],
   "outputs": [
    {
     "output_type": "error",
     "ename": "IndentationError",
     "evalue": "expected an indented block (Temp/ipykernel_6992/3809736689.py, line 6)",
     "traceback": [
      "\u001b[1;36m  File \u001b[1;32m\"C:\\Users\\AMALDE~1\\AppData\\Local\\Temp/ipykernel_6992/3809736689.py\"\u001b[1;36m, line \u001b[1;32m6\u001b[0m\n\u001b[1;33m    print(f\"{9}=, end=\")\u001b[0m\n\u001b[1;37m    ^\u001b[0m\n\u001b[1;31mIndentationError\u001b[0m\u001b[1;31m:\u001b[0m expected an indented block\n"
     ]
    }
   ],
   "metadata": {}
  },
  {
   "cell_type": "code",
   "execution_count": 5,
   "source": [
    "birds, year = 8000, 0\r\n",
    "while birds >= 800:\r\n",
    "    birds /= 2\r\n",
    "    year += 1\r\n",
    "    print (f\"År{year}: antal fåglar: {birds:.0f}st\")\r\n"
   ],
   "outputs": [
    {
     "output_type": "stream",
     "name": "stdout",
     "text": [
      "År1: antal fåglar: 4000st\n",
      "År2: antal fåglar: 2000st\n",
      "År3: antal fåglar: 1000st\n",
      "År4: antal fåglar: 500st\n"
     ]
    }
   ],
   "metadata": {}
  },
  {
   "cell_type": "code",
   "execution_count": 2,
   "source": [
    "import matplotlib_inline as plt\r\n",
    "faktor = 1.5\r\n",
    "bakterier = 1.5e6 #1.5*10^6\r\n",
    "bakterie_lista\r\n",
    "sur = 1e7\r\n",
    "timmar = 0\r\n",
    "while bakterier < sur:\r\n",
    "    bakterier *= faktor\r\n",
    "    timmar += 1\r\n",
    "\r\n",
    " bakterie_lista.apend(bakterier)   \r\n"
   ],
   "outputs": [
    {
     "output_type": "error",
     "ename": "IndentationError",
     "evalue": "unindent does not match any outer indentation level (<tokenize>, line 9)",
     "traceback": [
      "\u001b[1;36m  File \u001b[1;32m\"<tokenize>\"\u001b[1;36m, line \u001b[1;32m9\u001b[0m\n\u001b[1;33m    bakterie_lista.apend(bakterier)\u001b[0m\n\u001b[1;37m    ^\u001b[0m\n\u001b[1;31mIndentationError\u001b[0m\u001b[1;31m:\u001b[0m unindent does not match any outer indentation level\n"
     ]
    }
   ],
   "metadata": {}
  }
 ],
 "metadata": {
  "orig_nbformat": 4,
  "language_info": {
   "name": "python",
   "version": "3.9.6",
   "mimetype": "text/x-python",
   "codemirror_mode": {
    "name": "ipython",
    "version": 3
   },
   "pygments_lexer": "ipython3",
   "nbconvert_exporter": "python",
   "file_extension": ".py"
  },
  "kernelspec": {
   "name": "python3",
   "display_name": "Python 3.9.6 64-bit"
  },
  "interpreter": {
   "hash": "eacaffae8a739d4b7c9a2bb010540ab3fb2fd534d4d9d1bb6421b24cb8b2e27c"
  }
 },
 "nbformat": 4,
 "nbformat_minor": 2
}