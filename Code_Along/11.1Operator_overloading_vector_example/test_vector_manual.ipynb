{
 "cells": [
  {
   "cell_type": "code",
   "execution_count": 7,
   "source": [
    "import vector as vec\r\n",
    "\r\n",
    "v1 = vec.Vector(1,2)\r\n",
    "v2 = vec.Vector(1,1)\r\n",
    "\r\n",
    "print(v1.numbers)\r\n",
    "\r\n",
    "v_test = vec.Vector(True, False, 5)\r\n",
    "print(v_test.numbers)\r\n",
    "\r\n",
    "print(f\"v1 = {v1}\")\r\n",
    "print(f\"v2 = {v2}\")\r\n",
    "\r\n",
    "v3 = v1 + v2\r\n",
    "\r\n",
    "print(f\"v3 = v1 + v2 = {v3}\")\r\n",
    "\r\n",
    "try:\r\n",
    "    v3 + v_test\r\n",
    "except TypeError as err:\r\n",
    "    print(err)\r\n",
    "\r\n",
    "v3[0]"
   ],
   "outputs": [
    {
     "output_type": "stream",
     "name": "stdout",
     "text": [
      "(1.0, 2.0)\n",
      "(1.0, 0.0, 5.0)\n",
      "v1 = (1.0, 2.0)\n",
      "v2 = (1.0, 1.0)\n",
      "v3 = v1 + v2 = (2.0, 3.0)\n",
      "Both must be Vector and same length\n"
     ]
    },
    {
     "output_type": "execute_result",
     "data": {
      "text/plain": [
       "2.0"
      ]
     },
     "metadata": {},
     "execution_count": 7
    }
   ],
   "metadata": {}
  },
  {
   "cell_type": "code",
   "execution_count": 8,
   "source": [
    "print(f\"len(v1): {len(v1)}\")\r\n",
    "print(f\"len(v_test): {len(v_test)}\")"
   ],
   "outputs": [
    {
     "output_type": "stream",
     "name": "stdout",
     "text": [
      "len(v1): 2\n",
      "len(v_test): 3\n"
     ]
    }
   ],
   "metadata": {}
  },
  {
   "cell_type": "code",
   "execution_count": 9,
   "source": [
    "isinstance(False, int)"
   ],
   "outputs": [
    {
     "output_type": "execute_result",
     "data": {
      "text/plain": [
       "True"
      ]
     },
     "metadata": {},
     "execution_count": 9
    }
   ],
   "metadata": {}
  },
  {
   "cell_type": "code",
   "execution_count": 10,
   "source": [
    "from vector import Vector\r\n",
    "\r\n",
    "v1 = Vector(1,1)\r\n",
    "v2 = Vector(1,1)\r\n",
    "v3 = Vector(1,5)\r\n",
    "\r\n",
    "print(f\"v1 == v2: {v1==v2}\")\r\n",
    "print(f\"v1 == v3: {v1==v3}\")\r\n",
    "print(f\"v1 - v3: {v1-v3}\")\r\n",
    "print(f\"v1*5 = {v1*5}\")\r\n",
    "print(f\"5*v1 = {5*v1}\")\r\n",
    "\r\n"
   ],
   "outputs": [
    {
     "output_type": "stream",
     "name": "stdout",
     "text": [
      "v1 == v2: True\n",
      "v1 == v3: False\n",
      "v1 - v3: (0.0, -4.0)\n",
      "v1*5 = (5.0, 5.0)\n",
      "5*v1 = (5.0, 5.0)\n"
     ]
    }
   ],
   "metadata": {}
  },
  {
   "cell_type": "code",
   "execution_count": 12,
   "source": [
    "v1.plot(v3, v1+v3)"
   ],
   "outputs": [
    {
     "output_type": "error",
     "ename": "AttributeError",
     "evalue": "'Vector' object has no attribute 'plot'",
     "traceback": [
      "\u001b[1;31m---------------------------------------------------------------------------\u001b[0m",
      "\u001b[1;31mAttributeError\u001b[0m                            Traceback (most recent call last)",
      "\u001b[1;32mC:\\Users\\AMALDE~1\\AppData\\Local\\Temp/ipykernel_7900/988406141.py\u001b[0m in \u001b[0;36m<module>\u001b[1;34m\u001b[0m\n\u001b[1;32m----> 1\u001b[1;33m \u001b[0mv1\u001b[0m\u001b[1;33m.\u001b[0m\u001b[0mplot\u001b[0m\u001b[1;33m(\u001b[0m\u001b[0mv3\u001b[0m\u001b[1;33m,\u001b[0m \u001b[0mv1\u001b[0m\u001b[1;33m+\u001b[0m\u001b[0mv3\u001b[0m\u001b[1;33m)\u001b[0m\u001b[1;33m\u001b[0m\u001b[1;33m\u001b[0m\u001b[0m\n\u001b[0m",
      "\u001b[1;31mAttributeError\u001b[0m: 'Vector' object has no attribute 'plot'"
     ]
    }
   ],
   "metadata": {}
  }
 ],
 "metadata": {
  "orig_nbformat": 4,
  "language_info": {
   "name": "python",
   "version": "3.9.6",
   "mimetype": "text/x-python",
   "codemirror_mode": {
    "name": "ipython",
    "version": 3
   },
   "pygments_lexer": "ipython3",
   "nbconvert_exporter": "python",
   "file_extension": ".py"
  },
  "kernelspec": {
   "name": "python3",
   "display_name": "Python 3.9.6 64-bit ('python_programering_Amal_Derbali-3tAF7EDp': pipenv)"
  },
  "interpreter": {
   "hash": "7d6c493d9be3ce9414559ad9bbf78b458bfd2ecad0291fac6402a6d619a9155a"
  }
 },
 "nbformat": 4,
 "nbformat_minor": 2
}