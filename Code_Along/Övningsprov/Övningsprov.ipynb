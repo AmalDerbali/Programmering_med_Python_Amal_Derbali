{
 "cells": [
  {
   "cell_type": "markdown",
   "metadata": {},
   "source": [
    "# Upp4"
   ]
  },
  {
   "cell_type": "code",
   "execution_count": 22,
   "metadata": {},
   "outputs": [
    {
     "name": "stdout",
     "output_type": "stream",
     "text": [
      "v42\n",
      "Chili sin carne\n",
      "Pannkakor\n",
      "Ärtsoppa\n",
      "kebab\n",
      "Vagetarisk lasagne\n",
      "['Chili sin carne', 'Pannkakor', 'Ärtsoppa', 'kebab', 'Vagetarisk lasagne']\n",
      "bamba[-1]: Vagetarisk lasagne\n",
      "bamba[1:4]: ['Pannkakor', 'Ärtsoppa', 'kebab']\n",
      "['Chili sin carne', 'Pannkakor', 'Ärtsoppa', 'kebab', 'Vagetarisk lasagne', 'Pasta']\n",
      "0: Chili sin carne\n",
      "1: Pannkakor\n",
      "2: Ärtsoppa\n",
      "3: kebab\n",
      "4: Vagetarisk lasagne\n",
      "5: Pasta\n"
     ]
    }
   ],
   "source": [
    "bamba= [\"Chili sin carne\", \"Pannkakor\", \"Ärtsoppa\", \"kebab\", \"Vagetarisk lasagne\"]\n",
    "print(\"v42\")\n",
    "for element in bamba:\n",
    "    print(element)\n",
    "print(bamba)\n",
    "print(f\"bamba[-1]: {bamba[-1]}\")\n",
    "print(f\"bamba[1:4]: {bamba[1:4]}\")\n",
    "bamba.append(\"Pasta\")\n",
    "print(bamba)\n",
    "for i, bamba in enumerate(bamba):\n",
    "    print(f\"{i}: {bamba}\")"
   ]
  },
  {
   "cell_type": "markdown",
   "metadata": {},
   "source": [
    "# Upp 2"
   ]
  },
  {
   "cell_type": "code",
   "execution_count": 23,
   "metadata": {},
   "outputs": [
    {
     "name": "stdout",
     "output_type": "stream",
     "text": [
      "The number of ones is 166470 in dice rolls\n",
      "The number of twos is 333477 in dice rolls\n",
      "The number of threes is 500078 in dice rolls\n",
      "The number of fours is 666451 in dice rolls\n",
      "The number of fives is 833512 in dice rolls\n",
      "The number of sixes is 1000000 in dice rolls\n"
     ]
    }
   ],
   "source": [
    "import random as rnd\n",
    "dice_rolls = [rnd.randint(1,6) for i in range (1000000)]\n",
    "num= 0\n",
    "for i in dice_rolls: \n",
    "    if i==1:\n",
    "        num += 1\n",
    "print (f\"The number of ones is {num} in dice rolls\") \n",
    "for i in dice_rolls: \n",
    "    if i==2:\n",
    "        num += 1\n",
    "print (f\"The number of twos is {num} in dice rolls\")\n",
    "for i in dice_rolls: \n",
    "    if i==3:\n",
    "        num += 1\n",
    "print (f\"The number of threes is {num} in dice rolls\")\n",
    "for i in dice_rolls: \n",
    "    if i==4:\n",
    "        num += 1\n",
    "print (f\"The number of fours is {num} in dice rolls\")\n",
    "for i in dice_rolls: \n",
    "    if i==5:\n",
    "        num += 1\n",
    "print (f\"The number of fives is {num} in dice rolls\")\n",
    "for i in dice_rolls: \n",
    "    if i==6:\n",
    "        num += 1\n",
    "print (f\"The number of sixes is {num} in dice rolls\") \n",
    "\n"
   ]
  },
  {
   "cell_type": "code",
   "execution_count": 24,
   "metadata": {},
   "outputs": [
    {
     "name": "stdout",
     "output_type": "stream",
     "text": [
      "Number of 1 is: 166811\n",
      "Number of 2 is: 166343\n",
      "Number of 3 is: 166363\n",
      "Number of 4 is: 166159\n",
      "Number of 5 is: 167754\n",
      "Number of 6 is: 166570\n"
     ]
    }
   ],
   "source": [
    "import random as rnd\n",
    "dice_rolls = [rnd.randint(1,6) for i in range (1000000)] \n",
    "num1 = dice_rolls.count (1)\n",
    "num2 = dice_rolls.count (2)\n",
    "num3 = dice_rolls.count (3)\n",
    "num4 = dice_rolls.count (4)\n",
    "num5 = dice_rolls.count (5)\n",
    "num6 = dice_rolls.count (6)\n",
    "print (f\"Number of 1 is: {num1}\")\n",
    "print (f\"Number of 2 is: {num2}\")\n",
    "print (f\"Number of 3 is: {num3}\")\n",
    "print (f\"Number of 4 is: {num4}\")\n",
    "print (f\"Number of 5 is: {num5}\")\n",
    "print (f\"Number of 6 is: {num6}\")"
   ]
  },
  {
   "cell_type": "markdown",
   "metadata": {},
   "source": [
    "# Upp3"
   ]
  },
  {
   "cell_type": "code",
   "execution_count": 1,
   "metadata": {},
   "outputs": [
    {
     "name": "stdout",
     "output_type": "stream",
     "text": [
      "the radius must be a number\n",
      "the volume of the sphere is 113.09733552923255\n"
     ]
    }
   ],
   "source": [
    "import math\n",
    "\n",
    "def Volume_sphere(radius):\n",
    "    if not isinstance(radius, (int,float)):\n",
    "        raise TypeError(\"the radius must be a number\") \n",
    "    if radius <= 0:\n",
    "        raise ValueError(\"The radius must be positive\")\n",
    "    return (4*math.pi*(radius**3)/3)\n",
    "    \n",
    "while True:\n",
    "    radius = input(\"Enter the radius of the sphere\")\n",
    "    try:\n",
    "        if radius.isalpha():\n",
    "            raise TypeError(\"the radius must be a number\")\n",
    "        radius = int(radius)\n",
    "        if radius <= 0:\n",
    "            raise ValueError(\"The radius must be positive\")\n",
    "        print(f\"the volume of the sphere is {Volume_sphere(radius)}\")\n",
    "        break\n",
    "    except (ValueError, TypeError) as err :\n",
    "        print(err)"
   ]
  },
  {
   "cell_type": "code",
   "execution_count": null,
   "metadata": {},
   "outputs": [],
   "source": [
    "import matplotlib.pyplot as plt\n",
    "\n",
    "x = list(range(10))\n",
    "y = [i**2 for i in x]\n",
    "fig, ax = plt.figure(), plt.axes()\n",
    "ax.plot(x,y)\n",
    "ax.set(title=\"Plot\", xlabel=\"x\", ylabel=\"y\")\n"
   ]
  },
  {
   "cell_type": "markdown",
   "metadata": {},
   "source": [
    "# Upp5"
   ]
  },
  {
   "cell_type": "code",
   "execution_count": null,
   "metadata": {},
   "outputs": [],
   "source": [
    "path = \"files/test_point:txt\"\n",
    "with open (path, \"r\") as fil:\n",
    "    text = [line.strip(\"\\n\") for line in fil.readlines()] # read each line and save it in the list fil.\n",
    "    text. pop() #removes the heading\n",
    "    text = [line.split(\" \") for line in text] #split elements and create inner lists of 2 points\n",
    "    text = [[line[0].replace(\"(\", \" \"). replace (\")\", \" \"), line[1].replace(\"(\", \" \"). replace (\")\", \" \")] for line in text] #remove all parenthesis in the inner list\n",
    "    text = [[line[0].split(\",\"), line[1].split(\",\")] for line in text] #split elements in lists which contains values x and y\n",
    "    text = [[(int(line[0][0]), int(line[0][1])), (int(line[1][0]), int(line[1][1]))] for line in text] #change values and save the as tuple (x, y)\n",
    "\n",
    "def eu_distance(p1 = tuple, p2 = tuple):\n",
    "    return ((p1[0]-p2[0])**2 + (p1[1]-p2[1])**2)**0,5\n",
    "\n",
    "for p in text:\n",
    "    print(f\"eu_ distance between {p[0]} and {p[1]} is {eu_distance(p[0], p[1]):.2f}.\")\n"
   ]
  },
  {
   "cell_type": "markdown",
   "metadata": {},
   "source": [
    "# Upp 7"
   ]
  },
  {
   "cell_type": "code",
   "execution_count": 6,
   "metadata": {},
   "outputs": [
    {
     "name": "stdout",
     "output_type": "stream",
     "text": [
      "Normal distribution: 3.5, 5.0.\n",
      "Normal distribution: 1.5, 3.0.\n",
      "Normal distribution: 5.0, 8.0.\n",
      "0.04648188673372112\n"
     ]
    }
   ],
   "source": [
    "import math\n",
    "\n",
    "class NormalDist:\n",
    "    def __init__(self, mu: float, sigma: float) -> None:\n",
    "        self.mu = mu\n",
    "        self.sigma = sigma\n",
    "\n",
    "    @property \n",
    "    def mu(self) -> float:\n",
    "        return self._mu \n",
    "    @mu.setter\n",
    "    def mu(self, mu: float):\n",
    "        if not isinstance(mu, float):\n",
    "            raise TypeError(\"mu must be float.\")\n",
    "        self._mu = mu\n",
    "        return self._mu\n",
    "    @property\n",
    "    def sigma(self) -> float:\n",
    "        return self._sigma\n",
    "    @sigma.setter\n",
    "    def sigma(self, sigma: float):\n",
    "        if not isinstance(sigma, float):\n",
    "            raise TypeError(\"sigma must be float.\")\n",
    "        self._sigma = sigma\n",
    "        return self._sigma\n",
    "    \n",
    "    def pdf(self, x:float) -> None:\n",
    "        formula = 1/(self.sigma*(math.sqrt(2*math.pi)))*math.e**(-1/2*((x-self.mu)/self.sigma)**2)\n",
    "        return formula    \n",
    "    \n",
    "    def __add__(self, other):\n",
    "        addition = NormalDist((self.mu + other.mu), (self.sigma + other.sigma))\n",
    "        return addition\n",
    "    \n",
    "    def plot_pdf(self, x:float) -> None:\n",
    "        plt.figure(dpi=100)\n",
    "        plt.axes()\n",
    "        ax.plot()\n",
    "        ax.scatter(x, self.pdf(x)) \n",
    "        ax.set(title=\"Normal Distribution\", xlabel=\"x\", ylabel=\"f(x)\")\n",
    "        plt.show()\n",
    "\n",
    "    def __repr__(self) -> str:\n",
    "        return (f\"Normal distribution: {self.mu}, {self.sigma}.\")\n",
    "\n",
    "dist1 = NormalDist(3.5, 5.0)\n",
    "dist2 = NormalDist(1.5, 3.0)\n",
    "dist = dist1 + dist2\n",
    "dist3 = dist.pdf(2.0)\n",
    "print(dist1)\n",
    "print(dist2)\n",
    "print(dist)\n",
    "print(dist3)\n"
   ]
  }
 ],
 "metadata": {
  "interpreter": {
   "hash": "7d6c493d9be3ce9414559ad9bbf78b458bfd2ecad0291fac6402a6d619a9155a"
  },
  "kernelspec": {
   "display_name": "Python 3.9.6 64-bit ('python_programering_Amal_Derbali-3tAF7EDp': pipenv)",
   "name": "python3"
  },
  "language_info": {
   "codemirror_mode": {
    "name": "ipython",
    "version": 3
   },
   "file_extension": ".py",
   "mimetype": "text/x-python",
   "name": "python",
   "nbconvert_exporter": "python",
   "pygments_lexer": "ipython3",
   "version": "3.9.6"
  },
  "orig_nbformat": 4
 },
 "nbformat": 4,
 "nbformat_minor": 2
}
