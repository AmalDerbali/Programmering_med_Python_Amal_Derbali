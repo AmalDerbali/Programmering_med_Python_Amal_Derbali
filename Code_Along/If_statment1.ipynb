{
 "cells": [
  {
   "cell_type": "code",
   "execution_count": 5,
   "source": [
    "age = int(input(\"Hur gammal är du\"))\r\n",
    "\r\n",
    "if age < 18:\r\n",
    "    print (\"Du får inte gå till puben\")\r\n",
    "else:\r\n",
    "    print (\"Du får gå till puben\")\r\n",
    "print (\"Programmet fortsätter här\")\r\n"
   ],
   "outputs": [
    {
     "output_type": "stream",
     "name": "stdout",
     "text": [
      "Du får gå till puben\n",
      "Programmet fortsätter här\n"
     ]
    }
   ],
   "metadata": {}
  },
  {
   "cell_type": "code",
   "execution_count": 9,
   "source": [
    "age = 15\r\n",
    "height = 129\r\n",
    "\r\n",
    "if age >= 11 or height >= 130:\r\n",
    "    print (\"Du får åka balder\")\r\n",
    "else:\r\n",
    "    print (\"Åk rabalder istället\")\r\n",
    "print (\"Ha så kul på Liseberg\")\r\n"
   ],
   "outputs": [
    {
     "output_type": "stream",
     "name": "stdout",
     "text": [
      "Du får åka balder\n",
      "Ha så kul på Liseberg\n"
     ]
    }
   ],
   "metadata": {}
  },
  {
   "cell_type": "code",
   "execution_count": 11,
   "source": [
    "#modulos operator %\r\n",
    "\r\n",
    "number = 6 # checka om num är jämt eller udda: dividera med 2\r\n",
    "\r\n",
    "print (number%2) \r\n",
    "\r\n",
    "if number % 2 == 0:\r\n",
    "    print (f\"{number} är jämt\")\r\n",
    "else:\r\n",
    "    print (f\"{number} är udda\")\r\n"
   ],
   "outputs": [
    {
     "output_type": "stream",
     "name": "stdout",
     "text": [
      "0\n",
      "6 är jämt\n"
     ]
    }
   ],
   "metadata": {}
  }
 ],
 "metadata": {
  "orig_nbformat": 4,
  "language_info": {
   "name": "python",
   "version": "3.9.6",
   "mimetype": "text/x-python",
   "codemirror_mode": {
    "name": "ipython",
    "version": 3
   },
   "pygments_lexer": "ipython3",
   "nbconvert_exporter": "python",
   "file_extension": ".py"
  },
  "kernelspec": {
   "name": "python3",
   "display_name": "Python 3.9.6 64-bit"
  },
  "interpreter": {
   "hash": "eacaffae8a739d4b7c9a2bb010540ab3fb2fd534d4d9d1bb6421b24cb8b2e27c"
  }
 },
 "nbformat": 4,
 "nbformat_minor": 2
}