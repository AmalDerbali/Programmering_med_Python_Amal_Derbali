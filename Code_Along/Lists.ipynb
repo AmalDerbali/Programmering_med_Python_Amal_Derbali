{
 "cells": [
  {
   "cell_type": "markdown",
   "source": [
    "Lists"
   ],
   "metadata": {}
  },
  {
   "cell_type": "code",
   "execution_count": 5,
   "source": [
    "tv_shows = [\"Antikrundan\", \"Mästerkockarna\", \"Aktuellt\" , \"Talang\"] \r\n",
    "# eccess items = [] operator\r\n",
    "print(f\"tv_shows[0]: {tv_shows[0]}\")\r\n",
    "print(f\"tv_shows[1]: {tv_shows[1]}\")\r\n",
    "print(f\"tv_shows[2]: {tv_shows[2]}\")\r\n",
    "\r\n",
    "print(f\"tv_shows[-1]: {tv_shows[-1]}\")\r\n",
    "\r\n",
    "# slicing operator - : operator\r\n",
    "\r\n",
    "print(f\"tv_shows[1:]: {tv_shows[1:]}\")\r\n",
    "# starts in index 1 and goes to the end\r\n",
    "print(f\"tv_shows[1:3]: {tv_shows[1:3]}\")"
   ],
   "outputs": [
    {
     "output_type": "stream",
     "name": "stdout",
     "text": [
      "tv_shows[0]: Antikrundan\n",
      "tv_shows[1]: Mästerkockarna\n",
      "tv_shows[2]: Aktuellt\n",
      "tv_shows[-1]: Talang\n",
      "tv_shows[1:]: ['Mästerkockarna', 'Aktuellt', 'Talang']\n",
      "tv_shows[1:2]: ['Mästerkockarna']\n"
     ]
    }
   ],
   "metadata": {}
  },
  {
   "cell_type": "code",
   "execution_count": 8,
   "source": [
    "# change list items\r\n",
    "tv_shows = [\"Antikrundan\", \"Mästerkockarna\", \"Aktuellt\" , \"Talang\"] \r\n",
    "tv_shows [0] = \"Vetenskapens väld\"\r\n",
    "print (tv_shows)\r\n",
    "\r\n",
    "# add an item to the list\r\n",
    "tv_shows.append (\"Go kväll\")\r\n",
    "print (tv_shows)"
   ],
   "outputs": [
    {
     "output_type": "stream",
     "name": "stdout",
     "text": [
      "['Vetenskapens väld', 'Mästerkockarna', 'Aktuellt', 'Talang']\n",
      "['Vetenskapens väld', 'Mästerkockarna', 'Aktuellt', 'Talang', 'Go kväll']\n"
     ]
    }
   ],
   "metadata": {}
  },
  {
   "cell_type": "markdown",
   "source": [
    "Iterate through list"
   ],
   "metadata": {}
  },
  {
   "cell_type": "code",
   "execution_count": 9,
   "source": [
    "for tv_shows in tv_shows:\r\n",
    "    print (tv_shows)\r\n"
   ],
   "outputs": [
    {
     "output_type": "stream",
     "name": "stdout",
     "text": [
      "Vetenskapens väld\n",
      "Mästerkockarna\n",
      "Aktuellt\n",
      "Talang\n",
      "Go kväll\n"
     ]
    }
   ],
   "metadata": {}
  },
  {
   "cell_type": "code",
   "execution_count": 3,
   "source": [
    "print (\"tv tablå\")\r\n",
    "for i, tv_shows in enumerate (tv_shows):\r\n",
    "    print (f\"{i}: {tv_shows}\")"
   ],
   "outputs": [
    {
     "output_type": "stream",
     "name": "stdout",
     "text": [
      "tv tablå\n",
      "0: 1.Mästerkockarna\n",
      "1: Aktuellt\n",
      "2: Go Kväll\n",
      "3: Talang\n",
      "4: Vetenskapens värld\n",
      "5: Äta\n",
      "6: 89\n"
     ]
    }
   ],
   "metadata": {}
  },
  {
   "cell_type": "code",
   "execution_count": 13,
   "source": [
    "# lists of cubes\r\n",
    "cubes = []\r\n",
    "for i in range (10):\r\n",
    "    cubes.append(i**3)\r\n",
    "\r\n",
    "print (cubes)"
   ],
   "outputs": [
    {
     "output_type": "stream",
     "name": "stdout",
     "text": [
      "[0, 1, 8, 27, 64, 125, 216, 343, 512, 729]\n"
     ]
    }
   ],
   "metadata": {}
  },
  {
   "cell_type": "code",
   "execution_count": 14,
   "source": [
    "# list comprehensions\r\n",
    "cubes2 = [x**3 for x in range (10)]\r\n",
    "print (cubes2)"
   ],
   "outputs": [
    {
     "output_type": "stream",
     "name": "stdout",
     "text": [
      "[0, 1, 8, 27, 64, 125, 216, 343, 512, 729]\n"
     ]
    }
   ],
   "metadata": {}
  },
  {
   "cell_type": "code",
   "execution_count": 2,
   "source": [
    "#cube every even number - list comprehension with if-st inside\r\n",
    "cubes_even = [x**3 for x in range (10) if x%2==0]\r\n",
    "print (cubes_even)"
   ],
   "outputs": [
    {
     "output_type": "stream",
     "name": "stdout",
     "text": [
      "[0, 8, 64, 216, 512]\n"
     ]
    }
   ],
   "metadata": {}
  },
  {
   "cell_type": "code",
   "execution_count": 15,
   "source": [
    "import random as rnd\r\n",
    "dices = [rnd.randint (1,6) for _ in range (10)]\r\n",
    "print (dices)\r\n",
    "dices.sort()\r\n",
    "print (dices)"
   ],
   "outputs": [
    {
     "output_type": "stream",
     "name": "stdout",
     "text": [
      "[1, 2, 5, 6, 6, 2, 6, 1, 3, 6]\n",
      "[1, 1, 2, 2, 3, 5, 6, 6, 6, 6]\n"
     ]
    }
   ],
   "metadata": {}
  },
  {
   "cell_type": "code",
   "execution_count": 5,
   "source": [
    "tv_shows = [\"Äta\", \"Vetenskapens värld\", \"1.Mästerkockarna\", \"Aktuellt\" , \"Talang\", \"Go Kväll\", \"89\"]\r\n",
    "print (tv_shows)\r\n",
    "\r\n",
    "tv_shows.sort()\r\n",
    "print (tv_shows)"
   ],
   "outputs": [
    {
     "output_type": "stream",
     "name": "stdout",
     "text": [
      "['Äta', 'Vetenskapens värld', '1.Mästerkockarna', 'Aktuellt', 'Talang', 'Go Kväll', '89']\n",
      "['1.Mästerkockarna', '89', 'Aktuellt', 'Go Kväll', 'Talang', 'Vetenskapens värld', 'Äta']\n"
     ]
    }
   ],
   "metadata": {}
  },
  {
   "cell_type": "code",
   "execution_count": 22,
   "source": [
    "# list in a list\r\n",
    "grades = [[\"A\", 30], [\"B\", 25], [\"C\", 20]]\r\n",
    "print (f\"grades[1]: {grades[1]}\")\r\n",
    "print (f\"grades[1][0]: Betyg {grades[1][0]}\")"
   ],
   "outputs": [
    {
     "output_type": "stream",
     "name": "stdout",
     "text": [
      "grades[1]: ['B', 25]\n",
      "grades[1][0]: Betyg B\n"
     ]
    }
   ],
   "metadata": {}
  }
 ],
 "metadata": {
  "orig_nbformat": 4,
  "language_info": {
   "name": "python",
   "version": "3.9.6",
   "mimetype": "text/x-python",
   "codemirror_mode": {
    "name": "ipython",
    "version": 3
   },
   "pygments_lexer": "ipython3",
   "nbconvert_exporter": "python",
   "file_extension": ".py"
  },
  "kernelspec": {
   "name": "python3",
   "display_name": "Python 3.9.6 64-bit"
  },
  "interpreter": {
   "hash": "eacaffae8a739d4b7c9a2bb010540ab3fb2fd534d4d9d1bb6421b24cb8b2e27c"
  }
 },
 "nbformat": 4,
 "nbformat_minor": 2
}