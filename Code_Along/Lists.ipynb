{
 "cells": [
  {
   "cell_type": "markdown",
   "source": [
    "Lists"
   ],
   "metadata": {}
  },
  {
   "cell_type": "code",
   "execution_count": 5,
   "source": [
    "tv_shows = [\"Antikrundan\", \"Mästerkockarna\", \"Aktuellt\" , \"Talang\"] \r\n",
    "# eccess items = [] operator\r\n",
    "print(f\"tv_shows[0]: {tv_shows[0]}\")\r\n",
    "print(f\"tv_shows[1]: {tv_shows[1]}\")\r\n",
    "print(f\"tv_shows[2]: {tv_shows[2]}\")\r\n",
    "\r\n",
    "print(f\"tv_shows[-1]: {tv_shows[-1]}\")\r\n",
    "\r\n",
    "# slicing operator - : operator\r\n",
    "\r\n",
    "print(f\"tv_shows[1:]: {tv_shows[1:]}\")\r\n",
    "# starts in index 1 and goes to the end\r\n",
    "print(f\"tv_shows[1:3]: {tv_shows[1:3]}\")"
   ],
   "outputs": [
    {
     "output_type": "stream",
     "name": "stdout",
     "text": [
      "tv_shows[0]: Antikrundan\n",
      "tv_shows[1]: Mästerkockarna\n",
      "tv_shows[2]: Aktuellt\n",
      "tv_shows[-1]: Talang\n",
      "tv_shows[1:]: ['Mästerkockarna', 'Aktuellt', 'Talang']\n",
      "tv_shows[1:2]: ['Mästerkockarna']\n"
     ]
    }
   ],
   "metadata": {}
  },
  {
   "cell_type": "code",
   "execution_count": 8,
   "source": [
    "# change list items\r\n",
    "tv_shows = [\"Antikrundan\", \"Mästerkockarna\", \"Aktuellt\" , \"Talang\"] \r\n",
    "tv_shows [0] = \"Vetenskapens väld\"\r\n",
    "print (tv_shows)\r\n",
    "\r\n",
    "# add an item to the list\r\n",
    "tv_shows.append (\"Go kväll\")\r\n",
    "print (tv_shows)"
   ],
   "outputs": [
    {
     "output_type": "stream",
     "name": "stdout",
     "text": [
      "['Vetenskapens väld', 'Mästerkockarna', 'Aktuellt', 'Talang']\n",
      "['Vetenskapens väld', 'Mästerkockarna', 'Aktuellt', 'Talang', 'Go kväll']\n"
     ]
    }
   ],
   "metadata": {}
  },
  {
   "cell_type": "markdown",
   "source": [
    "Iterate through list"
   ],
   "metadata": {}
  },
  {
   "cell_type": "code",
   "execution_count": 9,
   "source": [
    "for tv_shows in tv_shows:\r\n",
    "    print (tv_shows)\r\n"
   ],
   "outputs": [
    {
     "output_type": "stream",
     "name": "stdout",
     "text": [
      "Vetenskapens väld\n",
      "Mästerkockarna\n",
      "Aktuellt\n",
      "Talang\n",
      "Go kväll\n"
     ]
    }
   ],
   "metadata": {}
  },
  {
   "cell_type": "code",
   "execution_count": 10,
   "source": [
    "print (\"tv_tablå\")\r\n",
    "for i, tv_shows in enumerate (tv_shows):\r\n",
    "    print (f\"{i}: {tv_shows}\")"
   ],
   "outputs": [
    {
     "output_type": "stream",
     "name": "stdout",
     "text": [
      "tv_tablå\n",
      "0: G\n",
      "1: o\n",
      "2:  \n",
      "3: k\n",
      "4: v\n",
      "5: ä\n",
      "6: l\n",
      "7: l\n"
     ]
    }
   ],
   "metadata": {}
  }
 ],
 "metadata": {
  "orig_nbformat": 4,
  "language_info": {
   "name": "python",
   "version": "3.9.6",
   "mimetype": "text/x-python",
   "codemirror_mode": {
    "name": "ipython",
    "version": 3
   },
   "pygments_lexer": "ipython3",
   "nbconvert_exporter": "python",
   "file_extension": ".py"
  },
  "kernelspec": {
   "name": "python3",
   "display_name": "Python 3.9.6 64-bit"
  },
  "interpreter": {
   "hash": "eacaffae8a739d4b7c9a2bb010540ab3fb2fd534d4d9d1bb6421b24cb8b2e27c"
  }
 },
 "nbformat": 4,
 "nbformat_minor": 2
}