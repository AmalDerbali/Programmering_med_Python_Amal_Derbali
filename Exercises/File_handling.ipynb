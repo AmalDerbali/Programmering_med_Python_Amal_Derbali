{
 "cells": [
  {
   "cell_type": "markdown",
   "source": [
    "# 1) Dice rolls"
   ],
   "metadata": {}
  },
  {
   "cell_type": "markdown",
   "source": [
    "# a)"
   ],
   "metadata": {}
  },
  {
   "cell_type": "code",
   "execution_count": 41,
   "source": [
    "dice_rolls = \"Exercises08_file_handling/dice_rolls.txt\"\r\n",
    "\r\n",
    "import random as rnd\r\n",
    "dices = [rnd.randint (1,6) for i in range (20)]\r\n",
    "print (f\"Simulate 20 dice rolls:\\n{dices}\")\r\n",
    "\r\n",
    "with open (dice_rolls, \"w\") as f:\r\n",
    "    f.write (f\"Simulate 20 dice rolls:\\n{dices}\")\r\n",
    "\r\n",
    "\r\n",
    "\r\n"
   ],
   "outputs": [
    {
     "output_type": "stream",
     "name": "stdout",
     "text": [
      "Simulate 20 dice rolls:\n",
      "[4, 1, 6, 3, 4, 3, 1, 5, 4, 1, 6, 5, 6, 3, 2, 6, 6, 6, 6, 4]\n"
     ]
    }
   ],
   "metadata": {}
  },
  {
   "cell_type": "markdown",
   "source": [
    "# b)"
   ],
   "metadata": {}
  },
  {
   "cell_type": "code",
   "execution_count": 46,
   "source": [
    "\r\n",
    "dice_rolls = \"Exercises08_file_handling/dice_rolls.txt\"\r\n",
    "import random as rnd\r\n",
    "dices = [rnd.randint (1,6) for i in range (20)]\r\n",
    "dices.sort()\r\n",
    "print (f\"Sorted dice rolls:\\n{dices}\")\r\n",
    "with open (dice_rolls, \"r\") as f1:\r\n",
    "    f1.read(f\"Sorted dice rolls:\\n{dices}\")\r\n",
    "\r\n",
    "    \r\n",
    " \r\n",
    "    \r\n",
    "\r\n",
    "    "
   ],
   "outputs": [
    {
     "output_type": "stream",
     "name": "stdout",
     "text": [
      "Sorted dice rolls:\n",
      "[1, 1, 1, 2, 2, 2, 3, 3, 3, 3, 3, 4, 4, 4, 4, 5, 5, 5, 5, 6]\n"
     ]
    },
    {
     "output_type": "error",
     "ename": "TypeError",
     "evalue": "argument should be integer or None, not 'str'",
     "traceback": [
      "\u001b[1;31m---------------------------------------------------------------------------\u001b[0m",
      "\u001b[1;31mTypeError\u001b[0m                                 Traceback (most recent call last)",
      "\u001b[1;32mC:\\Users\\AMALDE~1\\AppData\\Local\\Temp/ipykernel_7888/1838466258.py\u001b[0m in \u001b[0;36m<module>\u001b[1;34m\u001b[0m\n\u001b[0;32m      5\u001b[0m \u001b[0mprint\u001b[0m \u001b[1;33m(\u001b[0m\u001b[1;34mf\"Sorted dice rolls:\\n{dices}\"\u001b[0m\u001b[1;33m)\u001b[0m\u001b[1;33m\u001b[0m\u001b[1;33m\u001b[0m\u001b[0m\n\u001b[0;32m      6\u001b[0m \u001b[1;32mwith\u001b[0m \u001b[0mopen\u001b[0m \u001b[1;33m(\u001b[0m\u001b[0mdice_rolls\u001b[0m\u001b[1;33m,\u001b[0m \u001b[1;34m\"r\"\u001b[0m\u001b[1;33m)\u001b[0m \u001b[1;32mas\u001b[0m \u001b[0mf1\u001b[0m\u001b[1;33m:\u001b[0m\u001b[1;33m\u001b[0m\u001b[1;33m\u001b[0m\u001b[0m\n\u001b[1;32m----> 7\u001b[1;33m     \u001b[0mf1\u001b[0m\u001b[1;33m.\u001b[0m\u001b[0mread\u001b[0m\u001b[1;33m(\u001b[0m\u001b[1;34mf\"Sorted dice rolls:\\n{dices}\"\u001b[0m\u001b[1;33m)\u001b[0m\u001b[1;33m\u001b[0m\u001b[1;33m\u001b[0m\u001b[0m\n\u001b[0m\u001b[0;32m      8\u001b[0m \u001b[1;33m\u001b[0m\u001b[0m\n\u001b[0;32m      9\u001b[0m \u001b[1;33m\u001b[0m\u001b[0m\n",
      "\u001b[1;31mTypeError\u001b[0m: argument should be integer or None, not 'str'"
     ]
    }
   ],
   "metadata": {}
  },
  {
   "cell_type": "markdown",
   "source": [
    "# c)"
   ],
   "metadata": {}
  },
  {
   "cell_type": "code",
   "execution_count": 38,
   "source": [
    "dice_rolls = \"Exercises08_file_handling/dice_rolls.txt\"\r\n",
    "import random as rnd\r\n",
    "dices = [rnd.randint (1,6) for i in range (20)]\r\n",
    "dices.sort()\r\n",
    "with open (dice_rolls, \"w\") as f:\r\n",
    "    for dice in dices:\r\n",
    "        print (dice)\r\n",
    "        f.write (f\"{dice}\")"
   ],
   "outputs": [
    {
     "output_type": "stream",
     "name": "stdout",
     "text": [
      "1\n",
      "1\n",
      "2\n",
      "2\n",
      "2\n",
      "3\n",
      "3\n",
      "4\n",
      "5\n",
      "5\n",
      "5\n",
      "5\n",
      "5\n",
      "5\n",
      "5\n",
      "6\n",
      "6\n",
      "6\n",
      "6\n",
      "6\n"
     ]
    }
   ],
   "metadata": {}
  }
 ],
 "metadata": {
  "orig_nbformat": 4,
  "language_info": {
   "name": "python",
   "version": "3.9.6",
   "mimetype": "text/x-python",
   "codemirror_mode": {
    "name": "ipython",
    "version": 3
   },
   "pygments_lexer": "ipython3",
   "nbconvert_exporter": "python",
   "file_extension": ".py"
  },
  "kernelspec": {
   "name": "python3",
   "display_name": "Python 3.9.6 64-bit ('python_programering_Amal_Derbali-3tAF7EDp': pipenv)"
  },
  "interpreter": {
   "hash": "7d6c493d9be3ce9414559ad9bbf78b458bfd2ecad0291fac6402a6d619a9155a"
  }
 },
 "nbformat": 4,
 "nbformat_minor": 2
}