{
 "cells": [
  {
   "cell_type": "markdown",
   "source": [
    "# 1- Find errors"
   ],
   "metadata": {}
  },
  {
   "cell_type": "code",
   "execution_count": 5,
   "source": [
    "import numpy as np\r\n",
    " \r\n",
    "def distance(x,y):\r\n",
    "    return np.sqrt(x**2 + y**2)\r\n",
    " \r\n",
    "print(f\"The distance between (0.5, 0.5) and origin is around {distance(0.5, 0.5):.3f}.\")"
   ],
   "outputs": [
    {
     "output_type": "stream",
     "name": "stdout",
     "text": [
      "The distance between (0.5, 0.5) and origin is around 0.707.\n"
     ]
    }
   ],
   "metadata": {}
  },
  {
   "cell_type": "markdown",
   "source": [
    "# 2- Find errors"
   ],
   "metadata": {}
  },
  {
   "cell_type": "code",
   "execution_count": 8,
   "source": [
    "def is_fourdigit(number):\r\n",
    "    if 0 <= number//1000 < 10:\r\n",
    "        return True\r\n",
    "    else:\r\n",
    "        return False\r\n",
    "\r\n",
    "# test program\r\n",
    "test_numbers = [231, 3124, -4124, -1000,-999, 1001, 10000, -10000, 999]\r\n",
    "\r\n",
    "for number in test_numbers:\r\n",
    "    if is_fourdigit(number):\r\n",
    "        print(f\"{number} is four-digit\")\r\n",
    "    else:\r\n",
    "        print(f\"{number} is not four-digit\")"
   ],
   "outputs": [
    {
     "output_type": "stream",
     "name": "stdout",
     "text": [
      "231 is four-digit\n",
      "3124 is four-digit\n",
      "-4124 is not four-digit\n",
      "-1000 is not four-digit\n",
      "-999 is not four-digit\n",
      "1001 is four-digit\n",
      "10000 is not four-digit\n",
      "-10000 is not four-digit\n",
      "999 is four-digit\n"
     ]
    }
   ],
   "metadata": {}
  }
 ],
 "metadata": {
  "orig_nbformat": 4,
  "language_info": {
   "name": "python",
   "version": "3.9.6",
   "mimetype": "text/x-python",
   "codemirror_mode": {
    "name": "ipython",
    "version": 3
   },
   "pygments_lexer": "ipython3",
   "nbconvert_exporter": "python",
   "file_extension": ".py"
  },
  "kernelspec": {
   "name": "python3",
   "display_name": "Python 3.9.6 64-bit ('python_programering_Amal_Derbali-3tAF7EDp': pipenv)"
  },
  "interpreter": {
   "hash": "7d6c493d9be3ce9414559ad9bbf78b458bfd2ecad0291fac6402a6d619a9155a"
  }
 },
 "nbformat": 4,
 "nbformat_minor": 2
}