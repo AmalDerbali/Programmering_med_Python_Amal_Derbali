{
 "cells": [
  {
   "cell_type": "markdown",
   "source": [
    "# 1- Find errors"
   ],
   "metadata": {}
  },
  {
   "cell_type": "code",
   "execution_count": 5,
   "source": [
    "import numpy as np\r\n",
    " \r\n",
    "def distance(x,y):\r\n",
    "    return np.sqrt(x**2 + y**2)\r\n",
    " \r\n",
    "print(f\"The distance between (0.5, 0.5) and origin is around {distance(0.5, 0.5):.3f}.\")"
   ],
   "outputs": [
    {
     "output_type": "stream",
     "name": "stdout",
     "text": [
      "The distance between (0.5, 0.5) and origin is around 0.707.\n"
     ]
    }
   ],
   "metadata": {}
  },
  {
   "cell_type": "markdown",
   "source": [
    "# 2- Find errors"
   ],
   "metadata": {}
  },
  {
   "cell_type": "code",
   "execution_count": 8,
   "source": [
    "def is_fourdigit(number):\r\n",
    "    if 0 <= number//1000 < 10:\r\n",
    "        return True\r\n",
    "    else:\r\n",
    "        return False\r\n",
    "\r\n",
    "# test program\r\n",
    "test_numbers = [231, 3124, -4124, -1000,-999, 1001, 10000, -10000, 999]\r\n",
    "\r\n",
    "for number in test_numbers:\r\n",
    "    if is_fourdigit(number):\r\n",
    "        print(f\"{number} is four-digit\")\r\n",
    "    else:\r\n",
    "        print(f\"{number} is not four-digit\")"
   ],
   "outputs": [
    {
     "output_type": "stream",
     "name": "stdout",
     "text": [
      "231 is four-digit\n",
      "3124 is four-digit\n",
      "-4124 is not four-digit\n",
      "-1000 is not four-digit\n",
      "-999 is not four-digit\n",
      "1001 is four-digit\n",
      "10000 is not four-digit\n",
      "-10000 is not four-digit\n",
      "999 is four-digit\n"
     ]
    }
   ],
   "metadata": {}
  },
  {
   "cell_type": "markdown",
   "source": [
    "# 3- Fin errors"
   ],
   "metadata": {}
  },
  {
   "cell_type": "code",
   "execution_count": null,
   "source": [
    "while True: \r\n",
    "    n_times = float(input(\"How many times you want to take tram in one month?\"))\r\n",
    "\r\n",
    "    try:\r\n",
    "        n_times = float(n_times)\r\n",
    "        if not 0<= n_times <=150:\r\n",
    "            raise ValueError(\"number of times must be between 0 and 150\")\r\n",
    "        print(f\"You take the tram {n_times} in one month.\")\r\n",
    "        break \r\n",
    "\r\n",
    "    except ValueError as err:\r\n",
    "        print(err)\r\n",
    "\r\n",
    "while True: \r\n",
    "    ticket = float(input(\"How much does one ticket cost?\"))\r\n",
    "\r\n",
    "    try:\r\n",
    "        ticket = float(ticket)\r\n",
    "        if not 0<= ticket <=100:\r\n",
    "            raise ValueError(\"one ticket must cost between 0 and 100 kr.\")\r\n",
    "        print(f\"The ticket costs {ticket} kr.\")\r\n",
    "        break \r\n",
    "\r\n",
    "    except ValueError as err:\r\n",
    "        print(err)\r\n",
    "\r\n",
    "while True: \r\n",
    "    card = float(input(\"How much does one month card cost?\"))\r\n",
    "\r\n",
    "    try:\r\n",
    "        card = float(card)\r\n",
    "        if not 0<= card <=1000:\r\n",
    "            raise ValueError(\"The card must cost between 0 and 1000 kr.\")\r\n",
    "        print(f\"The card costs {card} kr.\")\r\n",
    "        break \r\n",
    "\r\n",
    "    except ValueError as err:\r\n",
    "        print(err)\r\n",
    "\r\n",
    "print (f\"it costs {ticket*n_times} kr in one month\")\r\n",
    "if ticket*n_times > card:\r\n",
    "    print(\"Its better to buy a card to take the tram.\")\r\n",
    "else:\r\n",
    "    print(\"Its better to buy a ticket everytime you take the tram.\")"
   ],
   "outputs": [],
   "metadata": {}
  }
 ],
 "metadata": {
  "orig_nbformat": 4,
  "language_info": {
   "name": "python",
   "version": "3.9.6",
   "mimetype": "text/x-python",
   "codemirror_mode": {
    "name": "ipython",
    "version": 3
   },
   "pygments_lexer": "ipython3",
   "nbconvert_exporter": "python",
   "file_extension": ".py"
  },
  "kernelspec": {
   "name": "python3",
   "display_name": "Python 3.9.6 64-bit ('python_programering_Amal_Derbali-3tAF7EDp': pipenv)"
  },
  "interpreter": {
   "hash": "7d6c493d9be3ce9414559ad9bbf78b458bfd2ecad0291fac6402a6d619a9155a"
  }
 },
 "nbformat": 4,
 "nbformat_minor": 2
}