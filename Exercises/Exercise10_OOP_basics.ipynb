{
 "cells": [
  {
   "cell_type": "markdown",
   "metadata": {},
   "source": [
    "# 1) Unit conversion"
   ]
  },
  {
   "cell_type": "code",
   "execution_count": 30,
   "metadata": {},
   "outputs": [
    {
     "name": "stdout",
     "output_type": "stream",
     "text": [
      "Unit Conversion = 5 \n",
      "5 feet = 1.52 m.\n",
      "5 inches = 12.70 cm.\n",
      "5 pound = 2.27 kg.\n"
     ]
    }
   ],
   "source": [
    "class Conversion:\n",
    "    def __init__ (self, value = float) -> None:\n",
    "        self.value = value\n",
    "    \n",
    "    @property\n",
    "    def value(self) -> float:\n",
    "        return self._value\n",
    "    \n",
    "    @value.setter\n",
    "    def value (self, value: float) -> None:\n",
    "        if not isinstance(value, (int, float)):\n",
    "            raise TypeError(f\"Value must be an int or a float not {type(value)}\")\n",
    "        if  value < 0 :\n",
    "            raise ValueError(\"The value must be a positive number.\")\n",
    "        self._value = value\n",
    "    \n",
    "    def foot_to_meter (self) -> float:\n",
    "        return f\"{self._value} feet = {self._value * 0.3048:.2f} m.\"\n",
    "        \n",
    "    def inch_to_cm (self) ->float:\n",
    "        return f\"{self._value} inches = {self._value * 2.54:.2f} cm.\"\n",
    "    \n",
    "    def pound_to_kg (self) ->float:\n",
    "        return f\"{self._value} pound = {self._value  * 0.45359237:.2f} kg.\"\n",
    "\n",
    "    def __repr__(self) -> str:\n",
    "        return f\"Unit Conversion = {self._value}\"\n",
    "\n",
    "unit = Conversion(5)\n",
    "print(f\"Unit Conversion = 5 \")\n",
    "print(unit.foot_to_meter())\n",
    "print(unit.inch_to_cm())\n",
    "print(unit.pound_to_kg())\n",
    "\n",
    "\n",
    "\n",
    "\n"
   ]
  },
  {
   "cell_type": "markdown",
   "metadata": {},
   "source": [
    "# 2) Person"
   ]
  },
  {
   "cell_type": "code",
   "execution_count": 31,
   "metadata": {},
   "outputs": [
    {
     "name": "stdout",
     "output_type": "stream",
     "text": [
      "Amal Derbali\n",
      "34\n",
      "amal.derbali@iths.se\n",
      "Hi, my name is Amal Derbali, I am 34 years old, my email address is amal.derbali@iths.se.\n"
     ]
    }
   ],
   "source": [
    "  \n",
    "class Person:\n",
    "    def __init__(self, name:str, age:float, email:str) -> None:\n",
    "        self.name = name\n",
    "        self.age = age\n",
    "        self.email = email\n",
    "    \n",
    "    @property\n",
    "    def name(self) -> str:\n",
    "        return self._name\n",
    "\n",
    "    @property\n",
    "    def age(self) -> float:\n",
    "        return self._age  \n",
    "\n",
    "    @property\n",
    "    def email(self) -> str:\n",
    "        return self._email\n",
    "    \n",
    "    @name.setter\n",
    "    def name(self, name:str) -> None:\n",
    "        if not isinstance(name, (str)):\n",
    "            raise TypeError(f\"Name must be a string, not a {type(name)}.\") \n",
    "        self._name = name\n",
    "\n",
    "    @age.setter\n",
    "    def age(self, age:float) -> None:\n",
    "        if not(0 <= age < 125):\n",
    "            raise ValueError(f\"Age must be between 0 and 125, not {age}.\")\n",
    "        self._age = age\n",
    "\n",
    "    @email.setter\n",
    "    def email(self, email:str) -> None:\n",
    "        if not isinstance(email, (str)):\n",
    "            raise TypeError(f\"Email must be a string, not a {type(email)}.\")\n",
    "        if \"@\" not in email:\n",
    "            raise TypeError(f\"The email address must contain a @.\")\n",
    "        self._email = email\n",
    "    \n",
    "    def say_hello(self):\n",
    "        print(f\"Hi, my name is {self._name}, I am {self._age} years old, my email address is {self._email}.\")\n",
    "\n",
    "    def __repr__(self) -> str:\n",
    "        return f\"Person (name='{self._name}', age='{self._age}', email='{self._email}'))\"\n",
    "\n",
    "person1 = Person (\"Amal Derbali\", 34, \"amal.derbali@iths.se\") \n",
    "print(person1.name)\n",
    "print(person1.age)\n",
    "print(person1.email)\n",
    "person1.say_hello()"
   ]
  },
  {
   "cell_type": "markdown",
   "metadata": {},
   "source": [
    "# 3) Student and teacher"
   ]
  },
  {
   "cell_type": "code",
   "execution_count": 32,
   "metadata": {},
   "outputs": [
    {
     "name": "stdout",
     "output_type": "stream",
     "text": [
      "Person (name='Amal Derbali', age='34', email='amal.derbali@iths.se'))\n",
      "Yo, I am a student, my name is Amal Derbali, I am 34 years old, my email address is amal.derbali@iths.se.\n",
      "study...study...study...more study\n",
      "Person (name='kokchun', age='30', email='kokchungiang@gmail.com'))\n",
      "Hi, my name is kokchun, I am 30 years old, my email address is kokchungiang@gmail.com.\n",
      "teach...teach...teach...more teaching\n"
     ]
    }
   ],
   "source": [
    "class Student(Person):\n",
    "    def __init__(self, name, age, email) -> None:\n",
    "        self.name = name\n",
    "        self.age = age\n",
    "        self.email = email    \n",
    "\n",
    "    def say_hello(self):\n",
    "        print(f\"Yo, I am a student, my name is {self._name}, I am {self._age} years old, my email address is {self._email}.\")\n",
    "    \n",
    "    def study(self):\n",
    "        print(\"study...study...study...more study\")\n",
    "\n",
    "class Teacher(Person):\n",
    "    def __init__(self, name, age, email) -> None:\n",
    "        self.name = name\n",
    "        self.age = age\n",
    "        self.email = email\n",
    "\n",
    "    def teach(self):\n",
    "        print(\"teach...teach...teach...more teaching\")\n",
    "\n",
    "student1 = Student(\"Amal Derbali\", 34, \"amal.derbali@iths.se\")\n",
    "print(student1)\n",
    "student1.say_hello()\n",
    "student1.study()\n",
    "\n",
    "teacher1 = Teacher(\"kokchun\", 30, \"kokchungiang@gmail.com\")\n",
    "print(teacher1)\n",
    "teacher1.say_hello()\n",
    "teacher1.teach()\n"
   ]
  },
  {
   "cell_type": "markdown",
   "metadata": {},
   "source": [
    "# 4- Simple Travian"
   ]
  },
  {
   "cell_type": "code",
   "execution_count": 33,
   "metadata": {},
   "outputs": [
    {
     "name": "stdout",
     "output_type": "stream",
     "text": [
      "700\n",
      "Stock: Crop: 700/800     Clay: 0/800    Iron: 0/800     Lumber: 0/800\n",
      "Production:\n",
      "Lumber: 4 per hour\n",
      "Clay: 4 per hour\n",
      "Iron: 4 per hour\n",
      "Crop: 4 per hour\n"
     ]
    }
   ],
   "source": [
    "class Village:\n",
    "    def __init__(self, crop: int = 0, clay: int = 0, iron: int = 0, lumber: int = 0) -> None:\n",
    "        self.crop = crop\n",
    "        self.clay = clay\n",
    "        self.iron = iron\n",
    "        self.lumber = lumber\n",
    "\n",
    "    @property\n",
    "    def crop(self) -> int:\n",
    "        return self._crop\n",
    "    @crop.setter\n",
    "    def crop(self, crop: int) -> None:\n",
    "        if not isinstance(crop, int):\n",
    "            raise TypeError(\"crop must be int\")\n",
    "        if crop > 800:\n",
    "            raise ValueError(\"You can't hold more than 800 units\")\n",
    "        self._crop = crop\n",
    "        return self._crop\n",
    "    @property\n",
    "    def clay(self) -> int:\n",
    "        return self._clay\n",
    "    @clay.setter\n",
    "    def clay(self, clay: int) -> None:\n",
    "        if not isinstance(clay, int):\n",
    "            raise TypeError(\"clay must be int\")\n",
    "        if clay > 800:\n",
    "            raise ValueError(\"You can't hold more than 800 units\")\n",
    "        self._clay = clay\n",
    "        return self._clay\n",
    "    @property\n",
    "    def iron(self) -> int:\n",
    "        return self._iron\n",
    "    @iron.setter\n",
    "    def iron(self, iron : int) -> None:\n",
    "        if not isinstance(iron, int):\n",
    "            raise TypeError(\"iron must be int\")\n",
    "        if iron > 800:\n",
    "            raise ValueError(\"You can't hold more than 800 units\")\n",
    "        self._iron = iron\n",
    "        return self._iron\n",
    "    @property\n",
    "    def lumber(self) -> int:\n",
    "        return self._lumber\n",
    "    @lumber.setter\n",
    "    def lumber(self, lumber : int) -> None:\n",
    "        if not isinstance(lumber, int):\n",
    "            raise TypeError(\"lumber must be int\")\n",
    "        if lumber > 800:\n",
    "            raise ValueError(\"You can't hold more than 800 units\")\n",
    "        self._lumber = lumber\n",
    "        return self._lumber\n",
    "    def __repr__(self) -> str:\n",
    "        return(f\"Stock: Crop: {self.crop}/800     Clay: {self.clay}/800    Iron: {self.iron}/800     Lumber: {self.lumber}/800\\nProduction:\\nLumber: 4 per hour\\nClay: 4 per hour\\nIron: 4 per hour\\nCrop: 4 per hour\")\n",
    "\n",
    "village1 = Village()\n",
    "\n",
    "village1.crop += 500\n",
    "village1.crop += 200\n",
    "village1.crop -= 100\n",
    "village1.crop += 100\n",
    "print(village1.crop)\n",
    "\n",
    "\n",
    "print(village1)"
   ]
  }
 ],
 "metadata": {
  "interpreter": {
   "hash": "7d6c493d9be3ce9414559ad9bbf78b458bfd2ecad0291fac6402a6d619a9155a"
  },
  "kernelspec": {
   "display_name": "Python 3.9.6 64-bit ('python_programering_Amal_Derbali-3tAF7EDp': pipenv)",
   "name": "python3"
  },
  "language_info": {
   "codemirror_mode": {
    "name": "ipython",
    "version": 3
   },
   "file_extension": ".py",
   "mimetype": "text/x-python",
   "name": "python",
   "nbconvert_exporter": "python",
   "pygments_lexer": "ipython3",
   "version": "3.9.6"
  },
  "orig_nbformat": 4
 },
 "nbformat": 4,
 "nbformat_minor": 2
}
