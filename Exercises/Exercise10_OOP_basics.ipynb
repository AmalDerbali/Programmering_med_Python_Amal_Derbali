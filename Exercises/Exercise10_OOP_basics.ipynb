{
 "cells": [
  {
   "cell_type": "markdown",
   "source": [
    "# 1) Unit conversion"
   ],
   "metadata": {}
  },
  {
   "cell_type": "code",
   "execution_count": 18,
   "source": [
    "class Conversion:\r\n",
    "    def __init__ (self, value = float) -> None:\r\n",
    "        self.value = value\r\n",
    "    \r\n",
    "    @property\r\n",
    "    def value(self) -> float:\r\n",
    "        return self._value\r\n",
    "    \r\n",
    "    @value.setter\r\n",
    "    def value (self, value: float) -> None:\r\n",
    "        if not isinstance(value, (int, float)):\r\n",
    "            raise TypeError(f\"Value must be an int or a float not {type(value)}\")\r\n",
    "        if  value < 0 :\r\n",
    "            raise ValueError(\"The value must be a positive number.\")\r\n",
    "        self._value = value\r\n",
    "    \r\n",
    "    def foot_to_meter (self) -> float:\r\n",
    "        return f\"{self._value} feet = {self._value * 0.3048:.2f} m.\"\r\n",
    "        \r\n",
    "    def inch_to_cm (self) ->float:\r\n",
    "        return f\"{self._value} inches = {self._value * 2.54:.2f} cm.\"\r\n",
    "    \r\n",
    "    def pound_to_kg (self) ->float:\r\n",
    "        return f\"{self._value} pound = {self._value  * 0.45359237:.2f} kg.\"\r\n",
    "\r\n",
    "    def __repr__(self) -> str:\r\n",
    "        return f\"Unit Conversion = {self._value}\"\r\n",
    "\r\n",
    "unit = Conversion(5)\r\n",
    "print(f\"Unit Conversion = 5 \")\r\n",
    "print(unit.foot_to_meter())\r\n",
    "print(unit.inch_to_cm())\r\n",
    "print(unit.pound_to_kg())\r\n",
    "\r\n",
    "\r\n",
    "\r\n",
    "\r\n"
   ],
   "outputs": [
    {
     "output_type": "stream",
     "name": "stdout",
     "text": [
      "Unit Conversion = 5 \n",
      "5 feet = 1.52 m.\n",
      "5 inches = 12.70 cm.\n",
      "5 pound = 2.27 kg.\n"
     ]
    }
   ],
   "metadata": {}
  },
  {
   "cell_type": "markdown",
   "source": [
    "# 2) Person"
   ],
   "metadata": {}
  },
  {
   "cell_type": "code",
   "execution_count": 19,
   "source": [
    "  \r\n",
    "class Person:\r\n",
    "    def __init__(self, name:str, age:float, email:str) -> None:\r\n",
    "        self.name = name\r\n",
    "        self.age = age\r\n",
    "        self.email = email\r\n",
    "    \r\n",
    "    @property\r\n",
    "    def name(self) -> str:\r\n",
    "        return self._name\r\n",
    "\r\n",
    "    @property\r\n",
    "    def age(self) -> float:\r\n",
    "        return self._age  \r\n",
    "\r\n",
    "    @property\r\n",
    "    def email(self) -> str:\r\n",
    "        return self._email\r\n",
    "    \r\n",
    "    @name.setter\r\n",
    "    def name(self, name:str) -> None:\r\n",
    "        if not isinstance(name, (str)):\r\n",
    "            raise TypeError(f\"Name must be a string, not a {type(name)}.\") \r\n",
    "        self._name = name\r\n",
    "\r\n",
    "    @age.setter\r\n",
    "    def age(self, age:float) -> None:\r\n",
    "        if not(0 <= age < 125):\r\n",
    "            raise ValueError(f\"Age must be between 0 and 125, not {age}.\")\r\n",
    "        self._age = age\r\n",
    "\r\n",
    "    @email.setter\r\n",
    "    def email(self, email:str) -> None:\r\n",
    "        if not isinstance(email, (str)):\r\n",
    "            raise TypeError(f\"Email must be a string, not a {type(email)}.\")\r\n",
    "        if \"@\" not in email:\r\n",
    "            raise TypeError(f\"The email address must contain a @.\")\r\n",
    "        self._email = email\r\n",
    "    \r\n",
    "    def say_hello(self) -> None:\r\n",
    "        print(f\"Hi, my name is {self._name}, I am {self._age} years old, my email address is {self._email}.\")\r\n",
    "\r\n",
    "    def __repr__(self) -> str:\r\n",
    "        return f\"Person (name='{self._name}', age='{self._age}', email='{self._email}'))\"\r\n",
    "\r\n",
    "person1 = Person (\"Amal Derbali\", 34, \"amal.derbali@iths.se\") \r\n",
    "print(person1.name)\r\n",
    "print(person1.age)\r\n",
    "print(person1.email)\r\n",
    "print(person1.say_hello())"
   ],
   "outputs": [
    {
     "output_type": "stream",
     "name": "stdout",
     "text": [
      "Amal Derbali\n",
      "34\n",
      "amal.derbali@iths.se\n",
      "Hi, my name is Amal Derbali, I am 34 years old, my email address is amal.derbali@iths.se.\n",
      "None\n"
     ]
    }
   ],
   "metadata": {}
  },
  {
   "cell_type": "markdown",
   "source": [
    "# 3) Student and teacher"
   ],
   "metadata": {}
  },
  {
   "cell_type": "code",
   "execution_count": 20,
   "source": [
    "class Student(Person):\r\n",
    "    def __init__(self, name, age, email) -> None:\r\n",
    "        self.name = name\r\n",
    "        self.age = age\r\n",
    "        self.email = email\r\n",
    "        \r\n",
    "    \r\n",
    "    def study(self) -> None:\r\n",
    "        print(\"study...study...study...more study\")\r\n",
    "    \r\n",
    "    def say_hello(self) -> None:\r\n",
    "        print(f\"Yo, I am a student, my name is {self._name}, I am {self._age} years old, my email address is {self._email}.\")\r\n",
    "\r\n",
    "class Teacher(Person):\r\n",
    "    def __init__(self, name, age, email) -> None:\r\n",
    "        self.name = name\r\n",
    "        self.age = age\r\n",
    "        self.email = email\r\n",
    "        \r\n",
    "    \r\n",
    "    def teach(self) -> None:\r\n",
    "        print(\"teach...teach...teach...more teaching\")\r\n",
    "\r\n",
    "student1 = Student(\"Amal Derbali\", 34, \"amal.derbali@iths.se\")\r\n",
    "print(student1)\r\n",
    "print(student1.study())\r\n",
    "print(student1.say_hello())\r\n",
    "\r\n",
    "teacher1 = Teacher(\"kokchun\", 30, \"kokchungiang@gmail.com\")\r\n",
    "print(teacher1.teach())\r\n",
    "print(teacher1.say_hello())"
   ],
   "outputs": [
    {
     "output_type": "stream",
     "name": "stdout",
     "text": [
      "Person (name='Amal Derbali', age='34', email='amal.derbali@iths.se'))\n",
      "study...study...study...more study\n",
      "None\n",
      "Yo, I am a student, my name is Amal Derbali, I am 34 years old, my email address is amal.derbali@iths.se.\n",
      "None\n",
      "teach...teach...teach...more teaching\n",
      "None\n",
      "Hi, my name is kokchun, I am 30 years old, my email address is kokchungiang@gmail.com.\n",
      "None\n"
     ]
    }
   ],
   "metadata": {}
  }
 ],
 "metadata": {
  "orig_nbformat": 4,
  "language_info": {
   "name": "python",
   "version": "3.9.6",
   "mimetype": "text/x-python",
   "codemirror_mode": {
    "name": "ipython",
    "version": 3
   },
   "pygments_lexer": "ipython3",
   "nbconvert_exporter": "python",
   "file_extension": ".py"
  },
  "kernelspec": {
   "name": "python3",
   "display_name": "Python 3.9.6 64-bit ('python_programering_Amal_Derbali-3tAF7EDp': pipenv)"
  },
  "interpreter": {
   "hash": "7d6c493d9be3ce9414559ad9bbf78b458bfd2ecad0291fac6402a6d619a9155a"
  }
 },
 "nbformat": 4,
 "nbformat_minor": 2
}