{
 "cells": [
  {
   "cell_type": "markdown",
   "metadata": {},
   "source": [
    "1- Dice rolls"
   ]
  },
  {
   "cell_type": "markdown",
   "metadata": {},
   "source": [
    "a)"
   ]
  },
  {
   "cell_type": "code",
   "execution_count": 22,
   "metadata": {},
   "outputs": [
    {
     "name": "stdout",
     "output_type": "stream",
     "text": [
      "Ascending order : [1, 3, 3, 4, 4, 4, 5, 5, 5, 6]\n"
     ]
    }
   ],
   "source": [
    "import random as rnd\n",
    "dices = [rnd.randint (1,6) for i in range (10)]\n",
    "dices.sort()\n",
    "print (f\"Ascending order : {dices}\")\n"
   ]
  },
  {
   "cell_type": "markdown",
   "metadata": {},
   "source": [
    "b)"
   ]
  },
  {
   "cell_type": "code",
   "execution_count": 23,
   "metadata": {},
   "outputs": [
    {
     "name": "stdout",
     "output_type": "stream",
     "text": [
      "Descending order :, [6, 6, 5, 3, 3, 3, 3, 2, 2, 1]\n"
     ]
    }
   ],
   "source": [
    "import random as rnd\n",
    "dices=[rnd.randint(1,6) for i in range(10)]\n",
    "dices.sort(reverse=True)\n",
    "print (f\"Descending order :, {dices}\")"
   ]
  },
  {
   "cell_type": "markdown",
   "metadata": {},
   "source": [
    "c)"
   ]
  },
  {
   "cell_type": "code",
   "execution_count": 24,
   "metadata": {},
   "outputs": [
    {
     "name": "stdout",
     "output_type": "stream",
     "text": [
      "Minimum : 1\n",
      "Maximum : 6\n"
     ]
    }
   ],
   "source": [
    "import random as rnd\n",
    "dices=[rnd.randint(1,6) for i in range(10)]\n",
    "x = min (dices)\n",
    "y = max (dices)\n",
    "print (f\"Minimum : {x}\", end=\"\\n\") \n",
    "print (f\"Maximum : {y}\")"
   ]
  },
  {
   "cell_type": "markdown",
   "metadata": {},
   "source": [
    "2- Food menu"
   ]
  },
  {
   "cell_type": "code",
   "execution_count": 2,
   "metadata": {},
   "outputs": [
    {
     "name": "stdout",
     "output_type": "stream",
     "text": [
      "Bambameny\n",
      "Måndag : vegetarisk lasagne\n",
      "Tisdag : spaghetti\n",
      "Onsdag : fisk\n",
      "Torsdag : grönsakssoppa\n",
      "Fredag : pannkakor\n"
     ]
    }
   ],
   "source": [
    "food_list = [\"vegetarisk lasagne\", \"spaghetti\", \"fisk\", \"grönsakssoppa\", \"pannkakor\"]\n",
    "weekday = [\"Måndag\", \"Tisdag\", \"Onsdag\", \"Torsdag\", \"Fredag\"]\n",
    "print (f\"Bambameny\")\n",
    "\n",
    "for i in range (5):\n",
    "    print (f\"{weekday [i]} : {food_list[i]}\")"
   ]
  },
  {
   "cell_type": "markdown",
   "metadata": {},
   "source": [
    "3- Squares"
   ]
  },
  {
   "cell_type": "code",
   "execution_count": 1,
   "metadata": {},
   "outputs": [
    {
     "name": "stdout",
     "output_type": "stream",
     "text": [
      "[100, 81, 64, 49, 36, 25, 16, 9, 4, 1, 0, 1, 4, 9, 16, 25, 36, 49, 64, 81, 100]\n"
     ]
    },
    {
     "data": {
      "image/png": "[encoded data removed]",
      "text/plain": [
       "<Figure size 600x400 with 1 Axes>"
      ]
     },
     "metadata": {
      "needs_background": "light"
     },
     "output_type": "display_data"
    }
   ],
   "source": [
    "import matplotlib.pyplot as plt\n",
    "\n",
    "x = [x for x in range(-10, 11)]\n",
    "squares = [x**2 for x in range (-10, 11)]\n",
    "\n",
    "print (squares)\n",
    "\n",
    "plt.figure(dpi= 100)\n",
    "plt.plot(x, squares)\n",
    "plt.xlabel(\"x\")\n",
    "plt.ylabel(\"y\")\n",
    "plt.title(\"The square\")\n",
    "plt.show()\n"
   ]
  },
  {
   "cell_type": "markdown",
   "metadata": {},
   "source": [
    "4- Chessbord"
   ]
  },
  {
   "cell_type": "code",
   "execution_count": 1,
   "metadata": {},
   "outputs": [
    {
     "data": {
      "text/plain": [
       "[['A1', 'B1', 'C1', 'D1', 'E1', 'F1', 'G1', 'H1'],\n",
       " ['A2', 'B2', 'C2', 'D2', 'E2', 'F2', 'G2', 'H2'],\n",
       " ['A3', 'B3', 'C3', 'D3', 'E3', 'F3', 'G3', 'H3'],\n",
       " ['A4', 'B4', 'C4', 'D4', 'E4', 'F4', 'G4', 'H4'],\n",
       " ['A5', 'B5', 'C5', 'D5', 'E5', 'F5', 'G5', 'H5'],\n",
       " ['A6', 'B6', 'C6', 'D6', 'E6', 'F6', 'G6', 'H6'],\n",
       " ['A7', 'B7', 'C7', 'D7', 'E7', 'F7', 'G7', 'H7'],\n",
       " ['A8', 'B8', 'C8', 'D8', 'E8', 'F8', 'G8', 'H8']]"
      ]
     },
     "execution_count": 1,
     "metadata": {},
     "output_type": "execute_result"
    }
   ],
   "source": [
    "list1=['A1', 'B1', 'C1', 'D1', 'E1', 'F1', 'G1', 'H1']\n",
    "\n",
    "list2=['A', 'B', 'C', 'D', 'E', 'F', 'G', 'H']\n",
    "\n",
    "[[f\"{list2}{i}\" for list2 in list2] for i in range(1,9)]"
   ]
  },
  {
   "cell_type": "markdown",
   "metadata": {},
   "source": [
    "5- Dice rolls convergence"
   ]
  },
  {
   "cell_type": "markdown",
   "metadata": {},
   "source": [
    "a)"
   ]
  },
  {
   "cell_type": "code",
   "execution_count": 9,
   "metadata": {},
   "outputs": [
    {
     "name": "stdout",
     "output_type": "stream",
     "text": [
      "There is 17 times we roll a six\n"
     ]
    }
   ],
   "source": [
    "import random as rnd\n",
    "roll_list=[rnd.randint(1,6) for i in range(100)]\n",
    "count=0\n",
    "for i in roll_list:\n",
    "    if i==6:\n",
    "        count+=1\n",
    "print(f\"There is {count} times we roll a six\")\n"
   ]
  },
  {
   "cell_type": "markdown",
   "metadata": {},
   "source": [
    "b)"
   ]
  },
  {
   "cell_type": "code",
   "execution_count": 10,
   "metadata": {},
   "outputs": [
    {
     "name": "stdout",
     "output_type": "stream",
     "text": [
      "count number of six [1, 17, 182, 1690, 16708, 166067]\n",
      "probability (six) = [0.1, 0.17, 0.182, 0.169, 0.16708, 0.166067]\n"
     ]
    },
    {
     "data": {
      "text/plain": [
       "Text(0, 0.5, 'Probability')"
      ]
     },
     "execution_count": 10,
     "metadata": {},
     "output_type": "execute_result"
    },
    {
     "data": {
      "image/png": "[encoded data removed]",
      "text/plain": [
       "<Figure size 432x288 with 1 Axes>"
      ]
     },
     "metadata": {
      "needs_background": "light"
     },
     "output_type": "display_data"
    }
   ],
   "source": [
    "import matplotlib.pyplot as plt\n",
    "import random as rnd\n",
    "\n",
    "list_six = []\n",
    "list_probability = []\n",
    "dice_rolls = [10, 100, 1000, 10000, 100000, 1000000]\n",
    "\n",
    "for i in dice_rolls:\n",
    "    roll_list=[rnd.randint(1,6) for i in range (i)]\n",
    "    count=0\n",
    "\n",
    "    for x in roll_list:\n",
    "        if x == 6:\n",
    "            count += 1\n",
    "            probability = count/i\n",
    "    list_six.append(count)\n",
    "    list_probability.append(probability)\n",
    "\n",
    "print (f\"count number of six {list_six}\")\n",
    "print (f\"probability (six) = {list_probability}\")\n",
    "\n",
    "\n",
    "rnd.seed(1)\n",
    "plt.plot(list_probability, '-*')\n",
    "plt.title(\"Probability of six for different number of rolls\")\n",
    "plt.xticks([0,1,2,3,4,5], dice_rolls)\n",
    "plt.xlabel(\"Number of dice rolls\")\n",
    "plt.ylabel(\"Probability\")\n"
   ]
  }
 ],
 "metadata": {
  "interpreter": {
   "hash": "7d6c493d9be3ce9414559ad9bbf78b458bfd2ecad0291fac6402a6d619a9155a"
  },
  "kernelspec": {
   "display_name": "Python 3.9.6 64-bit ('python_programering_Amal_Derbali-3tAF7EDp': pipenv)",
   "name": "python3"
  },
  "language_info": {
   "codemirror_mode": {
    "name": "ipython",
    "version": 3
   },
   "file_extension": ".py",
   "mimetype": "text/x-python",
   "name": "python",
   "nbconvert_exporter": "python",
   "pygments_lexer": "ipython3",
   "version": "3.9.6"
  },
  "orig_nbformat": 4
 },
 "nbformat": 4,
 "nbformat_minor": 2
}
