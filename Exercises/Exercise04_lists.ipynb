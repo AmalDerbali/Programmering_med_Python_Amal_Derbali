{
 "cells": [
  {
   "cell_type": "markdown",
   "source": [
    "1- Dice rolls"
   ],
   "metadata": {}
  },
  {
   "cell_type": "markdown",
   "source": [
    "a)"
   ],
   "metadata": {}
  },
  {
   "cell_type": "code",
   "execution_count": 56,
   "source": [
    "import random as rnd\r\n",
    "dices = [rnd.randint (1,6) for i in range (10)]\r\n",
    "dices.sort()\r\n",
    "print (f\"Ascending order : {dices}\")\r\n"
   ],
   "outputs": [
    {
     "output_type": "stream",
     "name": "stdout",
     "text": [
      "Ascending order : [1, 2, 2, 3, 3, 3, 3, 3, 6, 6]\n"
     ]
    }
   ],
   "metadata": {}
  },
  {
   "cell_type": "markdown",
   "source": [
    "b)"
   ],
   "metadata": {}
  },
  {
   "cell_type": "code",
   "execution_count": 61,
   "source": [
    "import random as rnd\r\n",
    "dices=[rnd.randint(1,6) for i in range(10)]\r\n",
    "dices.sort(reverse=True)\r\n",
    "print (f\"Descending order :, {dices}\")"
   ],
   "outputs": [
    {
     "output_type": "stream",
     "name": "stdout",
     "text": [
      "Descending order :, [6, 6, 5, 5, 4, 4, 3, 2, 1, 1]\n"
     ]
    }
   ],
   "metadata": {}
  },
  {
   "cell_type": "markdown",
   "source": [
    "c)"
   ],
   "metadata": {}
  },
  {
   "cell_type": "code",
   "execution_count": 73,
   "source": [
    "import random as rnd\r\n",
    "dices=[rnd.randint(1,6) for i in range(10)]\r\n",
    "x = min (dices)\r\n",
    "y = max (dices)\r\n",
    "print (f\"Minimum : {x}\", end=\"\\n\") \r\n",
    "print (f\"Maximum : {y}\")"
   ],
   "outputs": [
    {
     "output_type": "stream",
     "name": "stdout",
     "text": [
      "Minimum : 1\n",
      "Maximum : 6\n"
     ]
    }
   ],
   "metadata": {}
  },
  {
   "cell_type": "markdown",
   "source": [
    "2- Food menu"
   ],
   "metadata": {}
  },
  {
   "cell_type": "code",
   "execution_count": 82,
   "source": [
    "food_list = [\"vegetarisk lasagne\", \"spaghetti\", \"fisk\", \"grönsakssoppa\", \"pannkakor\"]\r\n",
    "weekdays = [\"Måndag\", \"Tisdag\", \"Onsdag\", \"Torsdag\", \"Fredag\"]\r\n",
    "print (f\"Bambameny\")\r\n",
    "print (f\"{weekdays [0]} : {food_list[0]}\")\r\n",
    "print (f\"{weekdays [1]} : {food_list[1]}\")\r\n",
    "print (f\"{weekdays [2]} : {food_list[2]}\")\r\n",
    "print (f\"{weekdays [3]} : {food_list[3]}\")\r\n",
    "print (f\"{weekdays [4]} : {food_list[3]}\")\r\n"
   ],
   "outputs": [
    {
     "output_type": "stream",
     "name": "stdout",
     "text": [
      "Bambameny\n",
      "Måndag : vegetarisk lasagne\n",
      "Tisdag : spaghetti\n",
      "Onsdag : fisk\n",
      "Torsdag : grönsakssoppa\n",
      "Fredag : grönsakssoppa\n"
     ]
    }
   ],
   "metadata": {}
  }
 ],
 "metadata": {
  "orig_nbformat": 4,
  "language_info": {
   "name": "python",
   "version": "3.9.6",
   "mimetype": "text/x-python",
   "codemirror_mode": {
    "name": "ipython",
    "version": 3
   },
   "pygments_lexer": "ipython3",
   "nbconvert_exporter": "python",
   "file_extension": ".py"
  },
  "kernelspec": {
   "name": "python3",
   "display_name": "Python 3.9.6 64-bit"
  },
  "interpreter": {
   "hash": "eacaffae8a739d4b7c9a2bb010540ab3fb2fd534d4d9d1bb6421b24cb8b2e27c"
  }
 },
 "nbformat": 4,
 "nbformat_minor": 2
}