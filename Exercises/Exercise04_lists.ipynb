{
 "cells": [
  {
   "cell_type": "markdown",
   "source": [
    "1- Dice rolls"
   ],
   "metadata": {}
  },
  {
   "cell_type": "markdown",
   "source": [
    "a)"
   ],
   "metadata": {}
  },
  {
   "cell_type": "code",
   "execution_count": 22,
   "source": [
    "import random as rnd\r\n",
    "dices = [rnd.randint (1,6) for i in range (10)]\r\n",
    "dices.sort()\r\n",
    "print (f\"Ascending order : {dices}\")\r\n"
   ],
   "outputs": [
    {
     "output_type": "stream",
     "name": "stdout",
     "text": [
      "Ascending order : [1, 3, 3, 4, 4, 4, 5, 5, 5, 6]\n"
     ]
    }
   ],
   "metadata": {}
  },
  {
   "cell_type": "markdown",
   "source": [
    "b)"
   ],
   "metadata": {}
  },
  {
   "cell_type": "code",
   "execution_count": 23,
   "source": [
    "import random as rnd\r\n",
    "dices=[rnd.randint(1,6) for i in range(10)]\r\n",
    "dices.sort(reverse=True)\r\n",
    "print (f\"Descending order :, {dices}\")"
   ],
   "outputs": [
    {
     "output_type": "stream",
     "name": "stdout",
     "text": [
      "Descending order :, [6, 6, 5, 3, 3, 3, 3, 2, 2, 1]\n"
     ]
    }
   ],
   "metadata": {}
  },
  {
   "cell_type": "markdown",
   "source": [
    "c)"
   ],
   "metadata": {}
  },
  {
   "cell_type": "code",
   "execution_count": 24,
   "source": [
    "import random as rnd\r\n",
    "dices=[rnd.randint(1,6) for i in range(10)]\r\n",
    "x = min (dices)\r\n",
    "y = max (dices)\r\n",
    "print (f\"Minimum : {x}\", end=\"\\n\") \r\n",
    "print (f\"Maximum : {y}\")"
   ],
   "outputs": [
    {
     "output_type": "stream",
     "name": "stdout",
     "text": [
      "Minimum : 1\n",
      "Maximum : 6\n"
     ]
    }
   ],
   "metadata": {}
  },
  {
   "cell_type": "markdown",
   "source": [
    "2- Food menu"
   ],
   "metadata": {}
  },
  {
   "cell_type": "code",
   "execution_count": 25,
   "source": [
    "food_list = [\"vegetarisk lasagne\", \"spaghetti\", \"fisk\", \"grönsakssoppa\", \"pannkakor\"]\r\n",
    "weekday = [\"Måndag\", \"Tisdag\", \"Onsdag\", \"Torsdag\", \"Fredag\"]\r\n",
    "print (f\"Bambameny\")\r\n",
    "print (f\"{weekday [0]} : {food_list[0]}\")\r\n",
    "print (f\"{weekday [1]} : {food_list[1]}\")\r\n",
    "print (f\"{weekday [2]} : {food_list[2]}\")\r\n",
    "print (f\"{weekday [3]} : {food_list[3]}\")\r\n",
    "print (f\"{weekday [4]} : {food_list[3]}\")\r\n"
   ],
   "outputs": [
    {
     "output_type": "stream",
     "name": "stdout",
     "text": [
      "Bambameny\n",
      "Måndag : vegetarisk lasagne\n",
      "Tisdag : spaghetti\n",
      "Onsdag : fisk\n",
      "Torsdag : grönsakssoppa\n",
      "Fredag : grönsakssoppa\n"
     ]
    }
   ],
   "metadata": {}
  },
  {
   "cell_type": "markdown",
   "source": [
    "3- Squares"
   ],
   "metadata": {}
  },
  {
   "cell_type": "code",
   "execution_count": 5,
   "source": [
    "import matplotlib.pyplot as plt\r\n",
    "\r\n",
    "x = [x for x in range(-10, 11)]\r\n",
    "squares = [x**2 for x in range (-10, 11)]\r\n",
    "\r\n",
    "print (squares)\r\n",
    "\r\n",
    "plt.figure(dpi= 100)\r\n",
    "plt.plot(x, squares)\r\n",
    "plt.xlabel(\"x\")\r\n",
    "plt.ylabel(\"y\")\r\n",
    "plt.title(\"The square\")\r\n",
    "plt.show()\r\n"
   ],
   "outputs": [
    {
     "output_type": "stream",
     "name": "stdout",
     "text": [
      "[100, 81, 64, 49, 36, 25, 16, 9, 4, 1, 0, 1, 4, 9, 16, 25, 36, 49, 64, 81, 100]\n"
     ]
    },
    {
     "output_type": "display_data",
     "data": {
      "image/png": "[encoded data removed]",
      "text/plain": [
       "<Figure size 600x400 with 1 Axes>"
      ]
     },
     "metadata": {
      "needs_background": "light"
     }
    }
   ],
   "metadata": {}
  },
  {
   "cell_type": "markdown",
   "source": [
    "4- Chessbord"
   ],
   "metadata": {}
  },
  {
   "cell_type": "code",
   "execution_count": 1,
   "source": [
    "list1=['A1', 'B1', 'C1', 'D1', 'E1', 'F1', 'G1', 'H1']\r\n",
    "\r\n",
    "list2=['A', 'B', 'C', 'D', 'E', 'F', 'G', 'H']\r\n",
    "\r\n",
    "[[f\"{list2}{i}\" for list2 in list2] for i in range(1,9)]"
   ],
   "outputs": [
    {
     "output_type": "execute_result",
     "data": {
      "text/plain": [
       "[['A1', 'B1', 'C1', 'D1', 'E1', 'F1', 'G1', 'H1'],\n",
       " ['A2', 'B2', 'C2', 'D2', 'E2', 'F2', 'G2', 'H2'],\n",
       " ['A3', 'B3', 'C3', 'D3', 'E3', 'F3', 'G3', 'H3'],\n",
       " ['A4', 'B4', 'C4', 'D4', 'E4', 'F4', 'G4', 'H4'],\n",
       " ['A5', 'B5', 'C5', 'D5', 'E5', 'F5', 'G5', 'H5'],\n",
       " ['A6', 'B6', 'C6', 'D6', 'E6', 'F6', 'G6', 'H6'],\n",
       " ['A7', 'B7', 'C7', 'D7', 'E7', 'F7', 'G7', 'H7'],\n",
       " ['A8', 'B8', 'C8', 'D8', 'E8', 'F8', 'G8', 'H8']]"
      ]
     },
     "metadata": {},
     "execution_count": 1
    }
   ],
   "metadata": {}
  },
  {
   "cell_type": "markdown",
   "source": [
    "5- Dice rolls convergence"
   ],
   "metadata": {}
  },
  {
   "cell_type": "markdown",
   "source": [
    "a)"
   ],
   "metadata": {}
  },
  {
   "cell_type": "code",
   "execution_count": 9,
   "source": [
    "import random as rnd\r\n",
    "roll_list=[rnd.randint(1,6) for i in range(100)]\r\n",
    "count=0\r\n",
    "for i in roll_list:\r\n",
    "    if i==6:\r\n",
    "        count+=1\r\n",
    "print(f\"There is {count} times we roll a six\")"
   ],
   "outputs": [
    {
     "output_type": "stream",
     "name": "stdout",
     "text": [
      "There is 17 times we roll a six\n"
     ]
    }
   ],
   "metadata": {}
  },
  {
   "cell_type": "markdown",
   "source": [
    "b)"
   ],
   "metadata": {}
  },
  {
   "cell_type": "code",
   "execution_count": null,
   "source": [
    "import random as rnd\r\n",
    "\r\n",
    "roll_list=[rnd.randint(1,6) for i in range(100)]\r\n"
   ],
   "outputs": [],
   "metadata": {}
  }
 ],
 "metadata": {
  "orig_nbformat": 4,
  "language_info": {
   "name": "python",
   "version": "3.9.6",
   "mimetype": "text/x-python",
   "codemirror_mode": {
    "name": "ipython",
    "version": 3
   },
   "pygments_lexer": "ipython3",
   "nbconvert_exporter": "python",
   "file_extension": ".py"
  },
  "kernelspec": {
   "name": "python3",
   "display_name": "Python 3.9.6 64-bit ('python_programering_Amal_Derbali-3tAF7EDp': pipenv)"
  },
  "interpreter": {
   "hash": "7d6c493d9be3ce9414559ad9bbf78b458bfd2ecad0291fac6402a6d619a9155a"
  }
 },
 "nbformat": 4,
 "nbformat_minor": 2
}