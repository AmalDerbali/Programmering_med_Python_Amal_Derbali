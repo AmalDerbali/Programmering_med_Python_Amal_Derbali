{
 "cells": [
  {
   "cell_type": "markdown",
   "source": [
    "# 1- Counting letters"
   ],
   "metadata": {}
  },
  {
   "cell_type": "markdown",
   "source": [
    "# a)"
   ],
   "metadata": {}
  },
  {
   "cell_type": "code",
   "execution_count": 1,
   "source": [
    "word = input(\"Write a word please!\")\r\n",
    "number = len (word)\r\n",
    "print (f\"The number of letters in the word is {number}.\")"
   ],
   "outputs": [
    {
     "output_type": "stream",
     "name": "stdout",
     "text": [
      "The number of letters in the word is 5.\n"
     ]
    }
   ],
   "metadata": {}
  },
  {
   "cell_type": "markdown",
   "source": [
    "# b)"
   ],
   "metadata": {}
  },
  {
   "cell_type": "code",
   "execution_count": 12,
   "source": [
    "word = input(\"Write a word please!\")\r\n",
    "lowercase = 0\r\n",
    "uppercase = 0\r\n",
    "\r\n",
    "for l in word:\r\n",
    "    if l.isupper ()== True:\r\n",
    "        uppercase += 1\r\n",
    "    else:\r\n",
    "        lowercase += 1\r\n",
    "print (f\"In the word {word}, the number of lowercases is {lowercase} and the number of uppercases is {uppercase}.\")"
   ],
   "outputs": [
    {
     "output_type": "stream",
     "name": "stdout",
     "text": [
      "In the word Programmering, the number of lowercases is 12 and the number of uppercases is 1.\n"
     ]
    }
   ],
   "metadata": {}
  },
  {
   "cell_type": "markdown",
   "source": [
    "# 2- Counting words"
   ],
   "metadata": {}
  },
  {
   "cell_type": "code",
   "execution_count": 15,
   "source": [
    "sentence = (\"A picture says more than a thousand words, a matematical formula says more than a thousand pictures\")\r\n",
    "num = len (sentence)\r\n",
    "print (f\"There are {num} words in that sentence.\")"
   ],
   "outputs": [
    {
     "output_type": "stream",
     "name": "stdout",
     "text": [
      "There are 99 words in that sentence.\n"
     ]
    }
   ],
   "metadata": {}
  },
  {
   "cell_type": "markdown",
   "source": [
    "# 3- Palindrome"
   ],
   "metadata": {}
  },
  {
   "cell_type": "code",
   "execution_count": 24,
   "source": [
    "sequence = input(\"Write the sequence of caracters\")\r\n",
    "if sequence == sequence [::-1]:\r\n",
    "    print (\"This is a palindrome\")\r\n",
    "else:\r\n",
    "    print (\"This is not a palindrome\")"
   ],
   "outputs": [
    {
     "output_type": "stream",
     "name": "stdout",
     "text": [
      "This is a palindrome\n"
     ]
    }
   ],
   "metadata": {}
  },
  {
   "cell_type": "markdown",
   "source": [
    "# 4- Vowels"
   ],
   "metadata": {}
  },
  {
   "cell_type": "code",
   "execution_count": 32,
   "source": [
    "sentence = (\"Pure mathematics is, in its way, the poetry of logical ideas\")\r\n",
    "vowel = 0\r\n",
    "for letter in sentence:\r\n",
    "    if  letter== \"e\" or letter== \"i\" or letter== \"o\" or letter== \"a\" or letter== \"u\" or letter==\"y\":\r\n",
    "        vowel += 1\r\n",
    "    else:\r\n",
    "        vowel == 0\r\n",
    "print (f\"There are {vowel} vowels in this sentence.\")\r\n"
   ],
   "outputs": [
    {
     "output_type": "stream",
     "name": "stdout",
     "text": [
      "There are 22 vowels in this sentence.\n"
     ]
    }
   ],
   "metadata": {}
  }
 ],
 "metadata": {
  "orig_nbformat": 4,
  "language_info": {
   "name": "python",
   "version": "3.9.6",
   "mimetype": "text/x-python",
   "codemirror_mode": {
    "name": "ipython",
    "version": 3
   },
   "pygments_lexer": "ipython3",
   "nbconvert_exporter": "python",
   "file_extension": ".py"
  },
  "kernelspec": {
   "name": "python3",
   "display_name": "Python 3.9.6 64-bit"
  },
  "interpreter": {
   "hash": "eacaffae8a739d4b7c9a2bb010540ab3fb2fd534d4d9d1bb6421b24cb8b2e27c"
  }
 },
 "nbformat": 4,
 "nbformat_minor": 2
}