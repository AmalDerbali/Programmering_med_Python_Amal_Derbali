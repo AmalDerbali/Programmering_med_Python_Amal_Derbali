{
 "cells": [
  {
   "cell_type": "markdown",
   "source": [],
   "metadata": {}
  },
  {
   "cell_type": "markdown",
   "source": [
    "# 1- Counting letters"
   ],
   "metadata": {}
  },
  {
   "cell_type": "markdown",
   "source": [
    "# a)"
   ],
   "metadata": {}
  },
  {
   "cell_type": "code",
   "execution_count": null,
   "source": [
    "word = input(\"Write a word please!\")\r\n",
    "number = len (word)\r\n",
    "print (f\"The number of letters in the word is {number}.\")"
   ],
   "outputs": [
    {
     "output_type": "stream",
     "name": "stdout",
     "text": [
      "The number of letters in the word is 5.\n"
     ]
    }
   ],
   "metadata": {}
  },
  {
   "cell_type": "markdown",
   "source": [
    "# b)"
   ],
   "metadata": {}
  },
  {
   "cell_type": "code",
   "execution_count": null,
   "source": [
    "word = input(\"Write a word please!\")\r\n",
    "lowercase = 0\r\n",
    "uppercase = 0\r\n",
    "\r\n",
    "for l in word:\r\n",
    "    if l.isupper ()== True:\r\n",
    "        uppercase += 1\r\n",
    "    else:\r\n",
    "        lowercase += 1\r\n",
    "print (f\"In the word {word}, the number of lowercases is {lowercase} and the number of uppercases is {uppercase}.\")"
   ],
   "outputs": [
    {
     "output_type": "stream",
     "name": "stdout",
     "text": [
      "In the word Programmering, the number of lowercases is 12 and the number of uppercases is 1.\n"
     ]
    }
   ],
   "metadata": {}
  },
  {
   "cell_type": "markdown",
   "source": [
    "# 2- Counting words"
   ],
   "metadata": {}
  },
  {
   "cell_type": "code",
   "execution_count": null,
   "source": [
    "sentence = (\"A picture says more than a thousand words, a matematical formula says more than a thousand pictures\")\r\n",
    "num = len (sentence)\r\n",
    "print (f\"There are {num} words in that sentence.\")"
   ],
   "outputs": [
    {
     "output_type": "stream",
     "name": "stdout",
     "text": [
      "There are 99 words in that sentence.\n"
     ]
    }
   ],
   "metadata": {}
  },
  {
   "cell_type": "markdown",
   "source": [
    "# 3- Palindrome"
   ],
   "metadata": {}
  },
  {
   "cell_type": "code",
   "execution_count": null,
   "source": [
    "sequence = input(\"Write the sequence of caracters\")\r\n",
    "if sequence == sequence [::-1]:\r\n",
    "    print (\"This is a palindrome\")\r\n",
    "else:\r\n",
    "    print (\"This is not a palindrome\")"
   ],
   "outputs": [
    {
     "output_type": "stream",
     "name": "stdout",
     "text": [
      "This is a palindrome\n"
     ]
    }
   ],
   "metadata": {}
  },
  {
   "cell_type": "markdown",
   "source": [
    "# 4- Vowels"
   ],
   "metadata": {}
  },
  {
   "cell_type": "code",
   "execution_count": null,
   "source": [
    "sentence = (\"Pure mathematics is, in its way, the poetry of logical ideas\")\r\n",
    "vowel = 0\r\n",
    "for letter in sentence:\r\n",
    "    if  letter== \"e\" or letter== \"i\" or letter== \"o\" or letter== \"a\" or letter== \"u\" or letter==\"y\":\r\n",
    "        vowel += 1\r\n",
    "    else:\r\n",
    "        vowel == 0\r\n",
    "print (f\"There are {vowel} vowels in this sentence.\")\r\n"
   ],
   "outputs": [
    {
     "output_type": "stream",
     "name": "stdout",
     "text": [
      "There are 22 vowels in this sentence.\n"
     ]
    }
   ],
   "metadata": {}
  },
  {
   "cell_type": "markdown",
   "source": [
    "# 5- Encryption"
   ],
   "metadata": {}
  },
  {
   "cell_type": "markdown",
   "source": [
    "# a)"
   ],
   "metadata": {}
  },
  {
   "cell_type": "code",
   "execution_count": 82,
   "source": [
    "import string\r\n",
    "word = input (\"Enter a word in lowercase please\")\r\n",
    "alphabet_string = string.ascii_lowercase\r\n",
    "alphabet = list(alphabet_string)\r\n",
    "letters = list(word)\r\n",
    "print (alphabet)\r\n",
    "\r\n",
    "for letter in letters: \r\n",
    "    index = alphabet.index(letter)\r\n",
    "    letter = alphabet[index+1]\r\n",
    "    print (f\"{letter}\")\r\n"
   ],
   "outputs": [
    {
     "output_type": "stream",
     "name": "stdout",
     "text": [
      "['a', 'b', 'c', 'd', 'e', 'f', 'g', 'h', 'i', 'j', 'k', 'l', 'm', 'n', 'o', 'p', 'q', 'r', 's', 't', 'u', 'v', 'w', 'x', 'y', 'z']\n",
      "b\n",
      "n\n",
      "b\n",
      "m\n"
     ]
    }
   ],
   "metadata": {}
  },
  {
   "cell_type": "markdown",
   "source": [
    "# b)"
   ],
   "metadata": {}
  },
  {
   "cell_type": "code",
   "execution_count": 75,
   "source": [
    "import string\r\n",
    "word = input (\"Enter a word in lowercase please\")\r\n",
    "alphabet_string = string.ascii_lowercase\r\n",
    "alphabet = list(alphabet_string)\r\n",
    "letters = list(word)\r\n",
    "print (alphabet)\r\n",
    "\r\n",
    "for letter in letters: \r\n",
    "    index = alphabet.index(letter)\r\n",
    "    letter = alphabet[index-1]\r\n",
    "    print (f\"{letter}\")"
   ],
   "outputs": [
    {
     "output_type": "stream",
     "name": "stdout",
     "text": [
      "['a', 'b', 'c', 'd', 'e', 'f', 'g', 'h', 'i', 'j', 'k', 'l', 'm', 'n', 'o', 'p', 'q', 'r', 's', 't', 'u', 'v', 'w', 'x', 'y', 'z']\n",
      "z\n",
      "l\n",
      "z\n",
      "k\n"
     ]
    }
   ],
   "metadata": {}
  },
  {
   "cell_type": "markdown",
   "source": [
    "# c)"
   ],
   "metadata": {}
  },
  {
   "cell_type": "code",
   "execution_count": 86,
   "source": [
    "import string\r\n",
    "choice = input (\"please type 'encryption' or 'decryption'\")\r\n",
    "word = input (\"Enter a word in lowercase please\")\r\n",
    "alphabet_string = string.ascii_lowercase\r\n",
    "alphabet = list(alphabet_string)\r\n",
    "letters = list(word)\r\n",
    "print (alphabet)\r\n",
    "\r\n",
    "if choice == \"encryption\":\r\n",
    "    for letter in letters:\r\n",
    "        index = alphabet.index(letter)\r\n",
    "        letter = alphabet[index+1]\r\n",
    "        print (f\"{letter}\")\r\n",
    "\r\n",
    "else :\r\n",
    "    for letter in letters: \r\n",
    "        index = alphabet.index(letter)\r\n",
    "        letter = alphabet[index-1]\r\n",
    "        print (f\"{letter}\") \r\n"
   ],
   "outputs": [
    {
     "output_type": "stream",
     "name": "stdout",
     "text": [
      "['a', 'b', 'c', 'd', 'e', 'f', 'g', 'h', 'i', 'j', 'k', 'l', 'm', 'n', 'o', 'p', 'q', 'r', 's', 't', 'u', 'v', 'w', 'x', 'y', 'z']\n",
      "z\n",
      "l\n",
      "z\n"
     ]
    }
   ],
   "metadata": {}
  }
 ],
 "metadata": {
  "orig_nbformat": 4,
  "language_info": {
   "name": "python",
   "version": "3.9.6",
   "mimetype": "text/x-python",
   "codemirror_mode": {
    "name": "ipython",
    "version": 3
   },
   "pygments_lexer": "ipython3",
   "nbconvert_exporter": "python",
   "file_extension": ".py"
  },
  "kernelspec": {
   "name": "python3",
   "display_name": "Python 3.9.6 64-bit ('python_programering_Amal_Derbali-3tAF7EDp': pipenv)"
  },
  "interpreter": {
   "hash": "7d6c493d9be3ce9414559ad9bbf78b458bfd2ecad0291fac6402a6d619a9155a"
  }
 },
 "nbformat": 4,
 "nbformat_minor": 2
}