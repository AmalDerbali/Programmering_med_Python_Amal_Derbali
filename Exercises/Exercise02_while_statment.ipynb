{
 "cells": [
  {
   "cell_type": "markdown",
   "metadata": {},
   "source": [
    "1- Count numbers"
   ]
  },
  {
   "cell_type": "code",
   "execution_count": 2,
   "metadata": {},
   "outputs": [
    {
     "name": "stdout",
     "output_type": "stream",
     "text": [
      "-10, -9, -8, -7, -6, -5, -4, -3, -2, -1, 0, 1, 2, 3, 4, 5, 6, 7, 8, 9, 10, "
     ]
    }
   ],
   "source": [
    " n = -10\n",
    "while n <= 10:\n",
    "    print(n, end = \", \")\n",
    "    n += 1 "
   ]
  },
  {
   "cell_type": "markdown",
   "metadata": {},
   "source": [
    "2- Arithmetic sum"
   ]
  },
  {
   "cell_type": "markdown",
   "metadata": {},
   "source": [
    "a)"
   ]
  },
  {
   "cell_type": "code",
   "execution_count": 67,
   "metadata": {},
   "outputs": [
    {
     "name": "stdout",
     "output_type": "stream",
     "text": [
      "1+2+3+4+5+6+7+8+9+10+11+12+13+14+15+16+17+18+19+20+21+22+23+24+25+26+27+28+29+30+31+32+33+34+35+36+37+38+39+40+41+42+43+44+45+46+47+48+49+50+51+52+53+54+55+56+57+58+59+60+61+62+63+64+65+66+67+68+69+70+71+72+73+74+75+76+77+78+79+80+81+82+83+84+85+86+87+88+89+90+91+92+93+94+95+96+97+98+99+100=5050\n"
     ]
    }
   ],
   "source": [
    "n = 1\n",
    "sum = 0\n",
    "while n <= 100:\n",
    "    if n == 100:\n",
    "        print (f\"100=\", end=\"\")\n",
    "    else:\n",
    "        print (f\"{n}+\", end=\"\")\n",
    "    sum += n\n",
    "    n += 1\n",
    "print (sum)"
   ]
  },
  {
   "cell_type": "markdown",
   "metadata": {},
   "source": [
    "b)"
   ]
  },
  {
   "cell_type": "code",
   "execution_count": 3,
   "metadata": {},
   "outputs": [
    {
     "name": "stdout",
     "output_type": "stream",
     "text": [
      "1+3+5+7+9+11+13+15+17+19+21+23+25+27+29+31+33+35+37+39+41+43+45+47+49+51+53+55+57+59+61+63+65+67+69+71+73+75+77+79+81+83+85+87+89+91+93+95+97+99=2500\n"
     ]
    }
   ],
   "source": [
    "n = 1\n",
    "sum = 0\n",
    "while n <= 99:\n",
    "    if n == 99:\n",
    "        print (f\"99=\", end=\"\")\n",
    "    else:\n",
    "        print (f\"{n}+\", end=\"\")\n",
    "    sum += n\n",
    "    n += 2\n",
    "print (sum)"
   ]
  },
  {
   "cell_type": "markdown",
   "metadata": {},
   "source": [
    "3- Guess number game"
   ]
  },
  {
   "cell_type": "markdown",
   "metadata": {},
   "source": [
    "a)"
   ]
  },
  {
   "cell_type": "code",
   "execution_count": 3,
   "metadata": {},
   "outputs": [
    {
     "ename": "ValueError",
     "evalue": "invalid literal for int() with base 10: ''",
     "output_type": "error",
     "traceback": [
      "\u001b[1;31m---------------------------------------------------------------------------\u001b[0m",
      "\u001b[1;31mValueError\u001b[0m                                Traceback (most recent call last)",
      "\u001b[1;32mC:\\Users\\AMALDE~1\\AppData\\Local\\Temp/ipykernel_2980/881975904.py\u001b[0m in \u001b[0;36m<module>\u001b[1;34m\u001b[0m\n\u001b[0;32m      2\u001b[0m \u001b[1;32mwhile\u001b[0m \u001b[1;32mTrue\u001b[0m\u001b[1;33m:\u001b[0m\u001b[1;33m\u001b[0m\u001b[1;33m\u001b[0m\u001b[0m\n\u001b[0;32m      3\u001b[0m     \u001b[0mn\u001b[0m \u001b[1;33m=\u001b[0m \u001b[0mrnd\u001b[0m\u001b[1;33m.\u001b[0m\u001b[0mrandint\u001b[0m\u001b[1;33m(\u001b[0m\u001b[1;36m1\u001b[0m\u001b[1;33m,\u001b[0m \u001b[1;36m100\u001b[0m\u001b[1;33m)\u001b[0m\u001b[1;33m\u001b[0m\u001b[1;33m\u001b[0m\u001b[0m\n\u001b[1;32m----> 4\u001b[1;33m     \u001b[0mguess\u001b[0m \u001b[1;33m=\u001b[0m \u001b[0mint\u001b[0m\u001b[1;33m(\u001b[0m\u001b[0minput\u001b[0m\u001b[1;33m(\u001b[0m\u001b[1;34m\"Enter a number between 1 and 100 please!\"\u001b[0m\u001b[1;33m)\u001b[0m\u001b[1;33m)\u001b[0m\u001b[1;33m\u001b[0m\u001b[1;33m\u001b[0m\u001b[0m\n\u001b[0m\u001b[0;32m      5\u001b[0m     \u001b[1;32mif\u001b[0m \u001b[0mguess\u001b[0m \u001b[1;33m==\u001b[0m \u001b[0mn\u001b[0m\u001b[1;33m:\u001b[0m\u001b[1;33m\u001b[0m\u001b[1;33m\u001b[0m\u001b[0m\n\u001b[0;32m      6\u001b[0m         \u001b[0mprint\u001b[0m \u001b[1;33m(\u001b[0m\u001b[1;34m\"Correct! Congratulations!\"\u001b[0m\u001b[1;33m)\u001b[0m\u001b[1;33m\u001b[0m\u001b[1;33m\u001b[0m\u001b[0m\n",
      "\u001b[1;31mValueError\u001b[0m: invalid literal for int() with base 10: ''"
     ]
    }
   ],
   "source": [
    "import random as rnd\n",
    "while True:\n",
    "    n = rnd.randint(1, 100)\n",
    "    guess = int(input(\"Enter a number between 1 and 100 please!\"))\n",
    "    if guess == n:\n",
    "        print (\"Correct! Congratulations!\")\n",
    "        break\n",
    "    else:\n",
    "        print(\"Wrong!\")"
   ]
  },
  {
   "cell_type": "markdown",
   "metadata": {},
   "source": [
    "b)"
   ]
  },
  {
   "cell_type": "code",
   "execution_count": 7,
   "metadata": {},
   "outputs": [
    {
     "name": "stdout",
     "output_type": "stream",
     "text": [
      "your guess number is low\n",
      "your guess number is low\n",
      "your guess number is low\n",
      "your guess number is low\n",
      "your guess number is low\n",
      "your guess number is low\n",
      "your guess number is high\n",
      "your guess number is high\n",
      "your guess number is high\n",
      "your guess number is high\n",
      "your guess number is high\n",
      "your guess number is correct\n",
      "You have tried 12 times, the right number is 93.\n"
     ]
    }
   ],
   "source": [
    "import random as rnd\n",
    "n = rnd.randint(1,100)\n",
    "guesses_n = 0\n",
    "guess = 0\n",
    "\n",
    "while True:\n",
    "    guess = int(input(\"enter a number please\"))\n",
    "    guesses_n += 1\n",
    "    \n",
    "    if guess > n:\n",
    "        print(\"your guess number is high\")\n",
    "    elif guess < n: \n",
    "        print(\"your guess number is low\")\n",
    "    else:\n",
    "        print(\"your guess number is correct\")\n",
    "        print(f\"You have tried {guesses_n} times, the right number is {guess}.\")\n",
    "        break\n",
    "\n"
   ]
  },
  {
   "cell_type": "code",
   "execution_count": 13,
   "metadata": {},
   "outputs": [
    {
     "name": "stdout",
     "output_type": "stream",
     "text": [
      "congrats\n",
      "Thank you for playing the game! Your score was 1. The game will now end.\n"
     ]
    }
   ],
   "source": [
    "x = rnd.randint(1, 10)\n",
    "y = rnd.randint(1, 10)\n",
    "guess = 0\n",
    "score = 0\n",
    "while True:\n",
    "    level = input(\"enter the level of the game choose 1 or 2\")\n",
    "    if level == 1:\n",
    "        x = rnd.randint(1, 5)\n",
    "        y = rnd.randint(1, 5)\n",
    "    else:\n",
    "        x = rnd.randint(6, 10)\n",
    "        y = rnd.randint(6, 10)\n",
    "    answer = x * y \n",
    "    guess = int(input(f\"enter {x}*{y}\"))\n",
    "    if guess == answer:\n",
    "        print(\"congrats\")\n",
    "        score += 1\n",
    "    else:\n",
    "        print(f\"That is not correct. The correct answer is {answer}.\")\n",
    "    play_again = input(\"Do you want to play again? Press y for 'yes' and n for 'no'.\")\n",
    "    if play_again != \"y\":\n",
    "        print(f\"Thank you for playing the game! Your score was {score}. The game will now end.\")\n",
    "        break\n",
    "    \n",
    "\n",
    "    "
   ]
  },
  {
   "cell_type": "code",
   "execution_count": 14,
   "metadata": {},
   "outputs": [
    {
     "name": "stdout",
     "output_type": "stream",
     "text": [
      "The numbers converges to:  4.9131004884.\n"
     ]
    }
   ],
   "source": [
    "n = 0\n",
    "sum = 0\n",
    "\n",
    "while n < 10000000:\n",
    "    sum += (-1)**n/(2*n+1)\n",
    "    n +=1\n",
    "print(f\"The numbers converges to: {sum: .10f}.\")"
   ]
  }
 ],
 "metadata": {
  "interpreter": {
   "hash": "eacaffae8a739d4b7c9a2bb010540ab3fb2fd534d4d9d1bb6421b24cb8b2e27c"
  },
  "kernelspec": {
   "display_name": "Python 3.9.6 64-bit",
   "name": "python3"
  },
  "language_info": {
   "codemirror_mode": {
    "name": "ipython",
    "version": 3
   },
   "file_extension": ".py",
   "mimetype": "text/x-python",
   "name": "python",
   "nbconvert_exporter": "python",
   "pygments_lexer": "ipython3",
   "version": "3.9.6"
  },
  "orig_nbformat": 4
 },
 "nbformat": 4,
 "nbformat_minor": 2
}
