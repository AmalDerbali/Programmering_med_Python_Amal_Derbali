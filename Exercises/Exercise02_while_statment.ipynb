{
 "cells": [
  {
   "cell_type": "markdown",
   "source": [
    "1- Count numbers"
   ],
   "metadata": {}
  },
  {
   "cell_type": "code",
   "execution_count": 2,
   "source": [
    " n = -10\r\n",
    "while n <= 10:\r\n",
    "    print(n, end = \", \")\r\n",
    "    n += 1 "
   ],
   "outputs": [
    {
     "output_type": "stream",
     "name": "stdout",
     "text": [
      "-10, -9, -8, -7, -6, -5, -4, -3, -2, -1, 0, 1, 2, 3, 4, 5, 6, 7, 8, 9, 10, "
     ]
    }
   ],
   "metadata": {}
  },
  {
   "cell_type": "markdown",
   "source": [
    "2- Arithmetic sum"
   ],
   "metadata": {}
  },
  {
   "cell_type": "markdown",
   "source": [
    "a)"
   ],
   "metadata": {}
  },
  {
   "cell_type": "code",
   "execution_count": 67,
   "source": [
    "n = 1\r\n",
    "sum = 0\r\n",
    "while n <= 100:\r\n",
    "    if n == 100:\r\n",
    "        print (f\"100=\", end=\"\")\r\n",
    "    else:\r\n",
    "        print (f\"{n}+\", end=\"\")\r\n",
    "    sum += n\r\n",
    "    n += 1\r\n",
    "print (sum)"
   ],
   "outputs": [
    {
     "output_type": "stream",
     "name": "stdout",
     "text": [
      "1+2+3+4+5+6+7+8+9+10+11+12+13+14+15+16+17+18+19+20+21+22+23+24+25+26+27+28+29+30+31+32+33+34+35+36+37+38+39+40+41+42+43+44+45+46+47+48+49+50+51+52+53+54+55+56+57+58+59+60+61+62+63+64+65+66+67+68+69+70+71+72+73+74+75+76+77+78+79+80+81+82+83+84+85+86+87+88+89+90+91+92+93+94+95+96+97+98+99+100=5050\n"
     ]
    }
   ],
   "metadata": {}
  },
  {
   "cell_type": "markdown",
   "source": [
    "b)"
   ],
   "metadata": {}
  },
  {
   "cell_type": "code",
   "execution_count": 73,
   "source": [
    "n = 1\r\n",
    "sum = 0\r\n",
    "while n <= 99:\r\n",
    "    if n == 99:\r\n",
    "        print (f\"99=\", end=\"\")\r\n",
    "    else:\r\n",
    "        print (f\"{n}+\", end=\"\")\r\n",
    "    sum += n\r\n",
    "    n += 2\r\n",
    "print (sum)"
   ],
   "outputs": [
    {
     "output_type": "stream",
     "name": "stdout",
     "text": [
      "1+3+5+7+9+11+13+15+17+19+21+23+25+27+29+31+33+35+37+39+41+43+45+47+49+51+53+55+57+59+61+63+65+67+69+71+73+75+77+79+81+83+85+87+89+91+93+95+97+99=2500\n"
     ]
    }
   ],
   "metadata": {}
  },
  {
   "cell_type": "markdown",
   "source": [
    "3- Guess number game"
   ],
   "metadata": {}
  },
  {
   "cell_type": "markdown",
   "source": [
    "a)"
   ],
   "metadata": {}
  },
  {
   "cell_type": "code",
   "execution_count": 3,
   "source": [
    "import random as rnd\r\n",
    "while True:\r\n",
    "    n = rnd.randint(1, 100)\r\n",
    "    guess = int(input(\"Enter a number between 1 and 100 please!\"))\r\n",
    "    if guess == n:\r\n",
    "        print (\"Correct! Congratulations!\")\r\n",
    "        break\r\n",
    "    else:\r\n",
    "        print(\"Wrong!\")"
   ],
   "outputs": [
    {
     "output_type": "error",
     "ename": "ValueError",
     "evalue": "invalid literal for int() with base 10: ''",
     "traceback": [
      "\u001b[1;31m---------------------------------------------------------------------------\u001b[0m",
      "\u001b[1;31mValueError\u001b[0m                                Traceback (most recent call last)",
      "\u001b[1;32mC:\\Users\\AMALDE~1\\AppData\\Local\\Temp/ipykernel_2980/881975904.py\u001b[0m in \u001b[0;36m<module>\u001b[1;34m\u001b[0m\n\u001b[0;32m      2\u001b[0m \u001b[1;32mwhile\u001b[0m \u001b[1;32mTrue\u001b[0m\u001b[1;33m:\u001b[0m\u001b[1;33m\u001b[0m\u001b[1;33m\u001b[0m\u001b[0m\n\u001b[0;32m      3\u001b[0m     \u001b[0mn\u001b[0m \u001b[1;33m=\u001b[0m \u001b[0mrnd\u001b[0m\u001b[1;33m.\u001b[0m\u001b[0mrandint\u001b[0m\u001b[1;33m(\u001b[0m\u001b[1;36m1\u001b[0m\u001b[1;33m,\u001b[0m \u001b[1;36m100\u001b[0m\u001b[1;33m)\u001b[0m\u001b[1;33m\u001b[0m\u001b[1;33m\u001b[0m\u001b[0m\n\u001b[1;32m----> 4\u001b[1;33m     \u001b[0mguess\u001b[0m \u001b[1;33m=\u001b[0m \u001b[0mint\u001b[0m\u001b[1;33m(\u001b[0m\u001b[0minput\u001b[0m\u001b[1;33m(\u001b[0m\u001b[1;34m\"Enter a number between 1 and 100 please!\"\u001b[0m\u001b[1;33m)\u001b[0m\u001b[1;33m)\u001b[0m\u001b[1;33m\u001b[0m\u001b[1;33m\u001b[0m\u001b[0m\n\u001b[0m\u001b[0;32m      5\u001b[0m     \u001b[1;32mif\u001b[0m \u001b[0mguess\u001b[0m \u001b[1;33m==\u001b[0m \u001b[0mn\u001b[0m\u001b[1;33m:\u001b[0m\u001b[1;33m\u001b[0m\u001b[1;33m\u001b[0m\u001b[0m\n\u001b[0;32m      6\u001b[0m         \u001b[0mprint\u001b[0m \u001b[1;33m(\u001b[0m\u001b[1;34m\"Correct! Congratulations!\"\u001b[0m\u001b[1;33m)\u001b[0m\u001b[1;33m\u001b[0m\u001b[1;33m\u001b[0m\u001b[0m\n",
      "\u001b[1;31mValueError\u001b[0m: invalid literal for int() with base 10: ''"
     ]
    }
   ],
   "metadata": {}
  },
  {
   "cell_type": "markdown",
   "source": [
    "b)"
   ],
   "metadata": {}
  },
  {
   "cell_type": "code",
   "execution_count": 12,
   "source": [
    "import random as rnd\r\n",
    "n = rnd.randrange(1,100)\r\n",
    "guesses_n = 0\r\n",
    "guess = 20\r\n",
    "\r\n",
    "while True:\r\n",
    "    guesses_n += 1\r\n",
    "    if n == guess:\r\n",
    "        print(\"Congratulation!\")\r\n",
    "        break\r\n",
    "    else:\r\n",
    "        if guess > n:\r\n",
    "            guess -= 1\r\n",
    "          \r\n",
    "        else: \r\n",
    "            guess += 1\r\n",
    "\r\n",
    "print(f\"You have tried {guesses_n} times, the right number is {guess}.\")"
   ],
   "outputs": [
    {
     "output_type": "stream",
     "name": "stdout",
     "text": [
      "Congratulation!\n",
      "You have tried 79 times, the right number is 98.\n"
     ]
    }
   ],
   "metadata": {}
  }
 ],
 "metadata": {
  "orig_nbformat": 4,
  "language_info": {
   "name": "python",
   "version": "3.9.6",
   "mimetype": "text/x-python",
   "codemirror_mode": {
    "name": "ipython",
    "version": 3
   },
   "pygments_lexer": "ipython3",
   "nbconvert_exporter": "python",
   "file_extension": ".py"
  },
  "kernelspec": {
   "name": "python3",
   "display_name": "Python 3.9.6 64-bit"
  },
  "interpreter": {
   "hash": "eacaffae8a739d4b7c9a2bb010540ab3fb2fd534d4d9d1bb6421b24cb8b2e27c"
  }
 },
 "nbformat": 4,
 "nbformat_minor": 2
}