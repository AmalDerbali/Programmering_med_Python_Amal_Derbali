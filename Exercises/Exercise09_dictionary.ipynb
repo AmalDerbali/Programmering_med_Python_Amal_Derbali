{
 "cells": [
  {
   "cell_type": "markdown",
   "source": [
    "# 1) Curriculum"
   ],
   "metadata": {}
  },
  {
   "cell_type": "code",
   "execution_count": 4,
   "source": [
    "ai_courses = dict(\r\n",
    "    databaser = 25,\r\n",
    "    databehandling = 25,\r\n",
    "    djup_maskininlärning = 40,\r\n",
    "    examensarbete = 15,\r\n",
    "    introduktionskurs_till_AI = 5,\r\n",
    "    LIA_1 = 40,\r\n",
    "    LIA_2 = 70,\r\n",
    "    maskininlärning = 45,\r\n",
    "    praktisk_maskininlärning_och_projektmetodik\t= 45,\r\n",
    "    programmering_med_Python = 40,\r\n",
    "    statistiska_metoder = 30,\r\n",
    "    visualisering_presentationer_och_storytelling = 20\r\n",
    ")\r\n",
    "\r\n",
    "print(ai_courses)\r\n",
    "points_in_total = 0 \r\n",
    "for course in ai_courses: \r\n",
    "    points_in_total += ai_courses[course] \r\n",
    "\r\n",
    "print(f'The number of points for the program is: {points_in_total}.')"
   ],
   "outputs": [
    {
     "output_type": "stream",
     "name": "stdout",
     "text": [
      "{'databaser': 25, 'databehandling': 25, 'djup_maskininlärning': 40, 'examensarbete': 15, 'introduktionskurs_till_AI': 5, 'LIA_1': 40, 'LIA_2': 70, 'maskininlärning': 45, 'praktisk_maskininlärning_och_projektmetodik': 45, 'programmering_med_Python': 40, 'statistiska_metoder': 30, 'visualisering_presentationer_och_storytelling': 20}\n",
      "The number of points for the program is: 400.\n"
     ]
    }
   ],
   "metadata": {}
  },
  {
   "cell_type": "markdown",
   "source": [
    "# 2) Dice simulation"
   ],
   "metadata": {}
  },
  {
   "cell_type": "code",
   "execution_count": 11,
   "source": [
    "import random as rnd\r\n",
    "\r\n",
    "dice_rolls = [rnd.randint(1,6) for i in range (100000)]\r\n",
    "lists = [\"1\", \"2\", \"3\", \"4\", \"5\", \"6\"]\r\n",
    "count = {key: 0 for key in lists}  \r\n",
    "\r\n",
    "for dice in dice_rolls: \r\n",
    "    i = 1 \r\n",
    "    for num in count:  \r\n",
    "        if dice == i:\r\n",
    "            count[num] += 1\r\n",
    "        i += 1 \r\n",
    "for num in count:\r\n",
    "    print(f\"{num}: {count[num]}\")"
   ],
   "outputs": [
    {
     "output_type": "stream",
     "name": "stdout",
     "text": [
      "1: 16762\n",
      "2: 16553\n",
      "3: 16595\n",
      "4: 16588\n",
      "5: 16725\n",
      "6: 16777\n"
     ]
    }
   ],
   "metadata": {}
  }
 ],
 "metadata": {
  "orig_nbformat": 4,
  "language_info": {
   "name": "python",
   "version": "3.9.6",
   "mimetype": "text/x-python",
   "codemirror_mode": {
    "name": "ipython",
    "version": 3
   },
   "pygments_lexer": "ipython3",
   "nbconvert_exporter": "python",
   "file_extension": ".py"
  },
  "kernelspec": {
   "name": "python3",
   "display_name": "Python 3.9.6 64-bit ('python_programering_Amal_Derbali-3tAF7EDp': pipenv)"
  },
  "interpreter": {
   "hash": "7d6c493d9be3ce9414559ad9bbf78b458bfd2ecad0291fac6402a6d619a9155a"
  }
 },
 "nbformat": 4,
 "nbformat_minor": 2
}