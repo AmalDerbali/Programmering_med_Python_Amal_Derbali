{
 "cells": [
  {
   "cell_type": "markdown",
   "source": [
    "# 1) Curriculum"
   ],
   "metadata": {}
  },
  {
   "cell_type": "code",
   "execution_count": 4,
   "source": [
    "ai_courses = dict(\r\n",
    "    databaser = 25,\r\n",
    "    databehandling = 25,\r\n",
    "    djup_maskininlärning = 40,\r\n",
    "    examensarbete = 15,\r\n",
    "    introduktionskurs_till_AI = 5,\r\n",
    "    LIA_1 = 40,\r\n",
    "    LIA_2 = 70,\r\n",
    "    maskininlärning = 45,\r\n",
    "    praktisk_maskininlärning_och_projektmetodik\t= 45,\r\n",
    "    programmering_med_Python = 40,\r\n",
    "    statistiska_metoder = 30,\r\n",
    "    visualisering_presentationer_och_storytelling = 20\r\n",
    ")\r\n",
    "\r\n",
    "print(ai_courses)\r\n",
    "points_in_total = 0 \r\n",
    "for course in ai_courses: \r\n",
    "    points_in_total += ai_courses[course] \r\n",
    "\r\n",
    "print(f'The number of points for the program is: {points_in_total}.')"
   ],
   "outputs": [
    {
     "output_type": "stream",
     "name": "stdout",
     "text": [
      "{'databaser': 25, 'databehandling': 25, 'djup_maskininlärning': 40, 'examensarbete': 15, 'introduktionskurs_till_AI': 5, 'LIA_1': 40, 'LIA_2': 70, 'maskininlärning': 45, 'praktisk_maskininlärning_och_projektmetodik': 45, 'programmering_med_Python': 40, 'statistiska_metoder': 30, 'visualisering_presentationer_och_storytelling': 20}\n",
      "The number of points for the program is: 400.\n"
     ]
    }
   ],
   "metadata": {}
  },
  {
   "cell_type": "markdown",
   "source": [
    "# 2) Dice simulation"
   ],
   "metadata": {}
  },
  {
   "cell_type": "code",
   "execution_count": 14,
   "source": [
    "import random as rnd\r\n",
    "\r\n",
    "dice_rolls = [rnd.randint(1,6) for i in range (100000)]\r\n",
    "lists = [\"1\", \"2\", \"3\", \"4\", \"5\", \"6\"]\r\n",
    "count = {key: 0 for key in lists}  \r\n",
    "\r\n",
    "for dice in dice_rolls: \r\n",
    "    i = 1 \r\n",
    "    for num in count:\r\n",
    "        if dice == i:\r\n",
    "            count[num] += 1\r\n",
    "    i += 1 \r\n",
    "for num in count:\r\n",
    "    print(f\"{num}: {count[num]}\")"
   ],
   "outputs": [
    {
     "output_type": "stream",
     "name": "stdout",
     "text": [
      "1: 16641\n",
      "2: 16641\n",
      "3: 16641\n",
      "4: 16641\n",
      "5: 16641\n",
      "6: 16641\n"
     ]
    }
   ],
   "metadata": {}
  },
  {
   "cell_type": "markdown",
   "source": [
    "# 3) Pokemon list"
   ],
   "metadata": {}
  },
  {
   "cell_type": "code",
   "execution_count": 18,
   "source": [
    "path = \"Files/pokemon_list.txt\"\r\n",
    "\r\n",
    "with open (path, \"r\", encoding= \"utf-8\") as pok:\r\n",
    "    pokemon_list = [pokemon.strip(\"\\n\") for pokemon in pok.readlines()]\r\n",
    "    pokemon_list = [pokemon.split() for pokemon in pokemon_list]\r\n",
    "\r\n",
    "print(pokemon_list)\r\n"
   ],
   "outputs": [
    {
     "output_type": "stream",
     "name": "stdout",
     "text": [
      "[['1', 'Bulbasaur', 'Gräs/Gift'], ['2', 'Ivysaur', 'Gräs/Gift'], ['3', 'Venusaur', 'Gräs/Gift'], ['4', 'Charmander', 'Eld'], ['5', 'Charmeleon', 'Eld'], ['6', 'Charizard', 'Eld/Flygande'], ['7', 'Squirtle', 'Vatten'], ['8', 'Wartortle', 'Vatten'], ['9', 'Blastoise', 'Vatten'], ['10', 'Caterpie', 'Insekt'], ['11', 'Metapod', 'Insekt'], ['12', 'Butterfree', 'Insekt/Flygande'], ['13', 'Weedle', 'Insekt/Gift'], ['14', 'Kakuna', 'Insekt/Gift'], ['15', 'Beedrill', 'Insekt/Gift'], ['16', 'Pidgey', 'Normal/Flygande'], ['17', 'Pidgeotto', 'Normal/Flygande'], ['18', 'Pidgeot', 'Normal/Flygande'], ['19', 'Rattata', 'Normal'], ['20', 'Raticate', 'Normal'], ['21', 'Spearow', 'Normal/Flygande'], ['22', 'Fearow', 'Normal/Flygande'], ['23', 'Ekans', 'Gift'], ['24', 'Arbok', 'Gift'], ['25', 'Pikachu', 'Elektrisk'], ['26', 'Raichu', 'Elektrisk'], ['27', 'Sandshrew', 'Mark'], ['28', 'Sandslash', 'Mark'], ['29', 'Nidoran♀', 'Gift'], ['30', 'Nidorina', 'Gift'], ['31', 'Nidoqueen', 'Gift/Mark'], ['32', 'Nidoran♂', 'Gift'], ['33', 'Nidorino', 'Gift'], ['34', 'Nidoking', 'Gift/Mark'], ['35', 'Clefairy', 'Fé'], ['36', 'Clefable', 'Fé'], ['37', 'Vulpix', 'Eld'], ['38', 'Ninetales', 'Eld'], ['39', 'Jigglypuff', 'Normal/Fé'], ['40', 'Wigglytuff', 'Normal/Fé'], ['41', 'Zubat', 'Gift/Flygande'], ['42', 'Golbat', 'Gift/Flygande'], ['43', 'Oddish', 'Gräs/Gift'], ['44', 'Gloom', 'Gräs/Gift'], ['45', 'Vileplume', 'Gräs/Gift'], ['46', 'Paras', 'Insekt/Gräs'], ['47', 'Parasect', 'Insekt/Gräs'], ['48', 'Venonat', 'Insekt/Gift'], ['49', 'Venomoth', 'Insekt/Gift'], ['50', 'Diglett', 'Mark'], ['51', 'Dugtrio', 'Mark'], ['52', 'Meowth', 'Normal'], ['53', 'Persian', 'Normal'], ['54', 'Psyduck', 'Vatten'], ['55', 'Golduck', 'Vatten'], ['56', 'Mankey', 'Kamp'], ['57', 'Primeape', 'Kamp'], ['58', 'Growlithe', 'Eld'], ['59', 'Arcanine', 'Eld'], ['60', 'Poliwag', 'Vatten'], ['61', 'Poliwhirl', 'Vatten'], ['62', 'Poliwrath', 'Vatten/Kamp'], ['63', 'Abra', 'Psykisk'], ['64', 'Kadabra', 'Psykisk'], ['65', 'Alakazam', 'Psykisk'], ['66', 'Machop', 'Kamp'], ['67', 'Machoke', 'Kamp'], ['68', 'Machamp', 'Kamp'], ['69', 'Bellsprout', 'Gräs/Gift'], ['70', 'Weepinbell', 'Gräs/Gift'], ['71', 'Victreebel', 'Gräs/Gift'], ['72', 'Tentacool', 'Vatten/Gift'], ['73', 'Tentacruel', 'Vatten/Gift'], ['74', 'Geodude', 'Sten/Mark'], ['75', 'Graveler', 'Sten/Mark'], ['76', 'Golem', 'Sten/Mark'], ['77', 'Ponyta', 'Eld'], ['78', 'Rapidash', 'Eld'], ['79', 'Slowpoke', 'Vatten/Psykisk'], ['80', 'Slowbro', 'Vatten/Psykisk'], ['81', 'Magnemite', 'Elektrisk/Stål'], ['82', 'Magneton', 'Elektrisk/Stål'], ['83', \"Farfetch'd\", 'Normal/Flygande'], ['84', 'Doduo', 'Normal/Flygande'], ['85', 'Dodrio', 'Normal/Flygande'], ['86', 'Seel', 'Vatten'], ['87', 'Dewgong', 'Vatten/Is'], ['88', 'Grimer', 'Gift'], ['89', 'Muk', 'Gift'], ['90', 'Shellder', 'Vatten'], ['91', 'Cloyster', 'Vatten/Is'], ['92', 'Gastly', 'Spöke/Gift'], ['93', 'Haunter', 'Spöke/Gift'], ['94', 'Gengar', 'Spöke/Gift'], ['95', 'Onix', 'Sten/Mark'], ['96', 'Drowzee', 'Psykisk'], ['97', 'Hypno', 'Psykisk'], ['98', 'Krabby', 'Vatten'], ['99', 'Kingler', 'Vatten'], ['100', 'Voltorb', 'Elektrisk'], ['101', 'Electrode', 'Elektrisk'], ['102', 'Exeggcute', 'Gräs/Psykisk'], ['103', 'Exeggutor', 'Gräs/Psykisk'], ['104', 'Cubone', 'Mark'], ['105', 'Marowak', 'Mark'], ['106', 'Hitmonlee', 'Kamp'], ['107', 'Hitmonchan', 'Kamp'], ['108', 'Lickitung', 'Normal'], ['109', 'Koffing', 'Gift'], ['110', 'Weezing', 'Gift'], ['111', 'Rhyhorn', 'Mark/Sten'], ['112', 'Rhydon', 'Mark/Sten'], ['113', 'Chansey', 'Normal'], ['114', 'Tangela', 'Gräs'], ['115', 'Kangaskhan', 'Normal'], ['116', 'Horsea', 'Vatten'], ['117', 'Seadra', 'Vatten'], ['118', 'Goldeen', 'Vatten'], ['119', 'Seaking', 'Vatten'], ['120', 'Staryu', 'Vatten'], ['121', 'Starmie', 'Vatten/Psykisk'], ['122', 'Mr.', '122'], ['123', 'Scyther', 'Insekt/Flygande'], ['124', 'Jynx', 'Is/Psykisk'], ['125', 'Electabuzz', 'Elektrisk'], ['126', 'Magmar', 'Eld'], ['127', 'Pinsir', 'Insekt'], ['128', 'Tauros', 'Normal'], ['129', 'Magikarp', 'Vatten'], ['130', 'Gyarados', 'Vatten/Flygande'], ['131', 'Lapras', 'Vatten/Is'], ['132', 'Ditto', 'Normal'], ['133', 'Eevee', 'Normal'], ['134', 'Vaporeon', 'Vatten'], ['135', 'Jolteon', 'Elektrisk'], ['136', 'Flareon', 'Eld'], ['137', 'Porygon', 'Normal'], ['138', 'Omanyte', 'Sten/Vatten'], ['139', 'Omastar', 'Sten/Vatten'], ['140', 'Kabuto', 'Sten/Vatten'], ['141', 'Kabutops', 'Sten/Vatten'], ['142', 'Aerodactyl', 'Sten/Flygande'], ['143', 'Snorlax', 'Normal'], ['144', 'Articuno', 'Is/Flygande'], ['145', 'Zapdos', 'Elektrisk/Flygande'], ['146', 'Moltres', 'Eld/Flygande'], ['147', 'Dratini', 'Drake'], ['148', 'Dragonair', 'Drake'], ['149', 'Dragonite', 'Drake/Flygande'], ['150', 'Mewtwo', 'Psykisk']]\n"
     ]
    }
   ],
   "metadata": {}
  }
 ],
 "metadata": {
  "orig_nbformat": 4,
  "language_info": {
   "name": "python",
   "version": "3.9.6",
   "mimetype": "text/x-python",
   "codemirror_mode": {
    "name": "ipython",
    "version": 3
   },
   "pygments_lexer": "ipython3",
   "nbconvert_exporter": "python",
   "file_extension": ".py"
  },
  "kernelspec": {
   "name": "python3",
   "display_name": "Python 3.9.6 64-bit ('python_programering_Amal_Derbali-3tAF7EDp': pipenv)"
  },
  "interpreter": {
   "hash": "7d6c493d9be3ce9414559ad9bbf78b458bfd2ecad0291fac6402a6d619a9155a"
  }
 },
 "nbformat": 4,
 "nbformat_minor": 2
}