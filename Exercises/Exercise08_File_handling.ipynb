{
 "cells": [
  {
   "cell_type": "markdown",
   "source": [
    "# 1) Dice rolls"
   ],
   "metadata": {}
  },
  {
   "cell_type": "markdown",
   "source": [
    "# a)"
   ],
   "metadata": {}
  },
  {
   "cell_type": "code",
   "execution_count": 15,
   "source": [
    "dice_rolls = \"Files/dice_rolls.txt\" \r\n",
    "\r\n",
    "import random as rnd\r\n",
    "dices = [rnd.randint (1,6) for i in range (20)]\r\n",
    "print (f\"Simulate 20 dice rolls:\\n{dices}\")\r\n",
    "\r\n",
    "with open (dice_rolls, \"w\") as f:\r\n",
    "    f.write (f\"Simulate 20 dice rolls:\\n{dices} \\n\")\r\n",
    "\r\n",
    "\r\n",
    "\r\n"
   ],
   "outputs": [
    {
     "output_type": "stream",
     "name": "stdout",
     "text": [
      "Simulate 20 dice rolls:\n",
      "[4, 1, 4, 5, 1, 6, 6, 3, 4, 2, 3, 4, 6, 2, 2, 5, 5, 3, 5, 3]\n"
     ]
    }
   ],
   "metadata": {}
  },
  {
   "cell_type": "markdown",
   "source": [
    "# b)"
   ],
   "metadata": {}
  },
  {
   "cell_type": "code",
   "execution_count": 16,
   "source": [
    "\r\n",
    "dice_rolls = \"Files/dice_rolls.txt\"\r\n",
    "import random as rnd\r\n",
    "dices.sort()\r\n",
    "print (f\"Sorted dice rolls:\\n{dices}\")\r\n",
    "with open (dice_rolls, \"a\") as f1:\r\n",
    "    f1.write(f\"Sorted dice rolls:\\n{dices} \\n\")\r\n",
    "    "
   ],
   "outputs": [
    {
     "output_type": "stream",
     "name": "stdout",
     "text": [
      "Sorted dice rolls:\n",
      "[1, 1, 2, 2, 2, 3, 3, 3, 3, 4, 4, 4, 4, 5, 5, 5, 5, 6, 6, 6]\n"
     ]
    }
   ],
   "metadata": {}
  },
  {
   "cell_type": "markdown",
   "source": [
    "# c)"
   ],
   "metadata": {}
  },
  {
   "cell_type": "code",
   "execution_count": 17,
   "source": [
    "dice_rolls = \"Files/dice_rolls.txt\"\r\n",
    "import random as rnd\r\n",
    "num = dices.count (4)\r\n",
    "print (f\"Number of four is: {num}\")\r\n",
    "with open (dice_rolls, \"a\") as f2:\r\n",
    "    f2.write(f\"Number of four is: {num} \\n\")\r\n",
    "    "
   ],
   "outputs": [
    {
     "output_type": "stream",
     "name": "stdout",
     "text": [
      "Number of four is: 4\n"
     ]
    }
   ],
   "metadata": {}
  },
  {
   "cell_type": "markdown",
   "source": [
    "# 2) Test results"
   ],
   "metadata": {}
  },
  {
   "cell_type": "code",
   "execution_count": 16,
   "source": [
    "path =\"Files/test_results.txt\"\r\n",
    "\r\n",
    "with open (path, \"r\", encoding=\"utf-8\") as f, open(path, \"a\", encoding=\"utf-8\") as f1:\r\n",
    "    texts = [text.strip(\" \\n\") for text in f.readlines()]\r\n",
    "    print(texts)\r\n",
    "    texts.sort()\r\n",
    "    print(texts)\r\n",
    "        \r\n",
    "    f1.write(\"\\n\\nSorted alphabetically: \\n\\n\")\r\n",
    "    for name in texts:\r\n",
    "        f1.write(f\"{name}\\n\")\r\n",
    "        "
   ],
   "outputs": [
    {
     "output_type": "stream",
     "name": "stdout",
     "text": [
      "['Adam Gustafsson 25', 'Emil Johansson 23', 'Sven Erik Karlsson 13', 'Ove Karlsten 41', 'Emma Boden 32', 'Ida Håkansson 23', 'Ella Ester 41', 'Hanna Karlsson 23', 'Johan Johansson 42', 'Sven Erik Lundin 39', 'Björn Björnsson 39', 'Karl Karlsson 32', 'Bose Bosseson 32', 'Håkan Håkanson 24', 'Jonas Jonasson 31', 'Erik Eriksson 31', 'Gore Bord 55', 'Jakob Kallander 65', 'Fredrika Ulven 10']\n",
      "['Adam Gustafsson 25', 'Björn Björnsson 39', 'Bose Bosseson 32', 'Ella Ester 41', 'Emil Johansson 23', 'Emma Boden 32', 'Erik Eriksson 31', 'Fredrika Ulven 10', 'Gore Bord 55', 'Hanna Karlsson 23', 'Håkan Håkanson 24', 'Ida Håkansson 23', 'Jakob Kallander 65', 'Johan Johansson 42', 'Jonas Jonasson 31', 'Karl Karlsson 32', 'Ove Karlsten 41', 'Sven Erik Karlsson 13', 'Sven Erik Lundin 39']\n"
     ]
    }
   ],
   "metadata": {}
  },
  {
   "cell_type": "code",
   "execution_count": 31,
   "source": [
    "import re\r\n",
    "\r\n",
    "with open(path, \"a\", encoding= \"utf-8\") as f1:\r\n",
    "    results_as_list = [person.split() for person in texts] \r\n",
    "    results_as_list = [[\" \".join(person[:-1]), int(person[-1])] for person in results_as_list] #Join the name/s together and save them in a list together with the result converted to an integer\r\n",
    "\r\n",
    "    list_sorted_by_result = sorted(results_as_list)\r\n",
    "    f1.write(\"\\n\\nSorted Results:\\n\\n\")\r\n",
    "\r\n",
    "    grades = [\"F\", \"E\", \"D\", \"C\", \"B\", \"A\"]\r\n",
    "\r\n",
    "    i = 10\r\n",
    "    j = 20\r\n",
    "    for grade in grades:\r\n",
    "        f1.write(f\"\\nGrade {grade}:\")\r\n",
    "        for result in list_sorted_by_result:\r\n",
    "            if result[1] >= i and result[1] < j:\r\n",
    "                f1.write(f\"\\n{result[0]} {result[1]}\")\r\n",
    "        i += 10\r\n",
    "        j += 10"
   ],
   "outputs": [],
   "metadata": {}
  },
  {
   "cell_type": "markdown",
   "source": [
    "# 3) National test"
   ],
   "metadata": {}
  },
  {
   "cell_type": "code",
   "execution_count": 76,
   "source": [
    "import matplotlib.pyplot as plt\r\n",
    "\r\n",
    "path2 = \"Files/NPvt19Ma2A.txt\"\r\n",
    "path3 = \"files/NPvt19Ma2C.txt\"\r\n",
    "with open (path2, \"r\") as NP2A:\r\n",
    "    results2A = [line.strip(\"\\n\") for line in NP2A.readlines()]\r\n",
    "    results2A = [result.split() for result in results2A]\r\n",
    "    grade2A = [result[0] for result in results2A]\r\n",
    "    grades2A = [float(result[1].replace(\"%\", \"\")) for result in results2A]\r\n",
    "\r\n",
    "with open (path3, \"r\") as NP2C:\r\n",
    "    results2C = [line.strip(\"\\n\") for line in NP2C.readlines()]\r\n",
    "    results2C = [result.split() for result in results2C]\r\n",
    "    grade2C = [result[0] for result in results2C]\r\n",
    "    grades2C = [float(result[1].replace(\"%\", \"\"))for result in results2C]\r\n",
    "\r\n",
    "\r\n",
    "\r\n",
    "\r\n",
    "fig1, ax1 = plt.subplots() \r\n",
    "ax1.pie(grades2A, labels = grade2A)\r\n",
    "plt.title(\"NP Ma2A\")\r\n",
    "\r\n",
    "fig2, ax2 = plt.subplots()\r\n",
    "ax2.pie(grades2C, labels = grade2C)\r\n",
    "plt.title(\"NP Ma2C\")\r\n",
    "\r\n"
   ],
   "outputs": [
    {
     "output_type": "execute_result",
     "data": {
      "text/plain": [
       "Text(0.5, 1.0, 'NP Ma2C')"
      ]
     },
     "metadata": {},
     "execution_count": 76
    },
    {
     "output_type": "display_data",
     "data": {
      "image/png": "[encoded data removed]",
      "text/plain": [
       "<Figure size 432x288 with 1 Axes>"
      ]
     },
     "metadata": {}
    },
    {
     "output_type": "display_data",
     "data": {
      "image/png": "[encoded data removed]",
      "text/plain": [
       "<Figure size 432x288 with 1 Axes>"
      ]
     },
     "metadata": {}
    }
   ],
   "metadata": {}
  },
  {
   "cell_type": "code",
   "execution_count": 2,
   "source": [
    "import matplotlib.pyplot as plt\r\n",
    "import random as rnd\r\n",
    "\r\n",
    "with open (\"pikachu.txt\", \"r\") as f1:\r\n",
    "    pikachu_list = [pikachu.strip(\"\\n\") for pikachu in f1.readlines()] #Remove spaces\r\n",
    "    pikachu_list = [pikachu.split(\",\") for pikachu in pikachu_list] #the string should be splitted into lists\r\n",
    "    pikachu_list = [float(pikachu[0], pikachu[1]. replace (\"(\",\"\").replace(\")\",\"\")) for pikachu in pikachu_list] #change elements to floats and replace parenthisis with \"\".\r\n",
    "    pikachu_list.remove (\"(width (cm), height (cm))\") #remove the title\r\n",
    "\r\n",
    "with open (\"pichu.txt\", \"r\") as f2:\r\n",
    "    pichu_list = [pichu.strip(\"\\n\") for pichu in f2.readlines()] \r\n",
    "    pichu_list = [pichu.split(\",\") for pichu in pichu_list] \r\n",
    "    pichu_list = [float(pichu[0], pichu[1]. replace (\"(\",\"\").replace(\")\",\"\")) for pichu in pichu_list]\r\n",
    "    pichu_list.remove (\"(width (cm), height (cm))\")\r\n",
    "\r\n",
    "\r\n",
    "#giving the width and the height by mentioning th first and the second elements\r\n",
    "pikachu_width = [pikachu[0] for pikachu in pikachu_list]\r\n",
    "pikachu_height = [pikachu[1] for pikachu in pikachu_list]\r\n",
    "pichu_width = [pichu[0] for pichu in pichu_list]\r\n",
    "pichu_height = [pichu[1] for pichu in pichu_list]\r\n",
    "\r\n",
    "# the type of plot is based on the link: https://dzone.com/articles/types-of-matplotlib-in-python\r\n",
    "plt.scatter(pikachu_width,pikachu_height, label=\"pikachu\",color=\"red\")\r\n",
    "plt.scatter(pichu_width,pichu_height,label=\"pichu\",color=\"blue\")\r\n",
    "plt.title(\"Sizes of Pikachu and Pichu\")\r\n",
    "plt.xlabel(\"Height in (cm)\")\r\n",
    "plt.ylabel(\"width in (cm)\")\r\n",
    "plt.show()"
   ],
   "outputs": [
    {
     "output_type": "error",
     "ename": "FileNotFoundError",
     "evalue": "[Errno 2] No such file or directory: 'pikachu.txt'",
     "traceback": [
      "\u001b[1;31m---------------------------------------------------------------------------\u001b[0m",
      "\u001b[1;31mFileNotFoundError\u001b[0m                         Traceback (most recent call last)",
      "\u001b[1;32mC:\\Users\\AMALDE~1\\AppData\\Local\\Temp/ipykernel_15344/2844147122.py\u001b[0m in \u001b[0;36m<module>\u001b[1;34m\u001b[0m\n\u001b[0;32m      2\u001b[0m \u001b[1;32mimport\u001b[0m \u001b[0mrandom\u001b[0m \u001b[1;32mas\u001b[0m \u001b[0mrnd\u001b[0m\u001b[1;33m\u001b[0m\u001b[1;33m\u001b[0m\u001b[0m\n\u001b[0;32m      3\u001b[0m \u001b[1;33m\u001b[0m\u001b[0m\n\u001b[1;32m----> 4\u001b[1;33m \u001b[1;32mwith\u001b[0m \u001b[0mopen\u001b[0m \u001b[1;33m(\u001b[0m\u001b[1;34m\"pikachu.txt\"\u001b[0m\u001b[1;33m,\u001b[0m \u001b[1;34m\"r\"\u001b[0m\u001b[1;33m)\u001b[0m \u001b[1;32mas\u001b[0m \u001b[0mf1\u001b[0m\u001b[1;33m:\u001b[0m\u001b[1;33m\u001b[0m\u001b[1;33m\u001b[0m\u001b[0m\n\u001b[0m\u001b[0;32m      5\u001b[0m     \u001b[0mpikachu_list\u001b[0m \u001b[1;33m=\u001b[0m \u001b[1;33m[\u001b[0m\u001b[0mpikachu\u001b[0m\u001b[1;33m.\u001b[0m\u001b[0mstrip\u001b[0m\u001b[1;33m(\u001b[0m\u001b[1;34m\"\\n\"\u001b[0m\u001b[1;33m)\u001b[0m \u001b[1;32mfor\u001b[0m \u001b[0mpikachu\u001b[0m \u001b[1;32min\u001b[0m \u001b[0mf1\u001b[0m\u001b[1;33m.\u001b[0m\u001b[0mreadlines\u001b[0m\u001b[1;33m(\u001b[0m\u001b[1;33m)\u001b[0m\u001b[1;33m]\u001b[0m \u001b[1;31m#Remove spaces\u001b[0m\u001b[1;33m\u001b[0m\u001b[1;33m\u001b[0m\u001b[0m\n\u001b[0;32m      6\u001b[0m     \u001b[0mpikachu_list\u001b[0m \u001b[1;33m=\u001b[0m \u001b[1;33m[\u001b[0m\u001b[0mpikachu\u001b[0m\u001b[1;33m.\u001b[0m\u001b[0msplit\u001b[0m\u001b[1;33m(\u001b[0m\u001b[1;34m\",\"\u001b[0m\u001b[1;33m)\u001b[0m \u001b[1;32mfor\u001b[0m \u001b[0mpikachu\u001b[0m \u001b[1;32min\u001b[0m \u001b[0mpikachu_list\u001b[0m\u001b[1;33m]\u001b[0m \u001b[1;31m#the string should be splitted into lists\u001b[0m\u001b[1;33m\u001b[0m\u001b[1;33m\u001b[0m\u001b[0m\n",
      "\u001b[1;31mFileNotFoundError\u001b[0m: [Errno 2] No such file or directory: 'pikachu.txt'"
     ]
    }
   ],
   "metadata": {}
  }
 ],
 "metadata": {
  "orig_nbformat": 4,
  "language_info": {
   "name": "python",
   "version": "3.9.6",
   "mimetype": "text/x-python",
   "codemirror_mode": {
    "name": "ipython",
    "version": 3
   },
   "pygments_lexer": "ipython3",
   "nbconvert_exporter": "python",
   "file_extension": ".py"
  },
  "kernelspec": {
   "name": "python3",
   "display_name": "Python 3.9.6 64-bit ('python_programering_Amal_Derbali-3tAF7EDp': pipenv)"
  },
  "interpreter": {
   "hash": "7d6c493d9be3ce9414559ad9bbf78b458bfd2ecad0291fac6402a6d619a9155a"
  }
 },
 "nbformat": 4,
 "nbformat_minor": 2
}