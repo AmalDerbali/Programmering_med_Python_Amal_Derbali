{
 "cells": [
  {
   "cell_type": "markdown",
   "source": [
    "# 1) Dice rolls"
   ],
   "metadata": {}
  },
  {
   "cell_type": "markdown",
   "source": [
    "# a)"
   ],
   "metadata": {}
  },
  {
   "cell_type": "code",
   "execution_count": 15,
   "source": [
    "dice_rolls = \"Files/dice_rolls.txt\" \r\n",
    "\r\n",
    "import random as rnd\r\n",
    "dices = [rnd.randint (1,6) for i in range (20)]\r\n",
    "print (f\"Simulate 20 dice rolls:\\n{dices}\")\r\n",
    "\r\n",
    "with open (dice_rolls, \"w\") as f:\r\n",
    "    f.write (f\"Simulate 20 dice rolls:\\n{dices} \\n\")\r\n",
    "\r\n",
    "\r\n",
    "\r\n"
   ],
   "outputs": [
    {
     "output_type": "stream",
     "name": "stdout",
     "text": [
      "Simulate 20 dice rolls:\n",
      "[4, 1, 4, 5, 1, 6, 6, 3, 4, 2, 3, 4, 6, 2, 2, 5, 5, 3, 5, 3]\n"
     ]
    }
   ],
   "metadata": {}
  },
  {
   "cell_type": "markdown",
   "source": [
    "# b)"
   ],
   "metadata": {}
  },
  {
   "cell_type": "code",
   "execution_count": 16,
   "source": [
    "\r\n",
    "dice_rolls = \"Files/dice_rolls.txt\"\r\n",
    "import random as rnd\r\n",
    "dices.sort()\r\n",
    "print (f\"Sorted dice rolls:\\n{dices}\")\r\n",
    "with open (dice_rolls, \"a\") as f1:\r\n",
    "    f1.write(f\"Sorted dice rolls:\\n{dices} \\n\")\r\n",
    "    "
   ],
   "outputs": [
    {
     "output_type": "stream",
     "name": "stdout",
     "text": [
      "Sorted dice rolls:\n",
      "[1, 1, 2, 2, 2, 3, 3, 3, 3, 4, 4, 4, 4, 5, 5, 5, 5, 6, 6, 6]\n"
     ]
    }
   ],
   "metadata": {}
  },
  {
   "cell_type": "markdown",
   "source": [
    "# c)"
   ],
   "metadata": {}
  },
  {
   "cell_type": "code",
   "execution_count": 17,
   "source": [
    "dice_rolls = \"Files/dice_rolls.txt\"\r\n",
    "import random as rnd\r\n",
    "num = dices.count (4)\r\n",
    "print (f\"Number of four is: {num}\")\r\n",
    "with open (dice_rolls, \"a\") as f2:\r\n",
    "    f2.write(f\"Number of four is: {num} \\n\")\r\n",
    "    "
   ],
   "outputs": [
    {
     "output_type": "stream",
     "name": "stdout",
     "text": [
      "Number of four is: 4\n"
     ]
    }
   ],
   "metadata": {}
  },
  {
   "cell_type": "markdown",
   "source": [
    "# 2) Test results"
   ],
   "metadata": {}
  },
  {
   "cell_type": "code",
   "execution_count": 26,
   "source": [
    "with open (\"Files/test_result.txt\", \"r\") as f:\r\n",
    "    text = f.read()\r\n",
    "print(repr(text))\r\n",
    "\r\n",
    "\r\n",
    "    "
   ],
   "outputs": [
    {
     "output_type": "stream",
     "name": "stdout",
     "text": [
      "'Adam Gustafsson 25\\nEmil Johansson 23\\nSven Erik Karlsson 13\\nOve Karlsten 41\\nEmma Boden 32\\nIda HÃ¥kansson 23\\nElla Ester 41\\nHanna Karlsson 23 \\nJohan Johansson 42\\nSven Erik Lundin 39\\nBjÃ¶rn BjÃ¶rnsson 39\\nKarl Karlsson 32\\nBose Bosseson 32\\nHÃ¥kan HÃ¥kanson 24\\nJonas Jonasson 31\\nErik Eriksson 31\\nGore Bord 55\\nJakob Kallander 65\\nFredrika Ulven 10orderorderorderorder'\n"
     ]
    }
   ],
   "metadata": {}
  },
  {
   "cell_type": "code",
   "execution_count": 27,
   "source": [
    "results = \"Files/test_result.txt\"\r\n",
    "with open (results, \"a\") as f1:\r\n",
    "    order = sorted (results)\r\n",
    "    f1.write(f\"order\")\r\n"
   ],
   "outputs": [],
   "metadata": {}
  }
 ],
 "metadata": {
  "orig_nbformat": 4,
  "language_info": {
   "name": "python",
   "version": "3.9.6",
   "mimetype": "text/x-python",
   "codemirror_mode": {
    "name": "ipython",
    "version": 3
   },
   "pygments_lexer": "ipython3",
   "nbconvert_exporter": "python",
   "file_extension": ".py"
  },
  "kernelspec": {
   "name": "python3",
   "display_name": "Python 3.9.6 64-bit ('python_programering_Amal_Derbali-3tAF7EDp': pipenv)"
  },
  "interpreter": {
   "hash": "7d6c493d9be3ce9414559ad9bbf78b458bfd2ecad0291fac6402a6d619a9155a"
  }
 },
 "nbformat": 4,
 "nbformat_minor": 2
}