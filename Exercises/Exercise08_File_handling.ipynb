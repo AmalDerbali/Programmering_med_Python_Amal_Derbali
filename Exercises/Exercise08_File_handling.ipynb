{
 "cells": [
  {
   "cell_type": "markdown",
   "source": [
    "# 1) Dice rolls"
   ],
   "metadata": {}
  },
  {
   "cell_type": "markdown",
   "source": [
    "# a)"
   ],
   "metadata": {}
  },
  {
   "cell_type": "code",
   "execution_count": 15,
   "source": [
    "dice_rolls = \"Files/dice_rolls.txt\" \r\n",
    "\r\n",
    "import random as rnd\r\n",
    "dices = [rnd.randint (1,6) for i in range (20)]\r\n",
    "print (f\"Simulate 20 dice rolls:\\n{dices}\")\r\n",
    "\r\n",
    "with open (dice_rolls, \"w\") as f:\r\n",
    "    f.write (f\"Simulate 20 dice rolls:\\n{dices} \\n\")\r\n",
    "\r\n",
    "\r\n",
    "\r\n"
   ],
   "outputs": [
    {
     "output_type": "stream",
     "name": "stdout",
     "text": [
      "Simulate 20 dice rolls:\n",
      "[4, 1, 4, 5, 1, 6, 6, 3, 4, 2, 3, 4, 6, 2, 2, 5, 5, 3, 5, 3]\n"
     ]
    }
   ],
   "metadata": {}
  },
  {
   "cell_type": "markdown",
   "source": [
    "# b)"
   ],
   "metadata": {}
  },
  {
   "cell_type": "code",
   "execution_count": 16,
   "source": [
    "\r\n",
    "dice_rolls = \"Files/dice_rolls.txt\"\r\n",
    "import random as rnd\r\n",
    "dices.sort()\r\n",
    "print (f\"Sorted dice rolls:\\n{dices}\")\r\n",
    "with open (dice_rolls, \"a\") as f1:\r\n",
    "    f1.write(f\"Sorted dice rolls:\\n{dices} \\n\")\r\n",
    "    "
   ],
   "outputs": [
    {
     "output_type": "stream",
     "name": "stdout",
     "text": [
      "Sorted dice rolls:\n",
      "[1, 1, 2, 2, 2, 3, 3, 3, 3, 4, 4, 4, 4, 5, 5, 5, 5, 6, 6, 6]\n"
     ]
    }
   ],
   "metadata": {}
  },
  {
   "cell_type": "markdown",
   "source": [
    "# c)"
   ],
   "metadata": {}
  },
  {
   "cell_type": "code",
   "execution_count": 17,
   "source": [
    "dice_rolls = \"Files/dice_rolls.txt\"\r\n",
    "import random as rnd\r\n",
    "num = dices.count (4)\r\n",
    "print (f\"Number of four is: {num}\")\r\n",
    "with open (dice_rolls, \"a\") as f2:\r\n",
    "    f2.write(f\"Number of four is: {num} \\n\")\r\n",
    "    "
   ],
   "outputs": [
    {
     "output_type": "stream",
     "name": "stdout",
     "text": [
      "Number of four is: 4\n"
     ]
    }
   ],
   "metadata": {}
  },
  {
   "cell_type": "markdown",
   "source": [
    "# 2) Test results"
   ],
   "metadata": {}
  },
  {
   "cell_type": "code",
   "execution_count": 13,
   "source": [
    "path =\"Files/test_results.txt\"\r\n",
    "\r\n",
    "with open (path, \"r\", encoding=\"utf-8\") as f, open(path, \"a\", encoding=\"utf-8\") as f1:\r\n",
    "    texts = [text.strip(\" \\n\") for text in f.readlines()]\r\n",
    "    print(texts)\r\n",
    "    texts.sort()\r\n",
    "    print(texts)\r\n",
    "    #f2.write(f\"{text}\")  # generate a list of strings: [a, b, c, ...]\r\n",
    "    \r\n",
    "    f1.write(\"\\n\\nSorted alphabetically: \\n\\n\")\r\n",
    "    for name in texts:\r\n",
    "        f1.write(f\"{name}\\n\")\r\n"
   ],
   "outputs": [
    {
     "output_type": "stream",
     "name": "stdout",
     "text": [
      "['Adam Gustafsson 25', 'Emil Johansson 23', 'Sven Erik Karlsson 13', 'Ove Karlsten 41', 'Emma Boden 32', 'Ida Håkansson 23', 'Ella Ester 41', 'Hanna Karlsson 23', 'Johan Johansson 42', 'Sven Erik Lundin 39', 'Björn Björnsson 39', 'Karl Karlsson 32', 'Bose Bosseson 32', 'Håkan Håkanson 24', 'Jonas Jonasson 31', 'Erik Eriksson 31', 'Gore Bord 55', 'Jakob Kallander 65', 'Fredrika Ulven 10Sorted alphabetically:', '', 'Adam Gustafsson 25', 'Björn Björnsson 39', 'Bose Bosseson 32', 'Ella Ester 41', 'Emil Johansson 23', 'Emma Boden 32', 'Erik Eriksson 31', 'Fredrika Ulven 10', 'Gore Bord 55', 'Hanna Karlsson 23', 'Håkan Håkanson 24', 'Ida Håkansson 23', 'Jakob Kallander 65', 'Johan Johansson 42', 'Jonas Jonasson 31', 'Karl Karlsson 32', 'Ove Karlsten 41', 'Sven Erik Karlsson 13', 'Sven Erik Lundin 39']\n",
      "['', 'Adam Gustafsson 25', 'Adam Gustafsson 25', 'Björn Björnsson 39', 'Björn Björnsson 39', 'Bose Bosseson 32', 'Bose Bosseson 32', 'Ella Ester 41', 'Ella Ester 41', 'Emil Johansson 23', 'Emil Johansson 23', 'Emma Boden 32', 'Emma Boden 32', 'Erik Eriksson 31', 'Erik Eriksson 31', 'Fredrika Ulven 10', 'Fredrika Ulven 10Sorted alphabetically:', 'Gore Bord 55', 'Gore Bord 55', 'Hanna Karlsson 23', 'Hanna Karlsson 23', 'Håkan Håkanson 24', 'Håkan Håkanson 24', 'Ida Håkansson 23', 'Ida Håkansson 23', 'Jakob Kallander 65', 'Jakob Kallander 65', 'Johan Johansson 42', 'Johan Johansson 42', 'Jonas Jonasson 31', 'Jonas Jonasson 31', 'Karl Karlsson 32', 'Karl Karlsson 32', 'Ove Karlsten 41', 'Ove Karlsten 41', 'Sven Erik Karlsson 13', 'Sven Erik Karlsson 13', 'Sven Erik Lundin 39', 'Sven Erik Lundin 39']\n"
     ]
    }
   ],
   "metadata": {}
  }
 ],
 "metadata": {
  "orig_nbformat": 4,
  "language_info": {
   "name": "python",
   "version": "3.9.6",
   "mimetype": "text/x-python",
   "codemirror_mode": {
    "name": "ipython",
    "version": 3
   },
   "pygments_lexer": "ipython3",
   "nbconvert_exporter": "python",
   "file_extension": ".py"
  },
  "kernelspec": {
   "name": "python3",
   "display_name": "Python 3.9.6 64-bit ('python_programering_Amal_Derbali-3tAF7EDp': pipenv)"
  },
  "interpreter": {
   "hash": "7d6c493d9be3ce9414559ad9bbf78b458bfd2ecad0291fac6402a6d619a9155a"
  }
 },
 "nbformat": 4,
 "nbformat_minor": 2
}