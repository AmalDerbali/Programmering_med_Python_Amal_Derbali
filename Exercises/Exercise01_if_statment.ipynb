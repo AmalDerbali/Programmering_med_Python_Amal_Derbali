{
 "cells": [
  {
   "cell_type": "markdown",
   "source": [
    "1- Check sign"
   ],
   "metadata": {}
  },
  {
   "cell_type": "code",
   "execution_count": 7,
   "source": [
    "num =int(input(\"Enter a number\"))\r\n",
    "if num >= 0:\r\n",
    "  if num == 0:\r\n",
    "      print (\"Zero\")\r\n",
    "  else:\r\n",
    "       print (\"Positive number\") \r\n",
    "else:\r\n",
    "     print (\"Negative number\")       \r\n"
   ],
   "outputs": [
    {
     "output_type": "stream",
     "name": "stdout",
     "text": [
      "Zero\n"
     ]
    }
   ],
   "metadata": {}
  },
  {
   "cell_type": "markdown",
   "source": [
    "2- Smallest"
   ],
   "metadata": {}
  },
  {
   "cell_type": "code",
   "execution_count": 9,
   "source": [
    "a = int(input(\"Enter a number\"))\r\n",
    "b = int(input(\"Enter anorther number\"))\r\n",
    "if a < b:\r\n",
    "    print (f\"{a}\")\r\n",
    "else:\r\n",
    "    print (f\"{b}\")\r\n"
   ],
   "outputs": [
    {
     "output_type": "stream",
     "name": "stdout",
     "text": [
      "2\n"
     ]
    }
   ],
   "metadata": {}
  },
  {
   "cell_type": "markdown",
   "source": [
    "3- Right angle"
   ],
   "metadata": {}
  },
  {
   "cell_type": "code",
   "execution_count": 14,
   "source": [
    "𝛼 = int(input(\"Write the first angle\"))\r\n",
    "𝛽 = int(input(\"Write the second angle\"))\r\n",
    "𝛾 = int(input(\"Write the third angle\"))\r\n",
    "\r\n",
    "if 𝛼 + 𝛽 + 𝛾 == 180 and (𝛼 == 90 or 𝛽 == 90 or 𝛾 == 90) :\r\n",
    "    print (\" the triangle has a right angle!\")\r\n",
    "else: \r\n",
    "    print (\"False! Type again!\")"
   ],
   "outputs": [
    {
     "output_type": "stream",
     "name": "stdout",
     "text": [
      "False! Type again!\n"
     ]
    }
   ],
   "metadata": {}
  },
  {
   "cell_type": "markdown",
   "source": [
    "4- Medicine"
   ],
   "metadata": {}
  },
  {
   "cell_type": "code",
   "execution_count": 18,
   "source": [
    "age = int(input(\"Enter your age (years)\"))\r\n",
    "weight = int(input(\"Enter your weight (kg)\"))\r\n",
    "\r\n",
    "if 3 <= age <= 7 or 15 <= weight <= 25:\r\n",
    "    print (\"You can take 1/2 pill\")\r\n",
    "elif 7 < age <= 12 or 26 <= weight <= 40:\r\n",
    "    print (\"You can take 1/2-1 pills\")\r\n",
    "elif age > 12 or weight > 40:\r\n",
    "    print (\"You can take 1-2 pills\")\r\n",
    "else:\r\n",
    "    print (\"The medicine is forbidden\")\r\n"
   ],
   "outputs": [
    {
     "output_type": "stream",
     "name": "stdout",
     "text": [
      "You can take 1/2-1 pills\n"
     ]
    }
   ],
   "metadata": {}
  },
  {
   "cell_type": "markdown",
   "source": [
    "5- Devisible"
   ],
   "metadata": {}
  },
  {
   "cell_type": "code",
   "execution_count": 31,
   "source": [
    "number = int(input(\"Type a number\"))\r\n",
    "\r\n",
    "if number % 2 == 0:\r\n",
    "    print (\"This number is even\")\r\n",
    "else:\r\n",
    "    print (\"This number is odd\")\r\n",
    "\r\n",
    "if number % 5 == 0:\r\n",
    "    print (\"This number is devisible by 5\")\r\n",
    "else:\r\n",
    "    print (\"this number is not divisible by 5\")\r\n",
    "\r\n",
    "if number % 2 != 0 and number % 5 == 0:\r\n",
    "    print (\"This number is devisible by 5 and odd\")\r\n"
   ],
   "outputs": [
    {
     "output_type": "stream",
     "name": "stdout",
     "text": [
      "This number is even\n",
      "This number is devisible by 5\n"
     ]
    }
   ],
   "metadata": {}
  },
  {
   "cell_type": "markdown",
   "source": [
    "6- Luggage size"
   ],
   "metadata": {}
  },
  {
   "cell_type": "code",
   "execution_count": 32,
   "source": [
    "weight = int(input(\"Enter the weight of the luggage please\"))\r\n",
    "length=int(input(\"Enter the length of the luggage\"))\r\n",
    "width=int(input(\"Enter the width of the luggage \"))\r\n",
    "height=int(input(\"Enter the height of the luggage\"))\r\n",
    "\r\n",
    "if weight <= 8 and length <= 55 and width <= 40 and height <= 23:\r\n",
    "    print (\"The luggage is allowed on board\")\r\n",
    "else:\r\n",
    "    print (\"The luggage is not allowed on board\")"
   ],
   "outputs": [
    {
     "output_type": "stream",
     "name": "stdout",
     "text": [
      "The luggage is not allowed on board\n"
     ]
    }
   ],
   "metadata": {}
  }
 ],
 "metadata": {
  "orig_nbformat": 4,
  "language_info": {
   "name": "python",
   "version": "3.9.6",
   "mimetype": "text/x-python",
   "codemirror_mode": {
    "name": "ipython",
    "version": 3
   },
   "pygments_lexer": "ipython3",
   "nbconvert_exporter": "python",
   "file_extension": ".py"
  },
  "kernelspec": {
   "name": "python3",
   "display_name": "Python 3.9.6 64-bit"
  },
  "interpreter": {
   "hash": "eacaffae8a739d4b7c9a2bb010540ab3fb2fd534d4d9d1bb6421b24cb8b2e27c"
  }
 },
 "nbformat": 4,
 "nbformat_minor": 2
}