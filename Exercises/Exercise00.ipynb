{
 "cells": [
  {
   "cell_type": "markdown",
   "source": [
    "1- Pythogorean theorem "
   ],
   "metadata": {}
  },
  {
   "cell_type": "code",
   "execution_count": 5,
   "source": [
    "a=3\r\n",
    "b=4\r\n",
    "c=(a**2 + b**2)**0.5\r\n",
    "print(f\"The hypothenuse of the triangle is {c} length units.\")"
   ],
   "outputs": [
    {
     "output_type": "stream",
     "name": "stdout",
     "text": [
      "The hypothenuse of the triangle is 5.0 length units.\n"
     ]
    }
   ],
   "metadata": {}
  },
  {
   "cell_type": "code",
   "execution_count": 6,
   "source": [
    "a=5\r\n",
    "c=7\r\n",
    "b=(c**2 - a**2)**0.5\r\n",
    "print(f\"The cathetus b is {b} length units.\")"
   ],
   "outputs": [
    {
     "output_type": "stream",
     "name": "stdout",
     "text": [
      "The cathetus b is 4.898979485566356 length units.\n"
     ]
    }
   ],
   "metadata": {}
  },
  {
   "cell_type": "markdown",
   "source": [
    "2- Classification accuracy"
   ],
   "metadata": {}
  },
  {
   "cell_type": "code",
   "execution_count": 11,
   "source": [
    "p1=365\r\n",
    "p2=300\r\n",
    "Accuracy= (p2/p1)*100\r\n",
    "print(f\"The accuracy is {Accuracy}.\")"
   ],
   "outputs": [
    {
     "output_type": "stream",
     "name": "stdout",
     "text": [
      "The accuracy is 82.1917808219178.\n"
     ]
    }
   ],
   "metadata": {}
  },
  {
   "cell_type": "markdown",
   "source": [
    "3- Classification accuracy"
   ],
   "metadata": {}
  },
  {
   "cell_type": "code",
   "execution_count": 8,
   "source": [
    "TP=2\r\n",
    "FP=2\r\n",
    "FN=11\r\n",
    "TN=985\r\n",
    "Accuracy=(TP+TN)/(TP+TN+FP+FN)\r\n",
    "print(f\"The accuracy is {Accuracy}.\")"
   ],
   "outputs": [
    {
     "output_type": "stream",
     "name": "stdout",
     "text": [
      "The accuracy is 0.987.\n"
     ]
    }
   ],
   "metadata": {}
  },
  {
   "cell_type": "markdown",
   "source": [
    "4- Line"
   ],
   "metadata": {}
  },
  {
   "cell_type": "code",
   "execution_count": 14,
   "source": [
    "x1=0\r\n",
    "x2=4\r\n",
    "y1=1\r\n",
    "y2=4\r\n",
    "m=1\r\n",
    "k=(y1-y2)/(x1-x2)\r\n",
    "print(f\"The constant term m={m} and the slope k={k}.\")"
   ],
   "outputs": [
    {
     "output_type": "stream",
     "name": "stdout",
     "text": [
      "The constant term m=1 and the slope k=0.75.\n"
     ]
    }
   ],
   "metadata": {}
  },
  {
   "cell_type": "markdown",
   "source": [
    "5- Euclidean distance"
   ],
   "metadata": {}
  },
  {
   "cell_type": "code",
   "execution_count": 16,
   "source": [
    "x1=3\r\n",
    "x2=-2\r\n",
    "y1=5\r\n",
    "y2=4\r\n",
    "distance=((x1-x2)**2 + (y1-y2)**2)**0.5\r\n",
    "print(f\"The distance is {distance}.\")"
   ],
   "outputs": [
    {
     "output_type": "stream",
     "name": "stdout",
     "text": [
      "The distance is 5.0990195135927845.\n"
     ]
    }
   ],
   "metadata": {}
  },
  {
   "cell_type": "markdown",
   "source": [
    "6- Euclidean distance in 3D"
   ],
   "metadata": {}
  },
  {
   "cell_type": "code",
   "execution_count": 17,
   "source": [
    "x1=2\r\n",
    "y1=1\r\n",
    "z1=4\r\n",
    "x2=3\r\n",
    "y2=1\r\n",
    "z2=0\r\n",
    "distance=((x1-x2)**2+(y1-y2)**2+(z1-z2)**2)**0.5\r\n",
    "print(f\"The distance is {distance}.\")"
   ],
   "outputs": [
    {
     "output_type": "stream",
     "name": "stdout",
     "text": [
      "The distance is 4.123105625617661.\n"
     ]
    }
   ],
   "metadata": {}
  }
 ],
 "metadata": {
  "orig_nbformat": 4,
  "language_info": {
   "name": "python",
   "version": "3.9.6",
   "mimetype": "text/x-python",
   "codemirror_mode": {
    "name": "ipython",
    "version": 3
   },
   "pygments_lexer": "ipython3",
   "nbconvert_exporter": "python",
   "file_extension": ".py"
  },
  "kernelspec": {
   "name": "python3",
   "display_name": "Python 3.9.6 64-bit"
  },
  "interpreter": {
   "hash": "eacaffae8a739d4b7c9a2bb010540ab3fb2fd534d4d9d1bb6421b24cb8b2e27c"
  }
 },
 "nbformat": 4,
 "nbformat_minor": 2
}